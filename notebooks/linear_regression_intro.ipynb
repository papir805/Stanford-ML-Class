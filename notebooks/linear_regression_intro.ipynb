{
 "cells": [
  {
   "cell_type": "markdown",
   "id": "00fd2913-50d0-4560-b1ce-7e77df98a5b8",
   "metadata": {
    "id": "00fd2913-50d0-4560-b1ce-7e77df98a5b8",
    "tags": []
   },
   "source": [
    "# Introduction\n",
    "\n",
    "The goal of this notebook is to use data to understand the relationship between square footage of a dwelling and the dwelling's price.  AS we know, the size of a home is often one of the best predictors of the home price, especially when comparing homes in the general neighborhood.\n",
    "\n",
    "The type of data you plan on using heavily influences the type of algorithm that's available to use. Additionally, it's usually a good idea to visualize the data before making any decision about what kind of algorithm to use.\n",
    "\n",
    "First, let's import the necessary modules and then read in the data."
   ]
  },
  {
   "cell_type": "markdown",
   "id": "62bfca66-8a6d-401a-9e3e-d3f6d6ee8338",
   "metadata": {
    "id": "62bfca66-8a6d-401a-9e3e-d3f6d6ee8338"
   },
   "source": [
    "## Important Python Libraries for Data Science"
   ]
  },
  {
   "cell_type": "code",
   "execution_count": 1,
   "id": "a195ba0e-ea08-4c2c-9248-d10b918f89c7",
   "metadata": {
    "id": "a195ba0e-ea08-4c2c-9248-d10b918f89c7"
   },
   "outputs": [],
   "source": [
    "# For organizing and manipulating data\n",
    "import numpy as np\n",
    "import pandas as pd\n",
    "\n",
    "# For plotting graphs\n",
    "import matplotlib.pyplot as plt\n",
    "\n",
    "# For training the model\n",
    "from sklearn import linear_model\n",
    "\n",
    "# For evaluating model performance\n",
    "from sklearn.metrics import mean_squared_error\n",
    "from sklearn.feature_selection import r_regression"
   ]
  },
  {
   "cell_type": "markdown",
   "id": "49d43137-9763-40c9-b221-db814c5416f6",
   "metadata": {
    "id": "49d43137-9763-40c9-b221-db814c5416f6"
   },
   "source": [
    "# Read Data"
   ]
  },
  {
   "cell_type": "code",
   "execution_count": 2,
   "id": "cb1f3ef0-bfae-40e5-8c77-b50b6af0c555",
   "metadata": {
    "id": "cb1f3ef0-bfae-40e5-8c77-b50b6af0c555"
   },
   "outputs": [],
   "source": [
    "# Load the data set.\n",
    "dataset_url = \"https://raw.githubusercontent.com/papir805/Stanford-ML-Class/master/data/housing_data.csv\"\n",
    "\n",
    "# Use the first column in the .csv file as the dataframe's index\n",
    "df = pd.read_csv(dataset_url, index_col=0)"
   ]
  },
  {
   "cell_type": "code",
   "execution_count": 3,
   "id": "1TK2PDBnT-LF",
   "metadata": {
    "colab": {
     "base_uri": "https://localhost:8080/",
     "height": 206
    },
    "id": "1TK2PDBnT-LF",
    "outputId": "249c7b9d-2ced-4e1c-fea7-991b5e73c566"
   },
   "outputs": [
    {
     "data": {
      "text/html": [
       "<div>\n",
       "<style scoped>\n",
       "    .dataframe tbody tr th:only-of-type {\n",
       "        vertical-align: middle;\n",
       "    }\n",
       "\n",
       "    .dataframe tbody tr th {\n",
       "        vertical-align: top;\n",
       "    }\n",
       "\n",
       "    .dataframe thead th {\n",
       "        text-align: right;\n",
       "    }\n",
       "</style>\n",
       "<table border=\"1\" class=\"dataframe\">\n",
       "  <thead>\n",
       "    <tr style=\"text-align: right;\">\n",
       "      <th></th>\n",
       "      <th>sq_ft (in hundreds)</th>\n",
       "      <th>price (in thousands)</th>\n",
       "    </tr>\n",
       "  </thead>\n",
       "  <tbody>\n",
       "    <tr>\n",
       "      <th>0</th>\n",
       "      <td>11.77</td>\n",
       "      <td>217.21</td>\n",
       "    </tr>\n",
       "    <tr>\n",
       "      <th>1</th>\n",
       "      <td>15.39</td>\n",
       "      <td>256.29</td>\n",
       "    </tr>\n",
       "    <tr>\n",
       "      <th>2</th>\n",
       "      <td>16.89</td>\n",
       "      <td>275.05</td>\n",
       "    </tr>\n",
       "    <tr>\n",
       "      <th>3</th>\n",
       "      <td>9.09</td>\n",
       "      <td>137.80</td>\n",
       "    </tr>\n",
       "    <tr>\n",
       "      <th>4</th>\n",
       "      <td>13.46</td>\n",
       "      <td>234.13</td>\n",
       "    </tr>\n",
       "  </tbody>\n",
       "</table>\n",
       "</div>"
      ],
      "text/plain": [
       "   sq_ft (in hundreds)  price (in thousands)\n",
       "0                11.77                217.21\n",
       "1                15.39                256.29\n",
       "2                16.89                275.05\n",
       "3                 9.09                137.80\n",
       "4                13.46                234.13"
      ]
     },
     "execution_count": 3,
     "metadata": {},
     "output_type": "execute_result"
    }
   ],
   "source": [
    "# Check data loaded correctly\n",
    "df.head()"
   ]
  },
  {
   "cell_type": "code",
   "execution_count": 4,
   "id": "9i3Gq06iUDjo",
   "metadata": {
    "colab": {
     "base_uri": "https://localhost:8080/"
    },
    "id": "9i3Gq06iUDjo",
    "outputId": "f9b82655-3dae-4d51-b01b-4767187178e5"
   },
   "outputs": [
    {
     "data": {
      "text/plain": [
       "500"
      ]
     },
     "execution_count": 4,
     "metadata": {},
     "output_type": "execute_result"
    }
   ],
   "source": [
    "# How big is this data set?  That is, what is its length?\n",
    "len(df)"
   ]
  },
  {
   "cell_type": "code",
   "execution_count": 5,
   "id": "535a2315-03f9-4491-ae7b-f9dafc6ac6c7",
   "metadata": {
    "id": "535a2315-03f9-4491-ae7b-f9dafc6ac6c7"
   },
   "outputs": [],
   "source": [
    "# Store label names for x and y\n",
    "x_label = 'sq_ft (in hundreds)'\n",
    "y_label = 'price (in thousands)'"
   ]
  },
  {
   "cell_type": "markdown",
   "id": "28b254e1-1ba6-4964-ad18-8345190da8c5",
   "metadata": {
    "id": "28b254e1-1ba6-4964-ad18-8345190da8c5"
   },
   "source": [
    "## Visualizing the Data"
   ]
  },
  {
   "cell_type": "code",
   "execution_count": 6,
   "id": "0c01cb65-b66f-40cc-8912-65e2409f80f2",
   "metadata": {
    "colab": {
     "base_uri": "https://localhost:8080/",
     "height": 472
    },
    "id": "0c01cb65-b66f-40cc-8912-65e2409f80f2",
    "outputId": "45c3ca0e-977f-46c7-eea2-58c96a55cdd8"
   },
   "outputs": [
    {
     "data": {
      "image/png": "[encoded data removed]",
      "text/plain": [
       "<Figure size 640x480 with 1 Axes>"
      ]
     },
     "metadata": {},
     "output_type": "display_data"
    }
   ],
   "source": [
    "# Create figure and axis for graphing\n",
    "# We are using commands that are available through the library \"matplotlib\"\n",
    "fig, ax = plt.subplots(1, 1)\n",
    "\n",
    "# Scatter plot of housing data\n",
    "ax.scatter(x=df[x_label], y=df[y_label])\n",
    "ax.set_xlabel(x_label)\n",
    "ax.set_ylabel(y_label)\n",
    "ax.set_title('Square Footage vs. Housing Price');"
   ]
  },
  {
   "cell_type": "markdown",
   "id": "858b6e9a-e4d1-4842-b815-4d5edea3cc8f",
   "metadata": {
    "id": "858b6e9a-e4d1-4842-b815-4d5edea3cc8f"
   },
   "source": [
    "After visualizing the data, we no longer have to speculate about whether a relationship exists within our dataset; it's clear there's some kind of relationship between the square footage of a dwelling and its price.  More specifically, as the square footage of a dwelling goes up, the price of that dwelling tends to go up as well."
   ]
  },
  {
   "cell_type": "markdown",
   "id": "d4733f45-4552-4a21-b72f-576d9e70057e",
   "metadata": {
    "id": "d4733f45-4552-4a21-b72f-576d9e70057e"
   },
   "source": [
    "# Why Linear Regression?"
   ]
  },
  {
   "cell_type": "markdown",
   "id": "ef6ac8e2-eb91-4257-aa17-9026b2082774",
   "metadata": {
    "id": "ef6ac8e2-eb91-4257-aa17-9026b2082774"
   },
   "source": [
    "Whenever a relationship in the data exists, regression is one common statistical tools that's available to help understand it.  Furthermore, regression can also be used to make predictions about unseen data, for instance predicting the price of a new dwelling based on it's square footage.  \n",
    "\n",
    "Since it stands to reason that there's a relationship between the square footage of a property and its value, regression is probably a good choice.  However, the type of regression one choses to use depends on several factors.  \n",
    "\n",
    "Linear regression is able to use any number of qualitative or quantitative inputs to predict a quantitative output.  **It can only predict a quantitative output**.  Because our goal is to predict the price of a dwelling, which is quantitative, linear regression can be used.  \n",
    "\n",
    "**Note**: Using qualitative inputs involves a little more effort than quantitative inputs.  Also, using more than one input, whether qualitative or quantitative, adds complexity.  This notebook will first consider the simplest case of linear regression, when there's a single quantitative input, which in this case will be the square footage of a dwelling.  However, sections will be added to the notebook later to discuss how to deal with these situations.\n",
    "\n",
    "Secondly, linear regression is most suited when the relationship between your inputs and outputs is...well, linear.  The scatter plot shows most of the points are clumped together in a linear fashion.  In other words, one could draw a line through the \"center\" of the points and most of the points would be pretty close to that line.  \n",
    "\n",
    "In situations like these, where the data shows a linear pattern and when one wants to predict a single qualitative output, linear regression is appropriate.  From a mathematical standpoint, there are several more conditions to check before linear regression can be considered statistically sound enough for use, but these are beyond the scope of this notebook."
   ]
  },
  {
   "cell_type": "markdown",
   "id": "24505da9-b5af-4993-b26e-d65283958aa3",
   "metadata": {
    "id": "24505da9-b5af-4993-b26e-d65283958aa3"
   },
   "source": [
    "# Training the Linear Regression Model\n",
    "\n",
    "In the case of using a single input (x) to predict a qualitative output (y), the model will look like your friendly linear function from algebra class in high school: $$y=m \\cdot x+b$$\n",
    "\n",
    "However, because most datasets are incomplete, it's unlikely one will ever have enough information to create a linear model that's the most accurate representation of your data.  Without complete data, you won't know what the slope or the y-intercept should be.  That being said, the goal isn't to go for exactness or perfection, but opt for estimation instead, which is why the model is more commonly written in this form: $$\\hat y = \\beta_1 \\cdot x + \\beta_0$$\n",
    "\n",
    "where $\\hat y$ represents the **predicted** output and $\\beta_1$ and $\\beta_0$ represent the **estimated** slope and **estimated** y-intercept, respectively.  "
   ]
  },
  {
   "cell_type": "code",
   "execution_count": 7,
   "id": "ebb9fbe8-4c41-4e77-969b-3eb4224a48cf",
   "metadata": {
    "colab": {
     "base_uri": "https://localhost:8080/"
    },
    "id": "ebb9fbe8-4c41-4e77-969b-3eb4224a48cf",
    "outputId": "f7589a4c-04b0-494c-bd9d-4e174b7a6602"
   },
   "outputs": [
    {
     "name": "stdout",
     "output_type": "stream",
     "text": [
      "Estimated Slope: 15.73\n",
      "Estimated y-intercept: 17.93\n"
     ]
    }
   ],
   "source": [
    "# Create linear regression object\n",
    "lin_reg_model = linear_model.LinearRegression()\n",
    "\n",
    "# Train the model using the training dataset\n",
    "lin_reg_model = lin_reg_model.fit(df[[x_label]], df[[y_label]])\n",
    "\n",
    "# The slope\n",
    "beta_1 = lin_reg_model.coef_[0][0]\n",
    "print(f\"Estimated Slope: {beta_1:.2f}\")\n",
    "\n",
    "# The y-intercept\n",
    "beta_0 = lin_reg_model.intercept_[0]\n",
    "print(f\"Estimated y-intercept: {beta_0:.2f}\")"
   ]
  },
  {
   "cell_type": "markdown",
   "id": "68435fff-4392-4a3e-b302-9b865fc7f0a4",
   "metadata": {
    "id": "68435fff-4392-4a3e-b302-9b865fc7f0a4"
   },
   "source": [
    "Based on the training data, the model has estimated the slope and y-intercept.  Using the values from above, the model will look like: $$\\hat y = 15.73x + 17.93$$\n",
    "\n",
    "The positive slope indicates a positive relationship between x (sq_ft in hundreds) and y (price in thousands).  This was observed earlier in the scatter plot when it was noted that as the square footage of a dwelling increased, the price of that dwelling tended to increase too.  \n",
    "\n",
    "In linear regression, the slope means that for every increase in one unit of x will increase y by an amount equal to the slope.  For this example, a slope of 15.73 means when the sq_ft is increased by 1 (hundred), the price increases by 15.73 (thousand).  \n",
    "\n",
    "The y-intercept tells you what the predicted y-value is when x is 0.  In this case, the y-intercept predicts that when the square footage of a dwelling is 0 (hundred), the price is estimated to be 17.93 (thousand)."
   ]
  },
  {
   "cell_type": "markdown",
   "id": "ad8b22b2-1f83-4b80-b44c-962a34678a94",
   "metadata": {
    "id": "ad8b22b2-1f83-4b80-b44c-962a34678a94"
   },
   "source": [
    "# Evaluating model performance"
   ]
  },
  {
   "cell_type": "markdown",
   "id": "02c0adcd-03c0-4cf6-b1c5-abb52a4d7a0a",
   "metadata": {
    "id": "46b59918-d9d1-47bc-874b-6ff12a6f3eed"
   },
   "source": [
    "## Making Predictions\n",
    "\n",
    "Now that the model has been trained, it can be used to make predictions.\n",
    "\n",
    "We will define two new variables to be see how well the model works.  The first is y_predicted, which will have the predicted value from the the model.  The second is y_true, which is simply a copy of the original data point from the data set we loaded."
   ]
  },
  {
   "cell_type": "code",
   "execution_count": 8,
   "id": "b8f8c063-9833-4e9f-afbe-ec3b9ea464a8",
   "metadata": {},
   "outputs": [],
   "source": [
    "y_predicted = 'predicted_price (in thousands)'\n",
    "y_true = 'true_price (in thousands)'"
   ]
  },
  {
   "cell_type": "code",
   "execution_count": 9,
   "id": "d08f3131-8b64-40c3-ba67-ea250055803a",
   "metadata": {},
   "outputs": [
    {
     "data": {
      "text/html": [
       "<div>\n",
       "<style scoped>\n",
       "    .dataframe tbody tr th:only-of-type {\n",
       "        vertical-align: middle;\n",
       "    }\n",
       "\n",
       "    .dataframe tbody tr th {\n",
       "        vertical-align: top;\n",
       "    }\n",
       "\n",
       "    .dataframe thead th {\n",
       "        text-align: right;\n",
       "    }\n",
       "</style>\n",
       "<table border=\"1\" class=\"dataframe\">\n",
       "  <thead>\n",
       "    <tr style=\"text-align: right;\">\n",
       "      <th></th>\n",
       "      <th>sq_ft (in hundreds)</th>\n",
       "      <th>true_price (in thousands)</th>\n",
       "      <th>predicted_price (in thousands)</th>\n",
       "    </tr>\n",
       "  </thead>\n",
       "  <tbody>\n",
       "    <tr>\n",
       "      <th>0</th>\n",
       "      <td>11.77</td>\n",
       "      <td>217.21</td>\n",
       "      <td>203.03</td>\n",
       "    </tr>\n",
       "    <tr>\n",
       "      <th>1</th>\n",
       "      <td>15.39</td>\n",
       "      <td>256.29</td>\n",
       "      <td>259.96</td>\n",
       "    </tr>\n",
       "    <tr>\n",
       "      <th>2</th>\n",
       "      <td>16.89</td>\n",
       "      <td>275.05</td>\n",
       "      <td>283.55</td>\n",
       "    </tr>\n",
       "    <tr>\n",
       "      <th>3</th>\n",
       "      <td>9.09</td>\n",
       "      <td>137.80</td>\n",
       "      <td>160.88</td>\n",
       "    </tr>\n",
       "    <tr>\n",
       "      <th>4</th>\n",
       "      <td>13.46</td>\n",
       "      <td>234.13</td>\n",
       "      <td>229.60</td>\n",
       "    </tr>\n",
       "  </tbody>\n",
       "</table>\n",
       "</div>"
      ],
      "text/plain": [
       "   sq_ft (in hundreds)  true_price (in thousands)  \\\n",
       "0                11.77                     217.21   \n",
       "1                15.39                     256.29   \n",
       "2                16.89                     275.05   \n",
       "3                 9.09                     137.80   \n",
       "4                13.46                     234.13   \n",
       "\n",
       "   predicted_price (in thousands)  \n",
       "0                          203.03  \n",
       "1                          259.96  \n",
       "2                          283.55  \n",
       "3                          160.88  \n",
       "4                          229.60  "
      ]
     },
     "execution_count": 9,
     "metadata": {},
     "output_type": "execute_result"
    }
   ],
   "source": [
    "# Make predictions\n",
    "predictions = lin_reg_model.predict(df[[x_label]])\n",
    "predictions = np.round(predictions, 2)\n",
    "\n",
    "# Store results in dataframe\n",
    "results_df = pd.DataFrame({x_label:df[x_label],\n",
    "                                y_true:df[y_label],\n",
    "                                y_predicted:predictions.flatten()})\n",
    "results_df.head()"
   ]
  },
  {
   "cell_type": "markdown",
   "id": "7c214331-14a2-4552-88e0-33448e8793cf",
   "metadata": {
    "id": "cbfebe8d-6798-45c4-a765-994b18d0c247"
   },
   "source": [
    "Remembering the linear model from earlier, the results_df from above can be explained.  For the first entry, $\\text{sq_ft}=11.77$ hundred.  Plugging this value into the model would look as follows:\n",
    "\n",
    "$$\\hat y = 15.73x + 17.93$$\n",
    "\n",
    "$$\\hat y = 15.73(11.77) + 17.93$$\n",
    "\n",
    "$$\\hat y = 203.03$$\n",
    "\n",
    "The result is the predicted price of 203.03 thousand, however the true price was $y=217.21$ thousand.  Doing this for every sq_ft value in the dataset leads to many $(x, \\hat y)$ pairs, the sq_ft and a *predicted* price, which can then be graphed and compared to the $(x, y)$ pairs from the dataset itself, representing the sq_ft in hundreds and the *true* price in thousands."
   ]
  },
  {
   "cell_type": "markdown",
   "id": "9e9ff4a7-a6d0-4bf0-a46b-44a837e6f1e0",
   "metadata": {
    "id": "9e9ff4a7-a6d0-4bf0-a46b-44a837e6f1e0"
   },
   "source": [
    "## Visualizing the Linear Model's Fit\n",
    "\n",
    "In the graph below, each point on the red line represents the $(x, \\hat y)$ pairs  containing the predicted prices, while the blue dots represent the $(x, y)$ pairs have the actual prices.  "
   ]
  },
  {
   "cell_type": "code",
   "execution_count": 10,
   "id": "5cfd5b70-e71e-405b-8a26-c60c40749d5f",
   "metadata": {
    "colab": {
     "base_uri": "https://localhost:8080/",
     "height": 474
    },
    "id": "5cfd5b70-e71e-405b-8a26-c60c40749d5f",
    "outputId": "8fd93921-4ea8-4fae-f024-4bd9511632ad"
   },
   "outputs": [
    {
     "data": {
      "image/png": "[encoded data removed]",
      "text/plain": [
       "<Figure size 640x480 with 1 Axes>"
      ]
     },
     "metadata": {},
     "output_type": "display_data"
    }
   ],
   "source": [
    "# Number of data points\n",
    "sample_size = df[[x_label]].shape[0]\n",
    "\n",
    "# Create figure and axis for graphing\n",
    "fig, ax = plt.subplots(1, 1)\n",
    "\n",
    "# Scatter plot of data\n",
    "ax.scatter(x=df[[x_label]], y=df[[y_label]], label='Actual')\n",
    "\n",
    "# Linear model's trend line\n",
    "ax.plot(df[[x_label]], predictions, color='r', label='predicted', alpha=0.6)\n",
    "\n",
    "ax.set_title(f'Training Data: Actual vs. Predicted Values ($n={sample_size})$')\n",
    "ax.set_xlabel(x_label)\n",
    "ax.set_ylabel(y_label)\n",
    "ax.legend();"
   ]
  },
  {
   "cell_type": "markdown",
   "id": "b82f1452-3756-45a1-8b51-b24e42e4f05f",
   "metadata": {
    "id": "b82f1452-3756-45a1-8b51-b24e42e4f05f"
   },
   "source": [
    "The scatter plot now shows the regression line and it fits the dataset reasonably well.  Most of the points are clumped around that line.  "
   ]
  },
  {
   "cell_type": "markdown",
   "id": "1dae1355-2c46-452e-9a98-ea66102facaa",
   "metadata": {
    "id": "1dae1355-2c46-452e-9a98-ea66102facaa"
   },
   "source": [
    "# Conclusion"
   ]
  },
  {
   "cell_type": "markdown",
   "id": "db2f68de-9c1b-4225-b271-915709abcfbe",
   "metadata": {
    "id": "db2f68de-9c1b-4225-b271-915709abcfbe"
   },
   "source": []
  }
 ],
 "metadata": {
  "colab": {
   "provenance": []
  },
  "jupytext": {
   "formats": "ipynb,py:percent"
  },
  "kernelspec": {
   "display_name": "Python 3 (ipykernel)",
   "language": "python",
   "name": "python3"
  },
  "language_info": {
   "codemirror_mode": {
    "name": "ipython",
    "version": 3
   },
   "file_extension": ".py",
   "mimetype": "text/x-python",
   "name": "python",
   "nbconvert_exporter": "python",
   "pygments_lexer": "ipython3",
   "version": "3.11.7"
  }
 },
 "nbformat": 4,
 "nbformat_minor": 5
}
