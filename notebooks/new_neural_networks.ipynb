{
 "cells": [
  {
   "cell_type": "markdown",
   "id": "82f4cd94-e375-47cc-9869-6feec640f576",
   "metadata": {},
   "source": [
    "# Introduction"
   ]
  },
  {
   "cell_type": "markdown",
   "id": "466c3ffc-cb52-4a6d-8f50-87c02b3318d6",
   "metadata": {},
   "source": [
    "## Download dataset and custom Python modules"
   ]
  },
  {
   "cell_type": "code",
   "execution_count": 1,
   "id": "8191a14b-9e34-476c-acfe-b44556c3c494",
   "metadata": {},
   "outputs": [
    {
     "name": "stdout",
     "output_type": "stream",
     "text": [
      "fatal: destination path 'Stanford-ML-Class' already exists and is not an empty directory.\n"
     ]
    }
   ],
   "source": [
    "# Clone repo containing MNIST data and the neural network modules\n",
    "!git clone -b neural_net_dev https://github.com/papir805/Stanford-ML-Class.git"
   ]
  },
  {
   "cell_type": "code",
   "execution_count": 2,
   "id": "893c58fe-ed8c-4ea3-9417-b5f676ea4516",
   "metadata": {},
   "outputs": [],
   "source": [
    "import os\n",
    "import sys\n",
    "\n",
    "gh_dir = os.getcwd()+'/Stanford-ML-Class'\n",
    "\n",
    "# Specify where Python should look when importing custom modules\n",
    "import sys\n",
    "sys.path.insert(0,gh_dir+'/notebooks/neural_network_scripts')"
   ]
  },
  {
   "cell_type": "markdown",
   "id": "eab69436-d08e-404d-8358-a02e97560cc0",
   "metadata": {},
   "source": [
    "## Important Python Libraries for Data Science"
   ]
  },
  {
   "cell_type": "code",
   "execution_count": 3,
   "id": "eb250f62-c187-4142-9165-67685b728590",
   "metadata": {},
   "outputs": [],
   "source": [
    "# For organizing and manipulating data\n",
    "import numpy as np\n",
    "\n",
    "# For Plotting\n",
    "import matplotlib.pyplot as plt\n",
    "import cv2\n",
    "\n",
    "# Import custom neural network modules\n",
    "import mnist_loader\n",
    "import network\n",
    "import image_processing\n",
    "import plotting"
   ]
  },
  {
   "cell_type": "markdown",
   "id": "eb1f6496-4830-4865-90ca-16120cf0a8d5",
   "metadata": {},
   "source": [
    "# Read Data"
   ]
  },
  {
   "cell_type": "code",
   "execution_count": 4,
   "id": "c8f389fa-e3f3-429d-b3e3-72c72fd19464",
   "metadata": {},
   "outputs": [],
   "source": [
    "# Load datasets\n",
    "file_path = gh_dir+\"/data/mnist.pkl.gz\"\n",
    "# Load datasets\n",
    "training_data, validation_data, test_data = \\\n",
    "mnist_loader.load_data_wrapper(file_path)"
   ]
  },
  {
   "cell_type": "markdown",
   "id": "c57f65ef-a539-4b80-9145-a87a931bb548",
   "metadata": {},
   "source": [
    "## Visualizing the Dataset"
   ]
  },
  {
   "cell_type": "markdown",
   "id": "90812c9a-a722-4264-82b5-7ceb37e08283",
   "metadata": {},
   "source": [
    "### The First Digit From the Training Dataset"
   ]
  },
  {
   "cell_type": "code",
   "execution_count": 5,
   "id": "06038c12-1984-442a-9363-a4c072e339e6",
   "metadata": {
    "scrolled": true
   },
   "outputs": [
    {
     "data": {
      "image/png": "[encoded data removed]",
      "text/plain": [
       "<Figure size 640x480 with 1 Axes>"
      ]
     },
     "metadata": {},
     "output_type": "display_data"
    }
   ],
   "source": [
    "first_digit = training_data[0][0]\n",
    "\n",
    "image_processing.print_image(first_digit)"
   ]
  },
  {
   "cell_type": "markdown",
   "id": "282ada57-f764-451c-bc55-a0f69903691a",
   "metadata": {},
   "source": [
    "### The Second Digit From the Training Dataset"
   ]
  },
  {
   "cell_type": "code",
   "execution_count": 6,
   "id": "1dbd799b-8c17-4522-89f1-baee4efe76dd",
   "metadata": {
    "scrolled": true
   },
   "outputs": [
    {
     "data": {
      "image/png": "[encoded data removed]",
      "text/plain": [
       "<Figure size 640x480 with 1 Axes>"
      ]
     },
     "metadata": {},
     "output_type": "display_data"
    }
   ],
   "source": [
    "second_digit = training_data[1][0]\n",
    "\n",
    "image_processing.print_image(second_digit.reshape(28,28))"
   ]
  },
  {
   "cell_type": "code",
   "execution_count": 7,
   "id": "5b029432-a47c-4deb-bede-f8812e2b2d4f",
   "metadata": {},
   "outputs": [],
   "source": [
    "# Create a three layer neural network.  The first layer has 784 input neurons\n",
    "# (one for each of the 784 pixels in the 28px by 28px image being fed in), the\n",
    "# second layer has 30 neurons, and the third layer has 10 output neurons, one\n",
    "# for each digit 0-9 representing the model's estimated probability of the\n",
    "# image being that digit.\n",
    "net = network.Network([784, 30, 10])"
   ]
  },
  {
   "cell_type": "code",
   "execution_count": 8,
   "id": "47f50eb6-5f60-4c0b-a5b4-b4f904ca4e15",
   "metadata": {},
   "outputs": [
    {
     "name": "stdout",
     "output_type": "stream",
     "text": [
      "Epoch 0: 9064 / 10000\n",
      "Epoch 1: 9208 / 10000\n",
      "Epoch 2: 9258 / 10000\n",
      "Epoch 3: 9327 / 10000\n",
      "Epoch 4: 9339 / 10000\n",
      "Epoch 5: 9345 / 10000\n",
      "Epoch 6: 9365 / 10000\n",
      "Epoch 7: 9391 / 10000\n",
      "Epoch 8: 9407 / 10000\n",
      "Epoch 9: 9432 / 10000\n",
      "Epoch 10: 9408 / 10000\n",
      "Epoch 11: 9458 / 10000\n",
      "Epoch 12: 9451 / 10000\n",
      "Epoch 13: 9481 / 10000\n",
      "Epoch 14: 9467 / 10000\n",
      "Epoch 15: 9455 / 10000\n",
      "Epoch 16: 9452 / 10000\n",
      "Epoch 17: 9447 / 10000\n",
      "Epoch 18: 9439 / 10000\n",
      "Epoch 19: 9471 / 10000\n",
      "Epoch 20: 9463 / 10000\n",
      "Epoch 21: 9460 / 10000\n",
      "Epoch 22: 9486 / 10000\n",
      "Epoch 23: 9463 / 10000\n",
      "Epoch 24: 9486 / 10000\n",
      "Epoch 25: 9476 / 10000\n",
      "Epoch 26: 9454 / 10000\n",
      "Epoch 27: 9475 / 10000\n",
      "Epoch 28: 9482 / 10000\n",
      "Epoch 29: 9505 / 10000\n"
     ]
    }
   ],
   "source": [
    "# Train the model over 30 epochs, with mini batch sizes of 10, and a learning\n",
    "# rate of 3.0\n",
    "net.SGD(training_data, 30, 10, 3.0, test_data=test_data)"
   ]
  },
  {
   "cell_type": "markdown",
   "id": "de06b15c-0d97-4b16-a4a1-057d2926169f",
   "metadata": {},
   "source": [
    "# Generating Predictions From Your Own Handwriting"
   ]
  },
  {
   "cell_type": "markdown",
   "id": "ee187a78-5310-4c25-9725-0bb6272f9e21",
   "metadata": {},
   "source": [
    "## Image1"
   ]
  },
  {
   "cell_type": "code",
   "execution_count": null,
   "id": "db933496-652a-4a8e-95e7-4f2d035e7860",
   "metadata": {},
   "outputs": [],
   "source": [
    "# Original Image\n",
    "image1_path = \"../images/handwritten_2.png\"\n",
    "image1 = cv2.imread(image1_path)\n",
    "plt.imshow(image1);\n",
    "\n",
    "# processed_image1 = \\\n",
    "# image_processing.process_image(\"../images/handwritten_2.png\")"
   ]
  },
  {
   "cell_type": "code",
   "execution_count": null,
   "id": "7ccb5836-c7bf-43ff-b19c-a35564e9ffd6",
   "metadata": {},
   "outputs": [],
   "source": [
    "# Processed image\n",
    "processed_image1 = \\\n",
    "image_processing.process_image(image1_path)\n",
    "image_processing.print_image(processed_image1)"
   ]
  },
  {
   "cell_type": "code",
   "execution_count": null,
   "id": "ae0da992-cc4b-478f-b65d-2ef50cba6a0e",
   "metadata": {},
   "outputs": [],
   "source": [
    "# Make prediction\n",
    "net.predict(processed_image1)"
   ]
  },
  {
   "cell_type": "markdown",
   "id": "3caccf5a-5ff9-4c6b-b048-ff5bba451368",
   "metadata": {},
   "source": [
    "## Image2"
   ]
  },
  {
   "cell_type": "code",
   "execution_count": null,
   "id": "fcd1558d-3655-40bb-b3b5-c88484add3b1",
   "metadata": {},
   "outputs": [],
   "source": [
    "# Original Image\n",
    "image2_path = \"../images/handwritten_8.jpg\"\n",
    "image2 = cv2.imread(image2_path)\n",
    "plt.imshow(image2);"
   ]
  },
  {
   "cell_type": "code",
   "execution_count": null,
   "id": "7639cf8b-3bf8-4351-b339-e3e8ed3ba4d3",
   "metadata": {},
   "outputs": [],
   "source": [
    "# Processed Image\n",
    "processed_image2 = \\\n",
    "image_processing.process_image(image2_path)\n",
    "image_processing.print_image(processed_image2)"
   ]
  },
  {
   "cell_type": "code",
   "execution_count": null,
   "id": "7573e268-6793-462d-807e-41fb86e98750",
   "metadata": {},
   "outputs": [],
   "source": [
    "net.predict(processed_image2)"
   ]
  },
  {
   "cell_type": "markdown",
   "id": "b308cc8c-b64a-413c-863d-ce6e5f56afa8",
   "metadata": {},
   "source": [
    "## Image3"
   ]
  },
  {
   "cell_type": "code",
   "execution_count": null,
   "id": "d9814031-111d-46d9-bd6e-89b7520e3f10",
   "metadata": {},
   "outputs": [],
   "source": [
    "# Original Image\n",
    "image3_path = \"../images/handwritten_4.jpg\"\n",
    "image3 = cv2.imread(image3_path)\n",
    "plt.imshow(image3);"
   ]
  },
  {
   "cell_type": "code",
   "execution_count": null,
   "id": "58e5980d-a500-4544-833d-96b7d735652f",
   "metadata": {},
   "outputs": [],
   "source": [
    "# Processed Image\n",
    "processed_image3 = \\\n",
    "image_processing.process_image(image3_path)\n",
    "image_processing.print_image(processed_image3)"
   ]
  },
  {
   "cell_type": "code",
   "execution_count": null,
   "id": "1ebccf50-7065-41f4-8ab1-bcb8c9b2e6e6",
   "metadata": {},
   "outputs": [],
   "source": [
    "net.predict(processed_image3)"
   ]
  },
  {
   "cell_type": "code",
   "execution_count": null,
   "id": "31b6d2b9-6ca9-4057-b926-49b030d64c62",
   "metadata": {},
   "outputs": [],
   "source": []
  }
 ],
 "metadata": {
  "kernelspec": {
   "display_name": "Python 3 (ipykernel)",
   "language": "python",
   "name": "python3"
  },
  "language_info": {
   "codemirror_mode": {
    "name": "ipython",
    "version": 3
   },
   "file_extension": ".py",
   "mimetype": "text/x-python",
   "name": "python",
   "nbconvert_exporter": "python",
   "pygments_lexer": "ipython3",
   "version": "3.11.7"
  }
 },
 "nbformat": 4,
 "nbformat_minor": 5
}
