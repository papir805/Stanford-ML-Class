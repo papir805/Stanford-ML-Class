{
 "cells": [
  {
   "cell_type": "markdown",
   "id": "8f4afc29-e3ac-4f39-86b1-e7397ad7c292",
   "metadata": {},
   "source": [
    "# Imports"
   ]
  },
  {
   "cell_type": "code",
   "execution_count": 1,
   "id": "a082c802-710a-40ce-ae16-87f53fa16749",
   "metadata": {},
   "outputs": [],
   "source": [
    "import warnings\n",
    "\n",
    "import pandas as pd\n",
    "\n",
    "import matplotlib.pyplot as plt\n",
    "\n",
    "from sklearn.datasets import load_digits\n",
    "from sklearn.exceptions import ConvergenceWarning\n",
    "from sklearn.model_selection import train_test_split\n",
    "from sklearn.neural_network import MLPClassifier"
   ]
  },
  {
   "cell_type": "markdown",
   "id": "2db5c62d-d2da-4070-a6c5-32cb4250c196",
   "metadata": {},
   "source": [
    "# Loading Data"
   ]
  },
  {
   "cell_type": "code",
   "execution_count": 2,
   "id": "dd107902-943d-47cb-9e47-d4473570c9a2",
   "metadata": {},
   "outputs": [
    {
     "name": "stdout",
     "output_type": "stream",
     "text": [
      "--2024-01-15 23:39:17--  https://github.com/papir805/Stanford-ML-Class/blob/master/neural_networks/mnist_loader.py\n",
      "Resolving github.com (github.com)... 192.30.255.112\n",
      "Connecting to github.com (github.com)|192.30.255.112|:443... connected.\n",
      "HTTP request sent, awaiting response... 200 OK\n",
      "Length: 17353 (17K) [text/plain]\n",
      "Saving to: ‘mnist_loader.py’\n",
      "\n",
      "mnist_loader.py     100%[===================>]  16.95K  --.-KB/s    in 0.02s   \n",
      "\n",
      "2024-01-15 23:39:17 (755 KB/s) - ‘mnist_loader.py’ saved [17353/17353]\n",
      "\n"
     ]
    }
   ],
   "source": [
    "!wget https://github.com/papir805/Stanford-ML-Class/blob/master/neural_networks/mnist_loader.py"
   ]
  },
  {
   "cell_type": "code",
   "execution_count": 2,
   "id": "682479be-47cd-4526-84be-1d27ea4dfcc7",
   "metadata": {},
   "outputs": [],
   "source": [
    "digits = load_digits()"
   ]
  },
  {
   "cell_type": "markdown",
   "id": "5057727e-8724-4124-b016-cb5bd670a5b9",
   "metadata": {},
   "source": [
    "# Visualizing the Dataset"
   ]
  },
  {
   "cell_type": "markdown",
   "id": "f8972d3e-5493-4e8d-9df5-1ab85e1b765c",
   "metadata": {},
   "source": [
    "## The first digit"
   ]
  },
  {
   "cell_type": "code",
   "execution_count": 8,
   "id": "08ceb15a-1be9-4738-8e3e-d64232b79824",
   "metadata": {},
   "outputs": [
    {
     "data": {
      "image/png": "[encoded data removed]",
      "text/plain": [
       "<Figure size 640x480 with 1 Axes>"
      ]
     },
     "metadata": {},
     "output_type": "display_data"
    }
   ],
   "source": [
    "plt.imshow(digits.images[0], cmap=plt.cm.gray_r, interpolation='nearest')\n",
    "plt.show()"
   ]
  },
  {
   "cell_type": "markdown",
   "id": "38a0dd48-44d2-4dc0-b239-b6d884a8ab87",
   "metadata": {},
   "source": [
    "## The second digit"
   ]
  },
  {
   "cell_type": "code",
   "execution_count": 9,
   "id": "70108dca-a408-4acf-9457-874843e0c308",
   "metadata": {},
   "outputs": [
    {
     "data": {
      "image/png": "[encoded data removed]",
      "text/plain": [
       "<Figure size 640x480 with 1 Axes>"
      ]
     },
     "metadata": {},
     "output_type": "display_data"
    }
   ],
   "source": [
    "plt.imshow(digits.images[1], cmap=plt.cm.gray_r, interpolation='nearest')\n",
    "plt.show()"
   ]
  },
  {
   "cell_type": "code",
   "execution_count": 14,
   "id": "15c2478f-1c97-4a76-9374-ba2b0079d2a2",
   "metadata": {},
   "outputs": [
    {
     "data": {
      "text/plain": [
       "array([ 0.,  0.,  5., 13.,  9.,  1.,  0.,  0.,  0.,  0., 13., 15., 10.,\n",
       "       15.,  5.,  0.,  0.,  3., 15.,  2.,  0., 11.,  8.,  0.,  0.,  4.,\n",
       "       12.,  0.,  0.,  8.,  8.,  0.,  0.,  5.,  8.,  0.,  0.,  9.,  8.,\n",
       "        0.,  0.,  4., 11.,  0.,  1., 12.,  7.,  0.,  0.,  2., 14.,  5.,\n",
       "       10., 12.,  0.,  0.,  0.,  0.,  6., 13., 10.,  0.,  0.,  0.])"
      ]
     },
     "execution_count": 14,
     "metadata": {},
     "output_type": "execute_result"
    }
   ],
   "source": [
    "digits.data[0]"
   ]
  },
  {
   "cell_type": "code",
   "execution_count": 2,
   "id": "5b39f11f-2e08-4476-a3ed-6467ebcd0dac",
   "metadata": {},
   "outputs": [],
   "source": [
    "df = pd.read_csv(\"../data/toy_data.csv\", index_col=0)"
   ]
  },
  {
   "cell_type": "code",
   "execution_count": 3,
   "id": "fc9d9573-b357-433f-9d7b-75d1d5e3aa58",
   "metadata": {},
   "outputs": [
    {
     "data": {
      "text/html": [
       "<div>\n",
       "<style scoped>\n",
       "    .dataframe tbody tr th:only-of-type {\n",
       "        vertical-align: middle;\n",
       "    }\n",
       "\n",
       "    .dataframe tbody tr th {\n",
       "        vertical-align: top;\n",
       "    }\n",
       "\n",
       "    .dataframe thead th {\n",
       "        text-align: right;\n",
       "    }\n",
       "</style>\n",
       "<table border=\"1\" class=\"dataframe\">\n",
       "  <thead>\n",
       "    <tr style=\"text-align: right;\">\n",
       "      <th></th>\n",
       "      <th>x</th>\n",
       "      <th>y</th>\n",
       "      <th>type</th>\n",
       "    </tr>\n",
       "  </thead>\n",
       "  <tbody>\n",
       "    <tr>\n",
       "      <th>0</th>\n",
       "      <td>-0.804458</td>\n",
       "      <td>0.320932</td>\n",
       "      <td>yes</td>\n",
       "    </tr>\n",
       "    <tr>\n",
       "      <th>1</th>\n",
       "      <td>-0.025483</td>\n",
       "      <td>0.644324</td>\n",
       "      <td>yes</td>\n",
       "    </tr>\n",
       "    <tr>\n",
       "      <th>2</th>\n",
       "      <td>-0.300797</td>\n",
       "      <td>0.389475</td>\n",
       "      <td>yes</td>\n",
       "    </tr>\n",
       "    <tr>\n",
       "      <th>3</th>\n",
       "      <td>-0.107437</td>\n",
       "      <td>-0.479983</td>\n",
       "      <td>yes</td>\n",
       "    </tr>\n",
       "    <tr>\n",
       "      <th>4</th>\n",
       "      <td>0.595036</td>\n",
       "      <td>-0.464668</td>\n",
       "      <td>yes</td>\n",
       "    </tr>\n",
       "  </tbody>\n",
       "</table>\n",
       "</div>"
      ],
      "text/plain": [
       "          x         y type\n",
       "0 -0.804458  0.320932  yes\n",
       "1 -0.025483  0.644324  yes\n",
       "2 -0.300797  0.389475  yes\n",
       "3 -0.107437 -0.479983  yes\n",
       "4  0.595036 -0.464668  yes"
      ]
     },
     "execution_count": 3,
     "metadata": {},
     "output_type": "execute_result"
    }
   ],
   "source": [
    "df.head()"
   ]
  },
  {
   "cell_type": "code",
   "execution_count": 4,
   "id": "dcd38288-6fac-4111-b45f-8988c6b60a1c",
   "metadata": {},
   "outputs": [],
   "source": [
    "feat_names = df.columns[:-1]\n",
    "class_names = df['type'].unique()"
   ]
  },
  {
   "cell_type": "code",
   "execution_count": 5,
   "id": "c5c67cae-285c-4988-abb0-f52abce7a77e",
   "metadata": {},
   "outputs": [],
   "source": [
    "X_train, X_test, y_train, y_test = train_test_split(df[feat_names],\n",
    "                                                    df['type'],\n",
    "                                                    test_size=0.25,\n",
    "                                                    random_state=42)"
   ]
  },
  {
   "cell_type": "code",
   "execution_count": 12,
   "id": "901b9bef-f5ef-4041-97a6-d57cf454082e",
   "metadata": {},
   "outputs": [
    {
     "name": "stdout",
     "output_type": "stream",
     "text": [
      "Iteration 1, loss = 0.64229143\n",
      "Iteration 2, loss = 0.47705700\n",
      "Iteration 3, loss = 0.37002174\n",
      "Iteration 4, loss = 0.31440915\n",
      "Iteration 5, loss = 0.29423282\n",
      "Iteration 6, loss = 0.29010723\n",
      "Iteration 7, loss = 0.29310628\n",
      "Iteration 8, loss = 0.29651936\n"
     ]
    }
   ],
   "source": [
    "mlp = MLPClassifier(\n",
    "    hidden_layer_sizes=(40,),\n",
    "    max_iter=8,\n",
    "    alpha=1e-4,\n",
    "    solver=\"sgd\",\n",
    "    verbose=10,\n",
    "    random_state=42,\n",
    "    learning_rate_init=0.2,\n",
    ")\n",
    "\n",
    "# this example won't converge because of resource usage constraints on\n",
    "# our Continuous Integration infrastructure, so we catch the warning and\n",
    "# ignore it here\n",
    "with warnings.catch_warnings():\n",
    "    warnings.filterwarnings(\"ignore\", category=ConvergenceWarning, module=\"sklearn\")\n",
    "    mlp.fit(X_train, y_train)"
   ]
  },
  {
   "cell_type": "code",
   "execution_count": 13,
   "id": "3f09cc0e-398e-4cd4-ad8c-6a87a25f5a95",
   "metadata": {
    "lines_to_next_cell": 2
   },
   "outputs": [
    {
     "name": "stdout",
     "output_type": "stream",
     "text": [
      "Training set score: 0.877333\n",
      "Test set score: 0.904000\n"
     ]
    }
   ],
   "source": [
    "print(\"Training set score: %f\" % mlp.score(X_train, y_train))\n",
    "print(\"Test set score: %f\" % mlp.score(X_test, y_test))"
   ]
  },
  {
   "cell_type": "code",
   "execution_count": null,
   "id": "e2fca77c-83e2-49b3-8575-e132b7e1a440",
   "metadata": {},
   "outputs": [],
   "source": []
  }
 ],
 "metadata": {
  "jupytext": {
   "formats": "ipynb,py:percent"
  },
  "kernelspec": {
   "display_name": "Python 3 (ipykernel)",
   "language": "python",
   "name": "python3"
  },
  "language_info": {
   "codemirror_mode": {
    "name": "ipython",
    "version": 3
   },
   "file_extension": ".py",
   "mimetype": "text/x-python",
   "name": "python",
   "nbconvert_exporter": "python",
   "pygments_lexer": "ipython3",
   "version": "3.11.7"
  }
 },
 "nbformat": 4,
 "nbformat_minor": 5
}
