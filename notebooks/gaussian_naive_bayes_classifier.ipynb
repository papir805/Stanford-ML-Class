{
 "cells": [
  {
   "cell_type": "markdown",
   "id": "c71c327f-ee3f-4850-ac70-38401481411d",
   "metadata": {},
   "source": [
    "# Imports"
   ]
  },
  {
   "cell_type": "code",
   "execution_count": 1,
   "id": "332757dc-03b7-4789-a3a4-f5dfe21d3a9c",
   "metadata": {},
   "outputs": [],
   "source": [
    "import pandas as pd\n",
    "\n",
    "from sklearn.model_selection import train_test_split\n",
    "from sklearn.naive_bayes import GaussianNB\n",
    "from sklearn.inspection import DecisionBoundaryDisplay\n",
    "\n",
    "import matplotlib.pyplot as plt"
   ]
  },
  {
   "cell_type": "markdown",
   "id": "8cea0de3-9b7a-4e4e-9ad4-4e3abb03fb29",
   "metadata": {},
   "source": [
    "# Read Data"
   ]
  },
  {
   "cell_type": "code",
   "execution_count": 2,
   "id": "8f90609e-d9d7-487e-9edc-5e54f65e6518",
   "metadata": {},
   "outputs": [],
   "source": [
    "df = pd.read_csv(\"../data/toy_data.csv\", index_col=0)"
   ]
  },
  {
   "cell_type": "code",
   "execution_count": 3,
   "id": "162b51cb-770b-47d1-8f32-69d417c733bd",
   "metadata": {},
   "outputs": [
    {
     "data": {
      "text/html": [
       "<div>\n",
       "<style scoped>\n",
       "    .dataframe tbody tr th:only-of-type {\n",
       "        vertical-align: middle;\n",
       "    }\n",
       "\n",
       "    .dataframe tbody tr th {\n",
       "        vertical-align: top;\n",
       "    }\n",
       "\n",
       "    .dataframe thead th {\n",
       "        text-align: right;\n",
       "    }\n",
       "</style>\n",
       "<table border=\"1\" class=\"dataframe\">\n",
       "  <thead>\n",
       "    <tr style=\"text-align: right;\">\n",
       "      <th></th>\n",
       "      <th>x</th>\n",
       "      <th>y</th>\n",
       "      <th>type</th>\n",
       "    </tr>\n",
       "  </thead>\n",
       "  <tbody>\n",
       "    <tr>\n",
       "      <th>0</th>\n",
       "      <td>-0.804458</td>\n",
       "      <td>0.320932</td>\n",
       "      <td>yes</td>\n",
       "    </tr>\n",
       "    <tr>\n",
       "      <th>1</th>\n",
       "      <td>-0.025483</td>\n",
       "      <td>0.644324</td>\n",
       "      <td>yes</td>\n",
       "    </tr>\n",
       "    <tr>\n",
       "      <th>2</th>\n",
       "      <td>-0.300797</td>\n",
       "      <td>0.389475</td>\n",
       "      <td>yes</td>\n",
       "    </tr>\n",
       "    <tr>\n",
       "      <th>3</th>\n",
       "      <td>-0.107437</td>\n",
       "      <td>-0.479983</td>\n",
       "      <td>yes</td>\n",
       "    </tr>\n",
       "    <tr>\n",
       "      <th>4</th>\n",
       "      <td>0.595036</td>\n",
       "      <td>-0.464668</td>\n",
       "      <td>yes</td>\n",
       "    </tr>\n",
       "  </tbody>\n",
       "</table>\n",
       "</div>"
      ],
      "text/plain": [
       "          x         y type\n",
       "0 -0.804458  0.320932  yes\n",
       "1 -0.025483  0.644324  yes\n",
       "2 -0.300797  0.389475  yes\n",
       "3 -0.107437 -0.479983  yes\n",
       "4  0.595036 -0.464668  yes"
      ]
     },
     "execution_count": 3,
     "metadata": {},
     "output_type": "execute_result"
    }
   ],
   "source": [
    "df.head()"
   ]
  },
  {
   "cell_type": "markdown",
   "id": "ec43e7b4-b891-49b6-ab1b-1720ff9f343b",
   "metadata": {},
   "source": [
    "# Generate Training and Testing Data"
   ]
  },
  {
   "cell_type": "code",
   "execution_count": 4,
   "id": "b02acd9c-eadc-460a-ae9b-f51d1b4516d7",
   "metadata": {},
   "outputs": [],
   "source": [
    "feat_names = df.columns[:-1]\n",
    "class_names = df['type'].unique()"
   ]
  },
  {
   "cell_type": "code",
   "execution_count": 5,
   "id": "376f24ca-ceb1-4239-aca5-be9c6cd731f5",
   "metadata": {},
   "outputs": [],
   "source": [
    "X_train, X_test, y_train, y_test = train_test_split(df[feat_names],\n",
    "                                                    df['type'],\n",
    "                                                    test_size=0.25,\n",
    "                                                    random_state=42)"
   ]
  },
  {
   "cell_type": "markdown",
   "id": "5edabff9-77f8-4542-967f-bba86b369068",
   "metadata": {},
   "source": [
    "# Training and Fitting the Model"
   ]
  },
  {
   "cell_type": "code",
   "execution_count": 6,
   "id": "04b230bd-1ee6-49d7-b5e4-460f37e674bc",
   "metadata": {},
   "outputs": [],
   "source": [
    "naive_bayes_classifier = GaussianNB()\n",
    "naive_bayes_classifier = naive_bayes_classifier.fit(X_train, y_train)"
   ]
  },
  {
   "cell_type": "markdown",
   "id": "b3096744-d868-4cfa-94a2-9f5be994bf5a",
   "metadata": {},
   "source": [
    "# Making Predictions"
   ]
  },
  {
   "cell_type": "code",
   "execution_count": 7,
   "id": "2bcaf1a8-1994-4e98-af31-310bd9de70b0",
   "metadata": {},
   "outputs": [
    {
     "data": {
      "text/html": [
       "<div>\n",
       "<style scoped>\n",
       "    .dataframe tbody tr th:only-of-type {\n",
       "        vertical-align: middle;\n",
       "    }\n",
       "\n",
       "    .dataframe tbody tr th {\n",
       "        vertical-align: top;\n",
       "    }\n",
       "\n",
       "    .dataframe thead th {\n",
       "        text-align: right;\n",
       "    }\n",
       "</style>\n",
       "<table border=\"1\" class=\"dataframe\">\n",
       "  <thead>\n",
       "    <tr style=\"text-align: right;\">\n",
       "      <th></th>\n",
       "      <th>prob of no</th>\n",
       "      <th>prob of yes</th>\n",
       "      <th>predicted class</th>\n",
       "      <th>actual class</th>\n",
       "    </tr>\n",
       "  </thead>\n",
       "  <tbody>\n",
       "    <tr>\n",
       "      <th>361</th>\n",
       "      <td>0.999923</td>\n",
       "      <td>0.000077</td>\n",
       "      <td>no</td>\n",
       "      <td>no</td>\n",
       "    </tr>\n",
       "    <tr>\n",
       "      <th>73</th>\n",
       "      <td>0.000684</td>\n",
       "      <td>0.999316</td>\n",
       "      <td>yes</td>\n",
       "      <td>yes</td>\n",
       "    </tr>\n",
       "    <tr>\n",
       "      <th>374</th>\n",
       "      <td>0.998684</td>\n",
       "      <td>0.001316</td>\n",
       "      <td>no</td>\n",
       "      <td>no</td>\n",
       "    </tr>\n",
       "    <tr>\n",
       "      <th>155</th>\n",
       "      <td>0.012799</td>\n",
       "      <td>0.987201</td>\n",
       "      <td>yes</td>\n",
       "      <td>yes</td>\n",
       "    </tr>\n",
       "    <tr>\n",
       "      <th>104</th>\n",
       "      <td>0.973069</td>\n",
       "      <td>0.026931</td>\n",
       "      <td>no</td>\n",
       "      <td>yes</td>\n",
       "    </tr>\n",
       "  </tbody>\n",
       "</table>\n",
       "</div>"
      ],
      "text/plain": [
       "     prob of no  prob of yes predicted class actual class\n",
       "361    0.999923     0.000077              no           no\n",
       "73     0.000684     0.999316             yes          yes\n",
       "374    0.998684     0.001316              no           no\n",
       "155    0.012799     0.987201             yes          yes\n",
       "104    0.973069     0.026931              no          yes"
      ]
     },
     "execution_count": 7,
     "metadata": {},
     "output_type": "execute_result"
    }
   ],
   "source": [
    "predictions = naive_bayes_classifier.predict(X_test)\n",
    "probabilities = naive_bayes_classifier.predict_proba(X_test)\n",
    "results_df = pd.DataFrame({'prob of no':probabilities[:,0],\n",
    "                         'prob of yes':probabilities[:,1],\n",
    "                         'predicted class':predictions,\n",
    "                         'actual class': y_test})\n",
    "results_df.head()"
   ]
  },
  {
   "cell_type": "markdown",
   "id": "cb1f3656-2c44-49b8-8d7a-17b17a959b3a",
   "metadata": {},
   "source": [
    "# Checking Accuracy"
   ]
  },
  {
   "cell_type": "code",
   "execution_count": 8,
   "id": "dec979dd-31de-41a6-a955-ffb65402c4b4",
   "metadata": {},
   "outputs": [
    {
     "data": {
      "text/plain": [
       "0.952"
      ]
     },
     "execution_count": 8,
     "metadata": {},
     "output_type": "execute_result"
    }
   ],
   "source": [
    "accuracy = naive_bayes_classifier.score(X_test, y_test)\n",
    "accuracy"
   ]
  },
  {
   "cell_type": "markdown",
   "id": "f3131d8a-f9a6-41a1-9928-5d8a6a79e0cd",
   "metadata": {},
   "source": [
    "# Visualizing Decision Boundaries"
   ]
  },
  {
   "cell_type": "code",
   "execution_count": 9,
   "id": "b27a119f-85fe-46f4-8ffd-c83e055265fa",
   "metadata": {},
   "outputs": [],
   "source": [
    "colors = []\n",
    "for y in y_test:\n",
    "    if y == 'yes':\n",
    "        colors.append('green')\n",
    "    else:\n",
    "        colors.append('red')\n",
    "for_scatter = X_test.copy(deep=True)\n",
    "        \n",
    "for_scatter['type'] = y_test\n",
    "for_scatter['color'] = colors\n",
    "\n",
    "yesses = for_scatter[for_scatter['type']=='yes']\n",
    "nos = for_scatter[for_scatter['type']=='no']"
   ]
  },
  {
   "cell_type": "code",
   "execution_count": 10,
   "id": "fbb8c773-8b0c-4342-9684-f074cfdb4aa5",
   "metadata": {},
   "outputs": [
    {
     "data": {
      "image/png": "[encoded data removed]",
      "text/plain": [
       "<Figure size 640x480 with 1 Axes>"
      ]
     },
     "metadata": {},
     "output_type": "display_data"
    }
   ],
   "source": [
    "fig, ax = plt.subplots(1,1)\n",
    "DecisionBoundaryDisplay.from_estimator(naive_bayes_classifier, X_test, alpha=0.4, response_method=\"predict\", ax=ax)\n",
    "ax.scatter(yesses['x'], yesses['y'], c=yesses['color'], s=20, edgecolor=\"k\", label='yes')\n",
    "ax.scatter(nos['x'], nos['y'], c=nos['color'], s=20, edgecolor=\"k\", label='no')\n",
    "ax.legend(title='binary variable')\n",
    "ax.set_title(f'Naive Bayes Classifier $(Accuracy = {accuracy:.2f})$')\n",
    "plt.show()"
   ]
  },
  {
   "cell_type": "code",
   "execution_count": null,
   "id": "6e71775e-fb77-4062-b1d9-026745dd2e0c",
   "metadata": {},
   "outputs": [],
   "source": []
  }
 ],
 "metadata": {
  "jupytext": {
   "formats": "ipynb,auto:percent"
  },
  "kernelspec": {
   "display_name": "Python 3 (ipykernel)",
   "language": "python",
   "name": "python3"
  },
  "language_info": {
   "codemirror_mode": {
    "name": "ipython",
    "version": 3
   },
   "file_extension": ".py",
   "mimetype": "text/x-python",
   "name": "python",
   "nbconvert_exporter": "python",
   "pygments_lexer": "ipython3",
   "version": "3.11.4"
  }
 },
 "nbformat": 4,
 "nbformat_minor": 5
}
