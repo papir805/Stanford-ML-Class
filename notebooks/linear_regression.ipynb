{
 "cells": [
  {
   "cell_type": "markdown",
   "id": "62bfca66-8a6d-401a-9e3e-d3f6d6ee8338",
   "metadata": {},
   "source": [
    "# Imports"
   ]
  },
  {
   "cell_type": "code",
   "execution_count": 1,
   "id": "a195ba0e-ea08-4c2c-9248-d10b918f89c7",
   "metadata": {},
   "outputs": [],
   "source": [
    "import numpy as np\n",
    "import pandas as pd\n",
    "\n",
    "import matplotlib.pyplot as plt\n",
    "import scipy.stats\n",
    "\n",
    "from sklearn.metrics import mean_squared_error\n",
    "from sklearn.model_selection import train_test_split"
   ]
  },
  {
   "cell_type": "markdown",
   "id": "49d43137-9763-40c9-b221-db814c5416f6",
   "metadata": {},
   "source": [
    "# Read Data"
   ]
  },
  {
   "cell_type": "code",
   "execution_count": 2,
   "id": "cb1f3ef0-bfae-40e5-8c77-b50b6af0c555",
   "metadata": {},
   "outputs": [],
   "source": [
    "df = pd.read_csv(\"../data/toy_data.csv\", index_col=0)"
   ]
  },
  {
   "cell_type": "code",
   "execution_count": 3,
   "id": "6c0f7373-c230-4e64-8a4b-35a3745b7672",
   "metadata": {},
   "outputs": [
    {
     "data": {
      "text/html": [
       "<div>\n",
       "<style scoped>\n",
       "    .dataframe tbody tr th:only-of-type {\n",
       "        vertical-align: middle;\n",
       "    }\n",
       "\n",
       "    .dataframe tbody tr th {\n",
       "        vertical-align: top;\n",
       "    }\n",
       "\n",
       "    .dataframe thead th {\n",
       "        text-align: right;\n",
       "    }\n",
       "</style>\n",
       "<table border=\"1\" class=\"dataframe\">\n",
       "  <thead>\n",
       "    <tr style=\"text-align: right;\">\n",
       "      <th></th>\n",
       "      <th>x</th>\n",
       "      <th>y</th>\n",
       "      <th>type</th>\n",
       "    </tr>\n",
       "  </thead>\n",
       "  <tbody>\n",
       "    <tr>\n",
       "      <th>0</th>\n",
       "      <td>-0.804458</td>\n",
       "      <td>0.320932</td>\n",
       "      <td>yes</td>\n",
       "    </tr>\n",
       "    <tr>\n",
       "      <th>1</th>\n",
       "      <td>-0.025483</td>\n",
       "      <td>0.644324</td>\n",
       "      <td>yes</td>\n",
       "    </tr>\n",
       "    <tr>\n",
       "      <th>2</th>\n",
       "      <td>-0.300797</td>\n",
       "      <td>0.389475</td>\n",
       "      <td>yes</td>\n",
       "    </tr>\n",
       "    <tr>\n",
       "      <th>3</th>\n",
       "      <td>-0.107437</td>\n",
       "      <td>-0.479983</td>\n",
       "      <td>yes</td>\n",
       "    </tr>\n",
       "    <tr>\n",
       "      <th>4</th>\n",
       "      <td>0.595036</td>\n",
       "      <td>-0.464668</td>\n",
       "      <td>yes</td>\n",
       "    </tr>\n",
       "  </tbody>\n",
       "</table>\n",
       "</div>"
      ],
      "text/plain": [
       "          x         y type\n",
       "0 -0.804458  0.320932  yes\n",
       "1 -0.025483  0.644324  yes\n",
       "2 -0.300797  0.389475  yes\n",
       "3 -0.107437 -0.479983  yes\n",
       "4  0.595036 -0.464668  yes"
      ]
     },
     "execution_count": 3,
     "metadata": {},
     "output_type": "execute_result"
    }
   ],
   "source": [
    "df.head()"
   ]
  },
  {
   "cell_type": "code",
   "execution_count": 4,
   "id": "42b4f168-8113-442b-8837-f6e66703dddf",
   "metadata": {},
   "outputs": [],
   "source": [
    "x_label = df.columns[0]\n",
    "y_label = df.columns[1]\n",
    "\n",
    "sample_size = df.shape[0]"
   ]
  },
  {
   "cell_type": "markdown",
   "id": "adba4988-e343-4227-aec7-ba863e4b667b",
   "metadata": {},
   "source": [
    "# Generate Training and Testing Data"
   ]
  },
  {
   "cell_type": "code",
   "execution_count": 5,
   "id": "f536445c-3fcb-4abc-a21f-58c35e73ea01",
   "metadata": {},
   "outputs": [],
   "source": [
    "X_train, X_test, y_train, y_test = train_test_split(df[x_label], df[y_label],\n",
    "                                                    test_size=0.25,\n",
    "                                                    random_state=42)"
   ]
  },
  {
   "cell_type": "markdown",
   "id": "24505da9-b5af-4993-b26e-d65283958aa3",
   "metadata": {},
   "source": [
    "# Train Linear Regression Model"
   ]
  },
  {
   "cell_type": "code",
   "execution_count": 6,
   "id": "ebb9fbe8-4c41-4e77-969b-3eb4224a48cf",
   "metadata": {},
   "outputs": [],
   "source": [
    "lin_reg_model = scipy.stats.linregress(X_train, y_train)\n",
    "\n",
    "slope = lin_reg_model.slope\n",
    "intercept = lin_reg_model.intercept\n",
    "r_value = lin_reg_model.rvalue"
   ]
  },
  {
   "cell_type": "markdown",
   "id": "c87984b4-e78f-4c24-83c2-490ee3fea84e",
   "metadata": {},
   "source": [
    "# Make Predictions and Checking Error "
   ]
  },
  {
   "cell_type": "code",
   "execution_count": 7,
   "id": "5f0ce02e-9c63-4f9f-8ff3-de87a8d2fbad",
   "metadata": {},
   "outputs": [],
   "source": [
    "predictions = slope * X_test + intercept\n",
    "residuals = y_test - predictions"
   ]
  },
  {
   "cell_type": "code",
   "execution_count": 13,
   "id": "75d3f433-8707-4134-98c8-53b725757733",
   "metadata": {},
   "outputs": [
    {
     "data": {
      "text/html": [
       "<div>\n",
       "<style scoped>\n",
       "    .dataframe tbody tr th:only-of-type {\n",
       "        vertical-align: middle;\n",
       "    }\n",
       "\n",
       "    .dataframe tbody tr th {\n",
       "        vertical-align: top;\n",
       "    }\n",
       "\n",
       "    .dataframe thead th {\n",
       "        text-align: right;\n",
       "    }\n",
       "</style>\n",
       "<table border=\"1\" class=\"dataframe\">\n",
       "  <thead>\n",
       "    <tr style=\"text-align: right;\">\n",
       "      <th></th>\n",
       "      <th>x</th>\n",
       "      <th>y_actual</th>\n",
       "      <th>y_predicted</th>\n",
       "      <th>residual</th>\n",
       "    </tr>\n",
       "  </thead>\n",
       "  <tbody>\n",
       "    <tr>\n",
       "      <th>361</th>\n",
       "      <td>4.465897</td>\n",
       "      <td>-1.342260</td>\n",
       "      <td>-2.550018</td>\n",
       "      <td>1.207759</td>\n",
       "    </tr>\n",
       "    <tr>\n",
       "      <th>73</th>\n",
       "      <td>-1.259818</td>\n",
       "      <td>-0.665986</td>\n",
       "      <td>0.211950</td>\n",
       "      <td>-0.877936</td>\n",
       "    </tr>\n",
       "    <tr>\n",
       "      <th>374</th>\n",
       "      <td>2.495033</td>\n",
       "      <td>-2.754207</td>\n",
       "      <td>-1.599314</td>\n",
       "      <td>-1.154894</td>\n",
       "    </tr>\n",
       "    <tr>\n",
       "      <th>155</th>\n",
       "      <td>0.462606</td>\n",
       "      <td>0.235474</td>\n",
       "      <td>-0.618912</td>\n",
       "      <td>0.854386</td>\n",
       "    </tr>\n",
       "    <tr>\n",
       "      <th>104</th>\n",
       "      <td>1.373428</td>\n",
       "      <td>-2.749678</td>\n",
       "      <td>-1.058274</td>\n",
       "      <td>-1.691403</td>\n",
       "    </tr>\n",
       "  </tbody>\n",
       "</table>\n",
       "</div>"
      ],
      "text/plain": [
       "            x  y_actual  y_predicted  residual\n",
       "361  4.465897 -1.342260    -2.550018  1.207759\n",
       "73  -1.259818 -0.665986     0.211950 -0.877936\n",
       "374  2.495033 -2.754207    -1.599314 -1.154894\n",
       "155  0.462606  0.235474    -0.618912  0.854386\n",
       "104  1.373428 -2.749678    -1.058274 -1.691403"
      ]
     },
     "execution_count": 13,
     "metadata": {},
     "output_type": "execute_result"
    }
   ],
   "source": [
    "results_df = pd.DataFrame({'x':X_test, \n",
    "                           'y_actual':y_test, \n",
    "                           'y_predicted':predictions,\n",
    "                           'residual':residuals})\n",
    "results_df.head()"
   ]
  },
  {
   "cell_type": "markdown",
   "id": "3ea8d9e0-cb9f-4c50-add1-8cc0adcf3009",
   "metadata": {},
   "source": [
    "# Root Mean Squared Error"
   ]
  },
  {
   "cell_type": "code",
   "execution_count": null,
   "id": "de1fd556-31b1-476e-9849-16b3043f32a9",
   "metadata": {},
   "outputs": [],
   "source": [
    "rmse = np.sqrt(mean_squared_error(y_test, predictions))"
   ]
  },
  {
   "cell_type": "markdown",
   "id": "c220c24e-97b9-4af1-b7be-4e7f2834dc3b",
   "metadata": {},
   "source": [
    "# Visualizing the Linear Model"
   ]
  },
  {
   "cell_type": "code",
   "execution_count": 8,
   "id": "3e638930-7367-4b1b-a5e3-53d1915ca6ce",
   "metadata": {},
   "outputs": [
    {
     "data": {
      "image/png": "[encoded data removed]",
      "text/plain": [
       "<Figure size 600x600 with 2 Axes>"
      ]
     },
     "metadata": {},
     "output_type": "display_data"
    }
   ],
   "source": [
    "fig, ax = plt.subplots(2, 1, sharex=True, figsize=(6,6))\n",
    "\n",
    "ax[0].scatter(X_test, y_test, label='Actual')\n",
    "ax[0].set_xlabel(x_label)\n",
    "ax[0].set_ylabel(y_label)\n",
    "ax[0].set_title(f'Actual vs. Predicted Values ($n={sample_size})$')\n",
    "ax[0].plot(X_test, predictions, color='r', label='predicted')\n",
    "ax[0].legend()\n",
    "\n",
    "ax[1].scatter(X_test, residuals, label='Actual')\n",
    "ax[1].axhline(0, color='r', linestyle='--')\n",
    "ax[1].set_xlabel(x_label)\n",
    "ax[1].set_ylabel(f'Error in {y_label}')\n",
    "ax[1].set_title(f'Residual Plot ($r={r_value:.4f}; RMSE={rmse:.2f})$')\n",
    "\n",
    "plt.tight_layout()"
   ]
  },
  {
   "cell_type": "markdown",
   "id": "24ca3071-9ec3-42cf-a87a-7bf2c743dafd",
   "metadata": {},
   "source": [
    "# Using statsmodels"
   ]
  },
  {
   "cell_type": "code",
   "execution_count": 9,
   "id": "0f7bd80e-87aa-4eae-b86b-ac085fa9f5cf",
   "metadata": {},
   "outputs": [],
   "source": [
    "from statsmodels.formula.api import ols"
   ]
  }
 ],
 "metadata": {
  "jupytext": {
   "formats": "ipynb,auto:percent"
  },
  "kernelspec": {
   "display_name": "Python 3 (ipykernel)",
   "language": "python",
   "name": "python3"
  },
  "language_info": {
   "codemirror_mode": {
    "name": "ipython",
    "version": 3
   },
   "file_extension": ".py",
   "mimetype": "text/x-python",
   "name": "python",
   "nbconvert_exporter": "python",
   "pygments_lexer": "ipython3",
   "version": "3.11.4"
  }
 },
 "nbformat": 4,
 "nbformat_minor": 5
}
