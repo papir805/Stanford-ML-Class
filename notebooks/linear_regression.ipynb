{
  "cells": [
    {
      "cell_type": "markdown",
      "id": "00fd2913-50d0-4560-b1ce-7e77df98a5b8",
      "metadata": {
        "tags": [],
        "id": "00fd2913-50d0-4560-b1ce-7e77df98a5b8"
      },
      "source": [
        "# Introduction\n",
        "\n",
        "The goal of this notebook is to use data to understand the relationship between square footage of a dwelling and the dwelling's price.  AS we know, the size of a home is often one of the best predictors of the home price, especially when comparing homes in the general neighborhood.\n",
        "\n",
        "The type of data you plan on using heavily influences the type of algorithm that's available to use. Additionally, it's usually a good idea to visualize the data before making any decision about what kind of algorithm to use.\n",
        "\n",
        "First, let's import the necessary modules and then read in the data."
      ]
    },
    {
      "cell_type": "markdown",
      "id": "62bfca66-8a6d-401a-9e3e-d3f6d6ee8338",
      "metadata": {
        "id": "62bfca66-8a6d-401a-9e3e-d3f6d6ee8338"
      },
      "source": [
        "## Important Python Libraries for Data Science"
      ]
    },
    {
      "cell_type": "code",
      "execution_count": 1,
      "id": "a195ba0e-ea08-4c2c-9248-d10b918f89c7",
      "metadata": {
        "id": "a195ba0e-ea08-4c2c-9248-d10b918f89c7"
      },
      "outputs": [],
      "source": [
        "# For organizing and manipulating data\n",
        "import numpy as np\n",
        "import pandas as pd\n",
        "\n",
        "# For plotting graphs\n",
        "import matplotlib.pyplot as plt\n",
        "\n",
        "# For training the model\n",
        "from sklearn.model_selection import train_test_split\n",
        "from sklearn import linear_model\n",
        "\n",
        "# For evaluating model performance\n",
        "from sklearn.metrics import mean_squared_error\n",
        "from sklearn.feature_selection import r_regression"
      ]
    },
    {
      "cell_type": "markdown",
      "id": "49d43137-9763-40c9-b221-db814c5416f6",
      "metadata": {
        "id": "49d43137-9763-40c9-b221-db814c5416f6"
      },
      "source": [
        "# Read Data"
      ]
    },
    {
      "cell_type": "code",
      "execution_count": 4,
      "id": "cb1f3ef0-bfae-40e5-8c77-b50b6af0c555",
      "metadata": {
        "id": "cb1f3ef0-bfae-40e5-8c77-b50b6af0c555"
      },
      "outputs": [],
      "source": [
        "# Load the data set.\n",
        "# Use the first column in the .csv file as the dataframe's index\n",
        "df = pd.read_csv(\"https://raw.githubusercontent.com/papir805/Stanford-ML-Class/master/data/housing_data.csv\", index_col=0)"
      ]
    },
    {
      "cell_type": "code",
      "source": [
        "# Check data loaded correctly\n",
        "df.head()"
      ],
      "metadata": {
        "id": "1TK2PDBnT-LF",
        "outputId": "249c7b9d-2ced-4e1c-fea7-991b5e73c566",
        "colab": {
          "base_uri": "https://localhost:8080/",
          "height": 206
        }
      },
      "id": "1TK2PDBnT-LF",
      "execution_count": 5,
      "outputs": [
        {
          "output_type": "execute_result",
          "data": {
            "text/plain": [
              "   sq_ft (in hundreds)  price (in thousands)\n",
              "0                11.77                217.21\n",
              "1                15.39                256.29\n",
              "2                16.89                275.05\n",
              "3                 9.09                137.80\n",
              "4                13.46                234.13"
            ],
            "text/html": [
              "\n",
              "  <div id=\"df-f8055c19-0f22-4c1c-8d3e-aaedf396cc58\" class=\"colab-df-container\">\n",
              "    <div>\n",
              "<style scoped>\n",
              "    .dataframe tbody tr th:only-of-type {\n",
              "        vertical-align: middle;\n",
              "    }\n",
              "\n",
              "    .dataframe tbody tr th {\n",
              "        vertical-align: top;\n",
              "    }\n",
              "\n",
              "    .dataframe thead th {\n",
              "        text-align: right;\n",
              "    }\n",
              "</style>\n",
              "<table border=\"1\" class=\"dataframe\">\n",
              "  <thead>\n",
              "    <tr style=\"text-align: right;\">\n",
              "      <th></th>\n",
              "      <th>sq_ft (in hundreds)</th>\n",
              "      <th>price (in thousands)</th>\n",
              "    </tr>\n",
              "  </thead>\n",
              "  <tbody>\n",
              "    <tr>\n",
              "      <th>0</th>\n",
              "      <td>11.77</td>\n",
              "      <td>217.21</td>\n",
              "    </tr>\n",
              "    <tr>\n",
              "      <th>1</th>\n",
              "      <td>15.39</td>\n",
              "      <td>256.29</td>\n",
              "    </tr>\n",
              "    <tr>\n",
              "      <th>2</th>\n",
              "      <td>16.89</td>\n",
              "      <td>275.05</td>\n",
              "    </tr>\n",
              "    <tr>\n",
              "      <th>3</th>\n",
              "      <td>9.09</td>\n",
              "      <td>137.80</td>\n",
              "    </tr>\n",
              "    <tr>\n",
              "      <th>4</th>\n",
              "      <td>13.46</td>\n",
              "      <td>234.13</td>\n",
              "    </tr>\n",
              "  </tbody>\n",
              "</table>\n",
              "</div>\n",
              "    <div class=\"colab-df-buttons\">\n",
              "\n",
              "  <div class=\"colab-df-container\">\n",
              "    <button class=\"colab-df-convert\" onclick=\"convertToInteractive('df-f8055c19-0f22-4c1c-8d3e-aaedf396cc58')\"\n",
              "            title=\"Convert this dataframe to an interactive table.\"\n",
              "            style=\"display:none;\">\n",
              "\n",
              "  <svg xmlns=\"http://www.w3.org/2000/svg\" height=\"24px\" viewBox=\"0 -960 960 960\">\n",
              "    <path d=\"M120-120v-720h720v720H120Zm60-500h600v-160H180v160Zm220 220h160v-160H400v160Zm0 220h160v-160H400v160ZM180-400h160v-160H180v160Zm440 0h160v-160H620v160ZM180-180h160v-160H180v160Zm440 0h160v-160H620v160Z\"/>\n",
              "  </svg>\n",
              "    </button>\n",
              "\n",
              "  <style>\n",
              "    .colab-df-container {\n",
              "      display:flex;\n",
              "      gap: 12px;\n",
              "    }\n",
              "\n",
              "    .colab-df-convert {\n",
              "      background-color: #E8F0FE;\n",
              "      border: none;\n",
              "      border-radius: 50%;\n",
              "      cursor: pointer;\n",
              "      display: none;\n",
              "      fill: #1967D2;\n",
              "      height: 32px;\n",
              "      padding: 0 0 0 0;\n",
              "      width: 32px;\n",
              "    }\n",
              "\n",
              "    .colab-df-convert:hover {\n",
              "      background-color: #E2EBFA;\n",
              "      box-shadow: 0px 1px 2px rgba(60, 64, 67, 0.3), 0px 1px 3px 1px rgba(60, 64, 67, 0.15);\n",
              "      fill: #174EA6;\n",
              "    }\n",
              "\n",
              "    .colab-df-buttons div {\n",
              "      margin-bottom: 4px;\n",
              "    }\n",
              "\n",
              "    [theme=dark] .colab-df-convert {\n",
              "      background-color: #3B4455;\n",
              "      fill: #D2E3FC;\n",
              "    }\n",
              "\n",
              "    [theme=dark] .colab-df-convert:hover {\n",
              "      background-color: #434B5C;\n",
              "      box-shadow: 0px 1px 3px 1px rgba(0, 0, 0, 0.15);\n",
              "      filter: drop-shadow(0px 1px 2px rgba(0, 0, 0, 0.3));\n",
              "      fill: #FFFFFF;\n",
              "    }\n",
              "  </style>\n",
              "\n",
              "    <script>\n",
              "      const buttonEl =\n",
              "        document.querySelector('#df-f8055c19-0f22-4c1c-8d3e-aaedf396cc58 button.colab-df-convert');\n",
              "      buttonEl.style.display =\n",
              "        google.colab.kernel.accessAllowed ? 'block' : 'none';\n",
              "\n",
              "      async function convertToInteractive(key) {\n",
              "        const element = document.querySelector('#df-f8055c19-0f22-4c1c-8d3e-aaedf396cc58');\n",
              "        const dataTable =\n",
              "          await google.colab.kernel.invokeFunction('convertToInteractive',\n",
              "                                                    [key], {});\n",
              "        if (!dataTable) return;\n",
              "\n",
              "        const docLinkHtml = 'Like what you see? Visit the ' +\n",
              "          '<a target=\"_blank\" href=https://colab.research.google.com/notebooks/data_table.ipynb>data table notebook</a>'\n",
              "          + ' to learn more about interactive tables.';\n",
              "        element.innerHTML = '';\n",
              "        dataTable['output_type'] = 'display_data';\n",
              "        await google.colab.output.renderOutput(dataTable, element);\n",
              "        const docLink = document.createElement('div');\n",
              "        docLink.innerHTML = docLinkHtml;\n",
              "        element.appendChild(docLink);\n",
              "      }\n",
              "    </script>\n",
              "  </div>\n",
              "\n",
              "\n",
              "<div id=\"df-4b6f7857-53c8-40ed-afd9-bf7d3da3eab8\">\n",
              "  <button class=\"colab-df-quickchart\" onclick=\"quickchart('df-4b6f7857-53c8-40ed-afd9-bf7d3da3eab8')\"\n",
              "            title=\"Suggest charts\"\n",
              "            style=\"display:none;\">\n",
              "\n",
              "<svg xmlns=\"http://www.w3.org/2000/svg\" height=\"24px\"viewBox=\"0 0 24 24\"\n",
              "     width=\"24px\">\n",
              "    <g>\n",
              "        <path d=\"M19 3H5c-1.1 0-2 .9-2 2v14c0 1.1.9 2 2 2h14c1.1 0 2-.9 2-2V5c0-1.1-.9-2-2-2zM9 17H7v-7h2v7zm4 0h-2V7h2v10zm4 0h-2v-4h2v4z\"/>\n",
              "    </g>\n",
              "</svg>\n",
              "  </button>\n",
              "\n",
              "<style>\n",
              "  .colab-df-quickchart {\n",
              "      --bg-color: #E8F0FE;\n",
              "      --fill-color: #1967D2;\n",
              "      --hover-bg-color: #E2EBFA;\n",
              "      --hover-fill-color: #174EA6;\n",
              "      --disabled-fill-color: #AAA;\n",
              "      --disabled-bg-color: #DDD;\n",
              "  }\n",
              "\n",
              "  [theme=dark] .colab-df-quickchart {\n",
              "      --bg-color: #3B4455;\n",
              "      --fill-color: #D2E3FC;\n",
              "      --hover-bg-color: #434B5C;\n",
              "      --hover-fill-color: #FFFFFF;\n",
              "      --disabled-bg-color: #3B4455;\n",
              "      --disabled-fill-color: #666;\n",
              "  }\n",
              "\n",
              "  .colab-df-quickchart {\n",
              "    background-color: var(--bg-color);\n",
              "    border: none;\n",
              "    border-radius: 50%;\n",
              "    cursor: pointer;\n",
              "    display: none;\n",
              "    fill: var(--fill-color);\n",
              "    height: 32px;\n",
              "    padding: 0;\n",
              "    width: 32px;\n",
              "  }\n",
              "\n",
              "  .colab-df-quickchart:hover {\n",
              "    background-color: var(--hover-bg-color);\n",
              "    box-shadow: 0 1px 2px rgba(60, 64, 67, 0.3), 0 1px 3px 1px rgba(60, 64, 67, 0.15);\n",
              "    fill: var(--button-hover-fill-color);\n",
              "  }\n",
              "\n",
              "  .colab-df-quickchart-complete:disabled,\n",
              "  .colab-df-quickchart-complete:disabled:hover {\n",
              "    background-color: var(--disabled-bg-color);\n",
              "    fill: var(--disabled-fill-color);\n",
              "    box-shadow: none;\n",
              "  }\n",
              "\n",
              "  .colab-df-spinner {\n",
              "    border: 2px solid var(--fill-color);\n",
              "    border-color: transparent;\n",
              "    border-bottom-color: var(--fill-color);\n",
              "    animation:\n",
              "      spin 1s steps(1) infinite;\n",
              "  }\n",
              "\n",
              "  @keyframes spin {\n",
              "    0% {\n",
              "      border-color: transparent;\n",
              "      border-bottom-color: var(--fill-color);\n",
              "      border-left-color: var(--fill-color);\n",
              "    }\n",
              "    20% {\n",
              "      border-color: transparent;\n",
              "      border-left-color: var(--fill-color);\n",
              "      border-top-color: var(--fill-color);\n",
              "    }\n",
              "    30% {\n",
              "      border-color: transparent;\n",
              "      border-left-color: var(--fill-color);\n",
              "      border-top-color: var(--fill-color);\n",
              "      border-right-color: var(--fill-color);\n",
              "    }\n",
              "    40% {\n",
              "      border-color: transparent;\n",
              "      border-right-color: var(--fill-color);\n",
              "      border-top-color: var(--fill-color);\n",
              "    }\n",
              "    60% {\n",
              "      border-color: transparent;\n",
              "      border-right-color: var(--fill-color);\n",
              "    }\n",
              "    80% {\n",
              "      border-color: transparent;\n",
              "      border-right-color: var(--fill-color);\n",
              "      border-bottom-color: var(--fill-color);\n",
              "    }\n",
              "    90% {\n",
              "      border-color: transparent;\n",
              "      border-bottom-color: var(--fill-color);\n",
              "    }\n",
              "  }\n",
              "</style>\n",
              "\n",
              "  <script>\n",
              "    async function quickchart(key) {\n",
              "      const quickchartButtonEl =\n",
              "        document.querySelector('#' + key + ' button');\n",
              "      quickchartButtonEl.disabled = true;  // To prevent multiple clicks.\n",
              "      quickchartButtonEl.classList.add('colab-df-spinner');\n",
              "      try {\n",
              "        const charts = await google.colab.kernel.invokeFunction(\n",
              "            'suggestCharts', [key], {});\n",
              "      } catch (error) {\n",
              "        console.error('Error during call to suggestCharts:', error);\n",
              "      }\n",
              "      quickchartButtonEl.classList.remove('colab-df-spinner');\n",
              "      quickchartButtonEl.classList.add('colab-df-quickchart-complete');\n",
              "    }\n",
              "    (() => {\n",
              "      let quickchartButtonEl =\n",
              "        document.querySelector('#df-4b6f7857-53c8-40ed-afd9-bf7d3da3eab8 button');\n",
              "      quickchartButtonEl.style.display =\n",
              "        google.colab.kernel.accessAllowed ? 'block' : 'none';\n",
              "    })();\n",
              "  </script>\n",
              "</div>\n",
              "\n",
              "    </div>\n",
              "  </div>\n"
            ]
          },
          "metadata": {},
          "execution_count": 5
        }
      ]
    },
    {
      "cell_type": "code",
      "source": [
        "# How big is this data set?  That is, what is its length?\n",
        "len(df)"
      ],
      "metadata": {
        "id": "9i3Gq06iUDjo",
        "outputId": "f9b82655-3dae-4d51-b01b-4767187178e5",
        "colab": {
          "base_uri": "https://localhost:8080/"
        }
      },
      "id": "9i3Gq06iUDjo",
      "execution_count": 6,
      "outputs": [
        {
          "output_type": "execute_result",
          "data": {
            "text/plain": [
              "500"
            ]
          },
          "metadata": {},
          "execution_count": 6
        }
      ]
    },
    {
      "cell_type": "code",
      "execution_count": 8,
      "id": "535a2315-03f9-4491-ae7b-f9dafc6ac6c7",
      "metadata": {
        "id": "535a2315-03f9-4491-ae7b-f9dafc6ac6c7"
      },
      "outputs": [],
      "source": [
        "# Store label names for x and y\n",
        "x_label = 'sq_ft (in hundreds)'\n",
        "y_label = 'price (in thousands)'"
      ]
    },
    {
      "cell_type": "markdown",
      "id": "28b254e1-1ba6-4964-ad18-8345190da8c5",
      "metadata": {
        "id": "28b254e1-1ba6-4964-ad18-8345190da8c5"
      },
      "source": [
        "## Visualizing the Data"
      ]
    },
    {
      "cell_type": "code",
      "execution_count": 12,
      "id": "0c01cb65-b66f-40cc-8912-65e2409f80f2",
      "metadata": {
        "id": "0c01cb65-b66f-40cc-8912-65e2409f80f2",
        "outputId": "45c3ca0e-977f-46c7-eea2-58c96a55cdd8",
        "colab": {
          "base_uri": "https://localhost:8080/",
          "height": 472
        }
      },
      "outputs": [
        {
          "output_type": "display_data",
          "data": {
            "text/plain": [
              "<Figure size 640x480 with 1 Axes>"
            ],
            "image/png": "[encoded data removed]"
          },
          "metadata": {}
        }
      ],
      "source": [
        "# Create figure and axis for graphing\n",
        "# We are using commands that are available through the library \"matplotlib\"\n",
        "fig, ax = plt.subplots(1, 1)\n",
        "\n",
        "# Scatter plot of housing data\n",
        "ax.scatter(x=df[x_label], y=df[y_label])\n",
        "ax.set_xlabel(x_label)\n",
        "ax.set_ylabel(y_label)\n",
        "ax.set_title('Square Footage vs. Housing Price');"
      ]
    },
    {
      "cell_type": "markdown",
      "id": "858b6e9a-e4d1-4842-b815-4d5edea3cc8f",
      "metadata": {
        "id": "858b6e9a-e4d1-4842-b815-4d5edea3cc8f"
      },
      "source": [
        "After visualizing the data, we no longer have to speculate about whether a relationship exists within our dataset; it's clear there's some kind of relationship between the square footage of a dwelling and its price.  More specifically, as the square footage of a dwelling goes up, the price of that dwelling tends to go up as well."
      ]
    },
    {
      "cell_type": "markdown",
      "id": "d4733f45-4552-4a21-b72f-576d9e70057e",
      "metadata": {
        "id": "d4733f45-4552-4a21-b72f-576d9e70057e"
      },
      "source": [
        "# Why Linear Regression?"
      ]
    },
    {
      "cell_type": "markdown",
      "id": "ef6ac8e2-eb91-4257-aa17-9026b2082774",
      "metadata": {
        "id": "ef6ac8e2-eb91-4257-aa17-9026b2082774"
      },
      "source": [
        "Whenever a relationship in the data exists, regression is one common statistical tools that's available to help understand it.  Furthermore, regression can also be used to make predictions about unseen data, for instance predicting the price of a new dwelling based on it's square footage.  \n",
        "\n",
        "Since it stands to reason that there's a relationship between the square footage of a property and its value, regression is probably a good choice.  However, the type of regression one choses to use depends on several factors.  \n",
        "\n",
        "Linear regression is able to use any number of qualitative or quantitative inputs to predict a quantitative output.  **It can only predict a quantitative output**.  Because our goal is to predict the price of a dwelling, which is quantitative, linear regression can be used.  \n",
        "\n",
        "**Note**: Using qualitative inputs involves a little more effort than quantitative inputs.  Also, using more than one input, whether qualitative or quantitative, adds complexity.  This notebook will first consider the simplest case of linear regression, when there's a single quantitative input, which in this case will be the square footage of a dwelling.  However, sections will be added to the notebook later to discuss how to deal with these situations.\n",
        "\n",
        "Secondly, linear regression is most suited when the relationship between your inputs and outputs is...well, linear.  The scatter plot shows most of the points are clumped together in a linear fashion.  In other words, one could draw a line through the \"center\" of the points and most of the points would be pretty close to that line.  \n",
        "\n",
        "In situations like these, where the data shows a linear pattern and when one wants to predict a single qualitative output, linear regression is appropriate.  From a mathematical standpoint, there are several more conditions to check before linear regression can be considered statistically sound enough for use, but these are beyond the scope of this notebook."
      ]
    },
    {
      "cell_type": "markdown",
      "id": "adba4988-e343-4227-aec7-ba863e4b667b",
      "metadata": {
        "id": "adba4988-e343-4227-aec7-ba863e4b667b"
      },
      "source": [
        "# Generate Training and Testing Data\n",
        "\n",
        "While not true in all circumstances, the goal of many ML algorithms is to use the algorithm on new and unseen data at some point.  For this reason, it's important to test the algorithm on unseen data in order to verify its performance and whether or not it will be worthwhile to use.  \n",
        "\n",
        "This leaves two options:\n",
        "* Option 1: Build the model now and wait for a sufficient amount of new data to come in, which can be used to verify the model's accuracy.\n",
        "* Option 2: Parition the dataset into a training set and a testing set.  The training set can be used to build the model and the testing set will only be used to verify the accuracy.\n",
        "\n",
        "Some may be concerned that by partioning your dataset and then only using part of it to build the model might negatively affect its performance.  After all, it's reasonable to think that the more data points you have the better off it will be, yet in truth there tend to be diminishing returns.  As it turns out, as long as your dataset is sufficiently large, performing a train/test split will still yield quite good results.  Given the alternative is waiting, a train/test split approach is preferred because it will allow you to determine performance immmediately and tweaks to the model can be implemented quickly, if need be."
      ]
    },
    {
      "cell_type": "code",
      "execution_count": 13,
      "id": "f536445c-3fcb-4abc-a21f-58c35e73ea01",
      "metadata": {
        "id": "f536445c-3fcb-4abc-a21f-58c35e73ea01"
      },
      "outputs": [],
      "source": [
        "# Split dataset into training and testing dataset\n",
        "X_train, X_test, y_train, y_test = train_test_split(df[[x_label]].values,\n",
        "                                                    df[[y_label]].values,\n",
        "                                                    test_size=0.25,\n",
        "                                                    random_state=42)"
      ]
    },
    {
      "cell_type": "markdown",
      "id": "24505da9-b5af-4993-b26e-d65283958aa3",
      "metadata": {
        "id": "24505da9-b5af-4993-b26e-d65283958aa3"
      },
      "source": [
        "# Training the Linear Regression Model\n",
        "\n",
        "In the case of using a single input (x) to predict a qualitative output (y), the model will look like your friendly linear function from algebra class in high school: $$y=m \\cdot x+b$$\n",
        "\n",
        "However, because most datasets are incomplete, it's unlikely one will ever have enough information to create a linear model that's the most accurate representation of your data.  Without complete data, you won't know what the slope or the y-intercept should be.  That being said, the goal isn't to go for exactness or perfection, but opt for estimation instead, which is why the model is more commonly written in this form: $$\\hat y = \\beta_1 \\cdot x + \\beta_0$$\n",
        "\n",
        "where $\\hat y$ represents the **predicted** output and $\\beta_1$ and $\\beta_0$ represent the **estimated** slope and **estimated** y-intercept, respectively.  "
      ]
    },
    {
      "cell_type": "code",
      "execution_count": 14,
      "id": "ebb9fbe8-4c41-4e77-969b-3eb4224a48cf",
      "metadata": {
        "id": "ebb9fbe8-4c41-4e77-969b-3eb4224a48cf",
        "outputId": "f7589a4c-04b0-494c-bd9d-4e174b7a6602",
        "colab": {
          "base_uri": "https://localhost:8080/"
        }
      },
      "outputs": [
        {
          "output_type": "stream",
          "name": "stdout",
          "text": [
            "Estimated Slope: 15.51\n",
            "Estimated y-intercept: 21.21\n"
          ]
        }
      ],
      "source": [
        "# Create linear regression object\n",
        "lin_reg_model = linear_model.LinearRegression()\n",
        "\n",
        "# Train the model using the training dataset\n",
        "lin_reg_model = lin_reg_model.fit(X_train, y_train)\n",
        "\n",
        "# The slope\n",
        "beta_1 = lin_reg_model.coef_[0][0]\n",
        "print(f\"Estimated Slope: {beta_1:.2f}\")\n",
        "\n",
        "# The y-intercept\n",
        "beta_0 = lin_reg_model.intercept_[0]\n",
        "print(f\"Estimated y-intercept: {beta_0:.2f}\")"
      ]
    },
    {
      "cell_type": "markdown",
      "id": "68435fff-4392-4a3e-b302-9b865fc7f0a4",
      "metadata": {
        "id": "68435fff-4392-4a3e-b302-9b865fc7f0a4"
      },
      "source": [
        "Based on the training data, the model has estimated the slope and y-intercept.  Using the values from above, the model will look like: $$\\hat y = 15.51x + 21.21$$\n",
        "\n",
        "The positive slope indicates a positive relationship between x (sq_ft in hundreds) and y (price in thousands).  This was observed earlier in the scatter plot when it was noted that as the square footage of a dwelling increased, the price of that dwelling tended to increase too.  \n",
        "\n",
        "In linear regression, the slope means that for every increase in one unit of x will increase y by an amount equal to the slope.  For this example, a slope of 15.51 means when the sq_ft is increased by 1 (hundred), the price increases by 15.51 (thousand).  \n",
        "\n",
        "The y-intercept tells you what the predicted y-value is when x is 0.  In this case, the y-intercept predicts that when the square footage of a dwelling is 0 (hundred), the price is estimated to be 21.21 (thousand)."
      ]
    },
    {
      "cell_type": "markdown",
      "id": "ad8b22b2-1f83-4b80-b44c-962a34678a94",
      "metadata": {
        "id": "ad8b22b2-1f83-4b80-b44c-962a34678a94"
      },
      "source": [
        "# Evaluating model performance"
      ]
    },
    {
      "cell_type": "markdown",
      "id": "2ee9512c-af02-4ed0-91d9-a6ba798a1976",
      "metadata": {
        "id": "2ee9512c-af02-4ed0-91d9-a6ba798a1976"
      },
      "source": [
        "## Training Data"
      ]
    },
    {
      "cell_type": "markdown",
      "id": "46b59918-d9d1-47bc-874b-6ff12a6f3eed",
      "metadata": {
        "id": "46b59918-d9d1-47bc-874b-6ff12a6f3eed"
      },
      "source": [
        "### Making Predictions\n",
        "\n",
        "Now that the model has been trained, it can be used to make predictions.\n",
        "\n",
        "We will define two new variables to be see how well the model works.  The first is y_predicted, which will have the predicted value from the the model.  The second is y_true, which is simply a copy of the original data point from the data set we loaded."
      ]
    },
    {
      "cell_type": "code",
      "source": [
        "y_predicted = 'predicted_price (in thousands)'\n",
        "y_true = 'true_price (in thousands)'"
      ],
      "metadata": {
        "id": "NYEFu5_7V_ti"
      },
      "id": "NYEFu5_7V_ti",
      "execution_count": 15,
      "outputs": []
    },
    {
      "cell_type": "code",
      "execution_count": 16,
      "id": "a84776ba-47ac-47d7-8b99-26018a0fc958",
      "metadata": {
        "id": "a84776ba-47ac-47d7-8b99-26018a0fc958",
        "outputId": "3fe32fff-3c3c-4641-d421-5b64fdba3d8c",
        "colab": {
          "base_uri": "https://localhost:8080/",
          "height": 206
        }
      },
      "outputs": [
        {
          "output_type": "execute_result",
          "data": {
            "text/plain": [
              "   sq_ft (in hundreds)  true_price (in thousands)  \\\n",
              "0                14.56                     284.14   \n",
              "1                14.35                     212.83   \n",
              "2                10.76                     196.28   \n",
              "3                 9.72                     114.36   \n",
              "4                15.60                     276.73   \n",
              "\n",
              "   predicted_price (in thousands)  \n",
              "0                          246.99  \n",
              "1                          243.73  \n",
              "2                          188.06  \n",
              "3                          171.93  \n",
              "4                          263.11  "
            ],
            "text/html": [
              "\n",
              "  <div id=\"df-089bb624-7c46-4183-ac89-2f5ba200e0ab\" class=\"colab-df-container\">\n",
              "    <div>\n",
              "<style scoped>\n",
              "    .dataframe tbody tr th:only-of-type {\n",
              "        vertical-align: middle;\n",
              "    }\n",
              "\n",
              "    .dataframe tbody tr th {\n",
              "        vertical-align: top;\n",
              "    }\n",
              "\n",
              "    .dataframe thead th {\n",
              "        text-align: right;\n",
              "    }\n",
              "</style>\n",
              "<table border=\"1\" class=\"dataframe\">\n",
              "  <thead>\n",
              "    <tr style=\"text-align: right;\">\n",
              "      <th></th>\n",
              "      <th>sq_ft (in hundreds)</th>\n",
              "      <th>true_price (in thousands)</th>\n",
              "      <th>predicted_price (in thousands)</th>\n",
              "    </tr>\n",
              "  </thead>\n",
              "  <tbody>\n",
              "    <tr>\n",
              "      <th>0</th>\n",
              "      <td>14.56</td>\n",
              "      <td>284.14</td>\n",
              "      <td>246.99</td>\n",
              "    </tr>\n",
              "    <tr>\n",
              "      <th>1</th>\n",
              "      <td>14.35</td>\n",
              "      <td>212.83</td>\n",
              "      <td>243.73</td>\n",
              "    </tr>\n",
              "    <tr>\n",
              "      <th>2</th>\n",
              "      <td>10.76</td>\n",
              "      <td>196.28</td>\n",
              "      <td>188.06</td>\n",
              "    </tr>\n",
              "    <tr>\n",
              "      <th>3</th>\n",
              "      <td>9.72</td>\n",
              "      <td>114.36</td>\n",
              "      <td>171.93</td>\n",
              "    </tr>\n",
              "    <tr>\n",
              "      <th>4</th>\n",
              "      <td>15.60</td>\n",
              "      <td>276.73</td>\n",
              "      <td>263.11</td>\n",
              "    </tr>\n",
              "  </tbody>\n",
              "</table>\n",
              "</div>\n",
              "    <div class=\"colab-df-buttons\">\n",
              "\n",
              "  <div class=\"colab-df-container\">\n",
              "    <button class=\"colab-df-convert\" onclick=\"convertToInteractive('df-089bb624-7c46-4183-ac89-2f5ba200e0ab')\"\n",
              "            title=\"Convert this dataframe to an interactive table.\"\n",
              "            style=\"display:none;\">\n",
              "\n",
              "  <svg xmlns=\"http://www.w3.org/2000/svg\" height=\"24px\" viewBox=\"0 -960 960 960\">\n",
              "    <path d=\"M120-120v-720h720v720H120Zm60-500h600v-160H180v160Zm220 220h160v-160H400v160Zm0 220h160v-160H400v160ZM180-400h160v-160H180v160Zm440 0h160v-160H620v160ZM180-180h160v-160H180v160Zm440 0h160v-160H620v160Z\"/>\n",
              "  </svg>\n",
              "    </button>\n",
              "\n",
              "  <style>\n",
              "    .colab-df-container {\n",
              "      display:flex;\n",
              "      gap: 12px;\n",
              "    }\n",
              "\n",
              "    .colab-df-convert {\n",
              "      background-color: #E8F0FE;\n",
              "      border: none;\n",
              "      border-radius: 50%;\n",
              "      cursor: pointer;\n",
              "      display: none;\n",
              "      fill: #1967D2;\n",
              "      height: 32px;\n",
              "      padding: 0 0 0 0;\n",
              "      width: 32px;\n",
              "    }\n",
              "\n",
              "    .colab-df-convert:hover {\n",
              "      background-color: #E2EBFA;\n",
              "      box-shadow: 0px 1px 2px rgba(60, 64, 67, 0.3), 0px 1px 3px 1px rgba(60, 64, 67, 0.15);\n",
              "      fill: #174EA6;\n",
              "    }\n",
              "\n",
              "    .colab-df-buttons div {\n",
              "      margin-bottom: 4px;\n",
              "    }\n",
              "\n",
              "    [theme=dark] .colab-df-convert {\n",
              "      background-color: #3B4455;\n",
              "      fill: #D2E3FC;\n",
              "    }\n",
              "\n",
              "    [theme=dark] .colab-df-convert:hover {\n",
              "      background-color: #434B5C;\n",
              "      box-shadow: 0px 1px 3px 1px rgba(0, 0, 0, 0.15);\n",
              "      filter: drop-shadow(0px 1px 2px rgba(0, 0, 0, 0.3));\n",
              "      fill: #FFFFFF;\n",
              "    }\n",
              "  </style>\n",
              "\n",
              "    <script>\n",
              "      const buttonEl =\n",
              "        document.querySelector('#df-089bb624-7c46-4183-ac89-2f5ba200e0ab button.colab-df-convert');\n",
              "      buttonEl.style.display =\n",
              "        google.colab.kernel.accessAllowed ? 'block' : 'none';\n",
              "\n",
              "      async function convertToInteractive(key) {\n",
              "        const element = document.querySelector('#df-089bb624-7c46-4183-ac89-2f5ba200e0ab');\n",
              "        const dataTable =\n",
              "          await google.colab.kernel.invokeFunction('convertToInteractive',\n",
              "                                                    [key], {});\n",
              "        if (!dataTable) return;\n",
              "\n",
              "        const docLinkHtml = 'Like what you see? Visit the ' +\n",
              "          '<a target=\"_blank\" href=https://colab.research.google.com/notebooks/data_table.ipynb>data table notebook</a>'\n",
              "          + ' to learn more about interactive tables.';\n",
              "        element.innerHTML = '';\n",
              "        dataTable['output_type'] = 'display_data';\n",
              "        await google.colab.output.renderOutput(dataTable, element);\n",
              "        const docLink = document.createElement('div');\n",
              "        docLink.innerHTML = docLinkHtml;\n",
              "        element.appendChild(docLink);\n",
              "      }\n",
              "    </script>\n",
              "  </div>\n",
              "\n",
              "\n",
              "<div id=\"df-5bd0cf47-14d8-459d-8afd-9cf4a710dc67\">\n",
              "  <button class=\"colab-df-quickchart\" onclick=\"quickchart('df-5bd0cf47-14d8-459d-8afd-9cf4a710dc67')\"\n",
              "            title=\"Suggest charts\"\n",
              "            style=\"display:none;\">\n",
              "\n",
              "<svg xmlns=\"http://www.w3.org/2000/svg\" height=\"24px\"viewBox=\"0 0 24 24\"\n",
              "     width=\"24px\">\n",
              "    <g>\n",
              "        <path d=\"M19 3H5c-1.1 0-2 .9-2 2v14c0 1.1.9 2 2 2h14c1.1 0 2-.9 2-2V5c0-1.1-.9-2-2-2zM9 17H7v-7h2v7zm4 0h-2V7h2v10zm4 0h-2v-4h2v4z\"/>\n",
              "    </g>\n",
              "</svg>\n",
              "  </button>\n",
              "\n",
              "<style>\n",
              "  .colab-df-quickchart {\n",
              "      --bg-color: #E8F0FE;\n",
              "      --fill-color: #1967D2;\n",
              "      --hover-bg-color: #E2EBFA;\n",
              "      --hover-fill-color: #174EA6;\n",
              "      --disabled-fill-color: #AAA;\n",
              "      --disabled-bg-color: #DDD;\n",
              "  }\n",
              "\n",
              "  [theme=dark] .colab-df-quickchart {\n",
              "      --bg-color: #3B4455;\n",
              "      --fill-color: #D2E3FC;\n",
              "      --hover-bg-color: #434B5C;\n",
              "      --hover-fill-color: #FFFFFF;\n",
              "      --disabled-bg-color: #3B4455;\n",
              "      --disabled-fill-color: #666;\n",
              "  }\n",
              "\n",
              "  .colab-df-quickchart {\n",
              "    background-color: var(--bg-color);\n",
              "    border: none;\n",
              "    border-radius: 50%;\n",
              "    cursor: pointer;\n",
              "    display: none;\n",
              "    fill: var(--fill-color);\n",
              "    height: 32px;\n",
              "    padding: 0;\n",
              "    width: 32px;\n",
              "  }\n",
              "\n",
              "  .colab-df-quickchart:hover {\n",
              "    background-color: var(--hover-bg-color);\n",
              "    box-shadow: 0 1px 2px rgba(60, 64, 67, 0.3), 0 1px 3px 1px rgba(60, 64, 67, 0.15);\n",
              "    fill: var(--button-hover-fill-color);\n",
              "  }\n",
              "\n",
              "  .colab-df-quickchart-complete:disabled,\n",
              "  .colab-df-quickchart-complete:disabled:hover {\n",
              "    background-color: var(--disabled-bg-color);\n",
              "    fill: var(--disabled-fill-color);\n",
              "    box-shadow: none;\n",
              "  }\n",
              "\n",
              "  .colab-df-spinner {\n",
              "    border: 2px solid var(--fill-color);\n",
              "    border-color: transparent;\n",
              "    border-bottom-color: var(--fill-color);\n",
              "    animation:\n",
              "      spin 1s steps(1) infinite;\n",
              "  }\n",
              "\n",
              "  @keyframes spin {\n",
              "    0% {\n",
              "      border-color: transparent;\n",
              "      border-bottom-color: var(--fill-color);\n",
              "      border-left-color: var(--fill-color);\n",
              "    }\n",
              "    20% {\n",
              "      border-color: transparent;\n",
              "      border-left-color: var(--fill-color);\n",
              "      border-top-color: var(--fill-color);\n",
              "    }\n",
              "    30% {\n",
              "      border-color: transparent;\n",
              "      border-left-color: var(--fill-color);\n",
              "      border-top-color: var(--fill-color);\n",
              "      border-right-color: var(--fill-color);\n",
              "    }\n",
              "    40% {\n",
              "      border-color: transparent;\n",
              "      border-right-color: var(--fill-color);\n",
              "      border-top-color: var(--fill-color);\n",
              "    }\n",
              "    60% {\n",
              "      border-color: transparent;\n",
              "      border-right-color: var(--fill-color);\n",
              "    }\n",
              "    80% {\n",
              "      border-color: transparent;\n",
              "      border-right-color: var(--fill-color);\n",
              "      border-bottom-color: var(--fill-color);\n",
              "    }\n",
              "    90% {\n",
              "      border-color: transparent;\n",
              "      border-bottom-color: var(--fill-color);\n",
              "    }\n",
              "  }\n",
              "</style>\n",
              "\n",
              "  <script>\n",
              "    async function quickchart(key) {\n",
              "      const quickchartButtonEl =\n",
              "        document.querySelector('#' + key + ' button');\n",
              "      quickchartButtonEl.disabled = true;  // To prevent multiple clicks.\n",
              "      quickchartButtonEl.classList.add('colab-df-spinner');\n",
              "      try {\n",
              "        const charts = await google.colab.kernel.invokeFunction(\n",
              "            'suggestCharts', [key], {});\n",
              "      } catch (error) {\n",
              "        console.error('Error during call to suggestCharts:', error);\n",
              "      }\n",
              "      quickchartButtonEl.classList.remove('colab-df-spinner');\n",
              "      quickchartButtonEl.classList.add('colab-df-quickchart-complete');\n",
              "    }\n",
              "    (() => {\n",
              "      let quickchartButtonEl =\n",
              "        document.querySelector('#df-5bd0cf47-14d8-459d-8afd-9cf4a710dc67 button');\n",
              "      quickchartButtonEl.style.display =\n",
              "        google.colab.kernel.accessAllowed ? 'block' : 'none';\n",
              "    })();\n",
              "  </script>\n",
              "</div>\n",
              "\n",
              "    </div>\n",
              "  </div>\n"
            ]
          },
          "metadata": {},
          "execution_count": 16
        }
      ],
      "source": [
        "# Make predictions using the already seen training data\n",
        "training_predictions = lin_reg_model.predict(X_train)\n",
        "training_predictions = np.round(training_predictions, 2)\n",
        "\n",
        "# Store results in dataframe\n",
        "train_results_df = pd.DataFrame({x_label:X_train.flatten(),\n",
        "                                y_true:y_train.flatten(),\n",
        "                                y_predicted:training_predictions.flatten()})\n",
        "train_results_df.head()"
      ]
    },
    {
      "cell_type": "markdown",
      "id": "cbfebe8d-6798-45c4-a765-994b18d0c247",
      "metadata": {
        "id": "cbfebe8d-6798-45c4-a765-994b18d0c247"
      },
      "source": [
        "Remembering the linear model from earlier, the train_results_df from above can be explained.  For the first entry, $\\text{sq_ft}=14.56$ hundred.  Plugging this value into the model would look as follows:\n",
        "\n",
        "$$\\hat y = 15.51x + 21.21$$\n",
        "\n",
        "$$\\hat y = 15.51(14.56) + 21.21$$\n",
        "\n",
        "$$\\hat y = 246.99$$\n",
        "\n",
        "The result is the predicted price of 246.99 thousand, however the true price was $y=284.14$ thousand.  Doing this for every sq_ft value in the dataset leads to many $(x, \\hat y)$ pairs, the sq_ft and a *predicted* price, which can then be graphed and compared to the $(x, y)$ pairs from the dataset itself, representing the sq_ft in hundreds and the *true* price in thousands."
      ]
    },
    {
      "cell_type": "markdown",
      "id": "9e9ff4a7-a6d0-4bf0-a46b-44a837e6f1e0",
      "metadata": {
        "id": "9e9ff4a7-a6d0-4bf0-a46b-44a837e6f1e0"
      },
      "source": [
        "### Visualizing the Linear Model's Fit\n",
        "\n",
        "In the graph below, each point on the red line represents the $(x, \\hat y)$ pairs  containing the predicted prices, while the blue dots represent the $(x, y)$ pairs have the actual prices.  "
      ]
    },
    {
      "cell_type": "code",
      "execution_count": 17,
      "id": "5cfd5b70-e71e-405b-8a26-c60c40749d5f",
      "metadata": {
        "id": "5cfd5b70-e71e-405b-8a26-c60c40749d5f",
        "outputId": "8fd93921-4ea8-4fae-f024-4bd9511632ad",
        "colab": {
          "base_uri": "https://localhost:8080/",
          "height": 474
        }
      },
      "outputs": [
        {
          "output_type": "display_data",
          "data": {
            "text/plain": [
              "<Figure size 640x480 with 1 Axes>"
            ],
            "image/png": "[encoded data removed]"
          },
          "metadata": {}
        }
      ],
      "source": [
        "# Number of sample data points in training data\n",
        "train_sample_size = X_train.shape[0]\n",
        "\n",
        "# Create figure and axis for graphing\n",
        "fig, ax = plt.subplots(1, 1)\n",
        "\n",
        "# Scatter plot of training data\n",
        "ax.scatter(x=X_train, y=y_train, label='Actual')\n",
        "\n",
        "# Linear model's trend line\n",
        "ax.plot(X_train, training_predictions, color='r', label='predicted', alpha=0.6)\n",
        "\n",
        "ax.set_title(f'Training Data: Actual vs. Predicted Values ($n={train_sample_size})$')\n",
        "ax.set_xlabel(x_label)\n",
        "ax.set_ylabel(y_label)\n",
        "ax.legend();"
      ]
    },
    {
      "cell_type": "markdown",
      "id": "b82f1452-3756-45a1-8b51-b24e42e4f05f",
      "metadata": {
        "id": "b82f1452-3756-45a1-8b51-b24e42e4f05f"
      },
      "source": [
        "The scatter plot now shows the regression line and it fits the dataset reasonably well.  Most of the points are clumped around that line.  "
      ]
    },
    {
      "cell_type": "markdown",
      "id": "fad7d992-ac90-4827-aeb7-42efc16a7717",
      "metadata": {
        "id": "fad7d992-ac90-4827-aeb7-42efc16a7717"
      },
      "source": [
        "### Evaluating the strength of the relationship\n",
        "\n",
        "The r-value, or correlation coefficient, represents the strength of the relationship between x and y.  Positive values represent a positive relationship, where an increase in x produces an increase in y, while negative values represent a negative relationship, where an increase in x represents a decrease in y.\n",
        "\n",
        "The r-value also helps determine the \"strength\" of the relationship.  By design, r-values range from -1 to +1, with stronger values closer to -1 or +1 and weaker values closer to 0."
      ]
    },
    {
      "cell_type": "code",
      "execution_count": 18,
      "id": "bbbc41ab-1b9d-4e3f-839d-b928d7b70c48",
      "metadata": {
        "id": "bbbc41ab-1b9d-4e3f-839d-b928d7b70c48",
        "outputId": "5545805e-70cc-4407-ba49-43a163d30061",
        "colab": {
          "base_uri": "https://localhost:8080/"
        }
      },
      "outputs": [
        {
          "output_type": "stream",
          "name": "stdout",
          "text": [
            "r-value (correlation coefficient): 0.9019\n"
          ]
        }
      ],
      "source": [
        "# The r-value (correlation coefficient)\n",
        "train_r_value = r_regression(X_train, y_train.flatten())[0]\n",
        "print(f\"r-value (correlation coefficient): {train_r_value:.4f}\")"
      ]
    },
    {
      "cell_type": "markdown",
      "id": "cd570d99-d929-4a5b-9677-5f270a3410ea",
      "metadata": {
        "id": "cd570d99-d929-4a5b-9677-5f270a3410ea"
      },
      "source": [
        "In the training data, the r-value of 0.9019 indicates a strong positive correlation between x and y."
      ]
    },
    {
      "cell_type": "markdown",
      "id": "cfe47b1b-3b63-42b8-be84-a0e7ac83118a",
      "metadata": {
        "id": "cfe47b1b-3b63-42b8-be84-a0e7ac83118a"
      },
      "source": [
        "### Checking Error\n",
        "\n",
        "With the linear regression model built and trained, it's time to start evaluating the model's performance.  First, performance should be evaluated on the training data.  Using the predictions from earlier, the residuals can be calculated, which represent the difference between the true y value and the predicted y value: $$\\text{residual} = y - \\hat y$$\n",
        "\n",
        "This calculation yields the error in each prediction and is a way to evaluate the\n",
        "performance of the model.  "
      ]
    },
    {
      "cell_type": "code",
      "execution_count": 19,
      "id": "e95ae197-e8ca-4fe3-b795-a6c1853df59c",
      "metadata": {
        "id": "e95ae197-e8ca-4fe3-b795-a6c1853df59c",
        "outputId": "9942c106-e799-4852-9d5f-a702e99ee9e6",
        "colab": {
          "base_uri": "https://localhost:8080/",
          "height": 206
        }
      },
      "outputs": [
        {
          "output_type": "execute_result",
          "data": {
            "text/plain": [
              "   sq_ft (in hundreds)  true_price (in thousands)  \\\n",
              "0                14.56                     284.14   \n",
              "1                14.35                     212.83   \n",
              "2                10.76                     196.28   \n",
              "3                 9.72                     114.36   \n",
              "4                15.60                     276.73   \n",
              "\n",
              "   predicted_price (in thousands)  residual  \n",
              "0                          246.99     37.15  \n",
              "1                          243.73    -30.90  \n",
              "2                          188.06      8.22  \n",
              "3                          171.93    -57.57  \n",
              "4                          263.11     13.62  "
            ],
            "text/html": [
              "\n",
              "  <div id=\"df-ae8407dd-134e-4073-a6a0-beffa18e15a3\" class=\"colab-df-container\">\n",
              "    <div>\n",
              "<style scoped>\n",
              "    .dataframe tbody tr th:only-of-type {\n",
              "        vertical-align: middle;\n",
              "    }\n",
              "\n",
              "    .dataframe tbody tr th {\n",
              "        vertical-align: top;\n",
              "    }\n",
              "\n",
              "    .dataframe thead th {\n",
              "        text-align: right;\n",
              "    }\n",
              "</style>\n",
              "<table border=\"1\" class=\"dataframe\">\n",
              "  <thead>\n",
              "    <tr style=\"text-align: right;\">\n",
              "      <th></th>\n",
              "      <th>sq_ft (in hundreds)</th>\n",
              "      <th>true_price (in thousands)</th>\n",
              "      <th>predicted_price (in thousands)</th>\n",
              "      <th>residual</th>\n",
              "    </tr>\n",
              "  </thead>\n",
              "  <tbody>\n",
              "    <tr>\n",
              "      <th>0</th>\n",
              "      <td>14.56</td>\n",
              "      <td>284.14</td>\n",
              "      <td>246.99</td>\n",
              "      <td>37.15</td>\n",
              "    </tr>\n",
              "    <tr>\n",
              "      <th>1</th>\n",
              "      <td>14.35</td>\n",
              "      <td>212.83</td>\n",
              "      <td>243.73</td>\n",
              "      <td>-30.90</td>\n",
              "    </tr>\n",
              "    <tr>\n",
              "      <th>2</th>\n",
              "      <td>10.76</td>\n",
              "      <td>196.28</td>\n",
              "      <td>188.06</td>\n",
              "      <td>8.22</td>\n",
              "    </tr>\n",
              "    <tr>\n",
              "      <th>3</th>\n",
              "      <td>9.72</td>\n",
              "      <td>114.36</td>\n",
              "      <td>171.93</td>\n",
              "      <td>-57.57</td>\n",
              "    </tr>\n",
              "    <tr>\n",
              "      <th>4</th>\n",
              "      <td>15.60</td>\n",
              "      <td>276.73</td>\n",
              "      <td>263.11</td>\n",
              "      <td>13.62</td>\n",
              "    </tr>\n",
              "  </tbody>\n",
              "</table>\n",
              "</div>\n",
              "    <div class=\"colab-df-buttons\">\n",
              "\n",
              "  <div class=\"colab-df-container\">\n",
              "    <button class=\"colab-df-convert\" onclick=\"convertToInteractive('df-ae8407dd-134e-4073-a6a0-beffa18e15a3')\"\n",
              "            title=\"Convert this dataframe to an interactive table.\"\n",
              "            style=\"display:none;\">\n",
              "\n",
              "  <svg xmlns=\"http://www.w3.org/2000/svg\" height=\"24px\" viewBox=\"0 -960 960 960\">\n",
              "    <path d=\"M120-120v-720h720v720H120Zm60-500h600v-160H180v160Zm220 220h160v-160H400v160Zm0 220h160v-160H400v160ZM180-400h160v-160H180v160Zm440 0h160v-160H620v160ZM180-180h160v-160H180v160Zm440 0h160v-160H620v160Z\"/>\n",
              "  </svg>\n",
              "    </button>\n",
              "\n",
              "  <style>\n",
              "    .colab-df-container {\n",
              "      display:flex;\n",
              "      gap: 12px;\n",
              "    }\n",
              "\n",
              "    .colab-df-convert {\n",
              "      background-color: #E8F0FE;\n",
              "      border: none;\n",
              "      border-radius: 50%;\n",
              "      cursor: pointer;\n",
              "      display: none;\n",
              "      fill: #1967D2;\n",
              "      height: 32px;\n",
              "      padding: 0 0 0 0;\n",
              "      width: 32px;\n",
              "    }\n",
              "\n",
              "    .colab-df-convert:hover {\n",
              "      background-color: #E2EBFA;\n",
              "      box-shadow: 0px 1px 2px rgba(60, 64, 67, 0.3), 0px 1px 3px 1px rgba(60, 64, 67, 0.15);\n",
              "      fill: #174EA6;\n",
              "    }\n",
              "\n",
              "    .colab-df-buttons div {\n",
              "      margin-bottom: 4px;\n",
              "    }\n",
              "\n",
              "    [theme=dark] .colab-df-convert {\n",
              "      background-color: #3B4455;\n",
              "      fill: #D2E3FC;\n",
              "    }\n",
              "\n",
              "    [theme=dark] .colab-df-convert:hover {\n",
              "      background-color: #434B5C;\n",
              "      box-shadow: 0px 1px 3px 1px rgba(0, 0, 0, 0.15);\n",
              "      filter: drop-shadow(0px 1px 2px rgba(0, 0, 0, 0.3));\n",
              "      fill: #FFFFFF;\n",
              "    }\n",
              "  </style>\n",
              "\n",
              "    <script>\n",
              "      const buttonEl =\n",
              "        document.querySelector('#df-ae8407dd-134e-4073-a6a0-beffa18e15a3 button.colab-df-convert');\n",
              "      buttonEl.style.display =\n",
              "        google.colab.kernel.accessAllowed ? 'block' : 'none';\n",
              "\n",
              "      async function convertToInteractive(key) {\n",
              "        const element = document.querySelector('#df-ae8407dd-134e-4073-a6a0-beffa18e15a3');\n",
              "        const dataTable =\n",
              "          await google.colab.kernel.invokeFunction('convertToInteractive',\n",
              "                                                    [key], {});\n",
              "        if (!dataTable) return;\n",
              "\n",
              "        const docLinkHtml = 'Like what you see? Visit the ' +\n",
              "          '<a target=\"_blank\" href=https://colab.research.google.com/notebooks/data_table.ipynb>data table notebook</a>'\n",
              "          + ' to learn more about interactive tables.';\n",
              "        element.innerHTML = '';\n",
              "        dataTable['output_type'] = 'display_data';\n",
              "        await google.colab.output.renderOutput(dataTable, element);\n",
              "        const docLink = document.createElement('div');\n",
              "        docLink.innerHTML = docLinkHtml;\n",
              "        element.appendChild(docLink);\n",
              "      }\n",
              "    </script>\n",
              "  </div>\n",
              "\n",
              "\n",
              "<div id=\"df-1e04328b-2f54-4eff-9aa0-d20873082397\">\n",
              "  <button class=\"colab-df-quickchart\" onclick=\"quickchart('df-1e04328b-2f54-4eff-9aa0-d20873082397')\"\n",
              "            title=\"Suggest charts\"\n",
              "            style=\"display:none;\">\n",
              "\n",
              "<svg xmlns=\"http://www.w3.org/2000/svg\" height=\"24px\"viewBox=\"0 0 24 24\"\n",
              "     width=\"24px\">\n",
              "    <g>\n",
              "        <path d=\"M19 3H5c-1.1 0-2 .9-2 2v14c0 1.1.9 2 2 2h14c1.1 0 2-.9 2-2V5c0-1.1-.9-2-2-2zM9 17H7v-7h2v7zm4 0h-2V7h2v10zm4 0h-2v-4h2v4z\"/>\n",
              "    </g>\n",
              "</svg>\n",
              "  </button>\n",
              "\n",
              "<style>\n",
              "  .colab-df-quickchart {\n",
              "      --bg-color: #E8F0FE;\n",
              "      --fill-color: #1967D2;\n",
              "      --hover-bg-color: #E2EBFA;\n",
              "      --hover-fill-color: #174EA6;\n",
              "      --disabled-fill-color: #AAA;\n",
              "      --disabled-bg-color: #DDD;\n",
              "  }\n",
              "\n",
              "  [theme=dark] .colab-df-quickchart {\n",
              "      --bg-color: #3B4455;\n",
              "      --fill-color: #D2E3FC;\n",
              "      --hover-bg-color: #434B5C;\n",
              "      --hover-fill-color: #FFFFFF;\n",
              "      --disabled-bg-color: #3B4455;\n",
              "      --disabled-fill-color: #666;\n",
              "  }\n",
              "\n",
              "  .colab-df-quickchart {\n",
              "    background-color: var(--bg-color);\n",
              "    border: none;\n",
              "    border-radius: 50%;\n",
              "    cursor: pointer;\n",
              "    display: none;\n",
              "    fill: var(--fill-color);\n",
              "    height: 32px;\n",
              "    padding: 0;\n",
              "    width: 32px;\n",
              "  }\n",
              "\n",
              "  .colab-df-quickchart:hover {\n",
              "    background-color: var(--hover-bg-color);\n",
              "    box-shadow: 0 1px 2px rgba(60, 64, 67, 0.3), 0 1px 3px 1px rgba(60, 64, 67, 0.15);\n",
              "    fill: var(--button-hover-fill-color);\n",
              "  }\n",
              "\n",
              "  .colab-df-quickchart-complete:disabled,\n",
              "  .colab-df-quickchart-complete:disabled:hover {\n",
              "    background-color: var(--disabled-bg-color);\n",
              "    fill: var(--disabled-fill-color);\n",
              "    box-shadow: none;\n",
              "  }\n",
              "\n",
              "  .colab-df-spinner {\n",
              "    border: 2px solid var(--fill-color);\n",
              "    border-color: transparent;\n",
              "    border-bottom-color: var(--fill-color);\n",
              "    animation:\n",
              "      spin 1s steps(1) infinite;\n",
              "  }\n",
              "\n",
              "  @keyframes spin {\n",
              "    0% {\n",
              "      border-color: transparent;\n",
              "      border-bottom-color: var(--fill-color);\n",
              "      border-left-color: var(--fill-color);\n",
              "    }\n",
              "    20% {\n",
              "      border-color: transparent;\n",
              "      border-left-color: var(--fill-color);\n",
              "      border-top-color: var(--fill-color);\n",
              "    }\n",
              "    30% {\n",
              "      border-color: transparent;\n",
              "      border-left-color: var(--fill-color);\n",
              "      border-top-color: var(--fill-color);\n",
              "      border-right-color: var(--fill-color);\n",
              "    }\n",
              "    40% {\n",
              "      border-color: transparent;\n",
              "      border-right-color: var(--fill-color);\n",
              "      border-top-color: var(--fill-color);\n",
              "    }\n",
              "    60% {\n",
              "      border-color: transparent;\n",
              "      border-right-color: var(--fill-color);\n",
              "    }\n",
              "    80% {\n",
              "      border-color: transparent;\n",
              "      border-right-color: var(--fill-color);\n",
              "      border-bottom-color: var(--fill-color);\n",
              "    }\n",
              "    90% {\n",
              "      border-color: transparent;\n",
              "      border-bottom-color: var(--fill-color);\n",
              "    }\n",
              "  }\n",
              "</style>\n",
              "\n",
              "  <script>\n",
              "    async function quickchart(key) {\n",
              "      const quickchartButtonEl =\n",
              "        document.querySelector('#' + key + ' button');\n",
              "      quickchartButtonEl.disabled = true;  // To prevent multiple clicks.\n",
              "      quickchartButtonEl.classList.add('colab-df-spinner');\n",
              "      try {\n",
              "        const charts = await google.colab.kernel.invokeFunction(\n",
              "            'suggestCharts', [key], {});\n",
              "      } catch (error) {\n",
              "        console.error('Error during call to suggestCharts:', error);\n",
              "      }\n",
              "      quickchartButtonEl.classList.remove('colab-df-spinner');\n",
              "      quickchartButtonEl.classList.add('colab-df-quickchart-complete');\n",
              "    }\n",
              "    (() => {\n",
              "      let quickchartButtonEl =\n",
              "        document.querySelector('#df-1e04328b-2f54-4eff-9aa0-d20873082397 button');\n",
              "      quickchartButtonEl.style.display =\n",
              "        google.colab.kernel.accessAllowed ? 'block' : 'none';\n",
              "    })();\n",
              "  </script>\n",
              "</div>\n",
              "\n",
              "    </div>\n",
              "  </div>\n"
            ]
          },
          "metadata": {},
          "execution_count": 19
        }
      ],
      "source": [
        "# Calculate the error (residual) for each prediction\n",
        "training_residuals = y_train - training_predictions\n",
        "\n",
        "# Store results in dataframe\n",
        "train_results_df = pd.DataFrame({x_label:X_train.flatten(),\n",
        "                                y_true:y_train.flatten(),\n",
        "                                y_predicted:training_predictions.flatten(),\n",
        "                                'residual':training_residuals.flatten()})\n",
        "train_results_df.head()"
      ]
    },
    {
      "cell_type": "markdown",
      "id": "e8d2f89f-8d52-4778-9b42-dea4105f1ea1",
      "metadata": {
        "id": "e8d2f89f-8d52-4778-9b42-dea4105f1ea1"
      },
      "source": [
        "Earlier, we plugged in $\\text{sq_ft}=14.56$ hundred to the model and it returned $\\hat y = 246.99$ thousand, the predicted price, however the true price was 284.14 thousand.  To determine the error in the prediction, calculate the residual as follows:\n",
        "\n",
        "$$\\text{residual} = y - \\hat y$$\n",
        "\n",
        "$$\\text{residual} = 284.14\t - 246.99$$\n",
        "\n",
        "$$\\text{residual} = 37.15$$\n",
        "\n",
        "When $\\text{sq_ft}=14.56$ thousand, the residual indicates the error in the prediction was 37.15 thousand.  Essentially, the true price was 37.15 thousand above the prediction, or in other words, the model under predicted by 37.15 thousand."
      ]
    },
    {
      "cell_type": "markdown",
      "id": "1ef05476-6d69-471f-9cfd-daab961db199",
      "metadata": {
        "id": "1ef05476-6d69-471f-9cfd-daab961db199"
      },
      "source": [
        "### Performance metrics\n",
        "\n",
        "The root mean squared (RMSE) error represents the average amount of error in a prediction, therefore the lower the RMSE, the lower the error.  \n",
        "\n",
        "The r2_score, otherwise known as the coefficient of determination, represents the percent of variation in y that is predictable by x. A value closer to 1 (100%) indicates that the model is using x to makes perfect predictions about y because x is the only piece of information needed to understand y.  On the other hand, a value of 0 (0%) indicates x has no relationship with y.  In this case, x is meaningless in regards to understanding or predicting y.  A linear model between x and y would be useless since x and y have no relationship that can be used to make predictions."
      ]
    },
    {
      "cell_type": "code",
      "execution_count": 20,
      "id": "21c5a710-2231-4a90-9118-1e0af78a93d0",
      "metadata": {
        "id": "21c5a710-2231-4a90-9118-1e0af78a93d0",
        "outputId": "4d10bbb5-8177-4091-e944-273f2ad59da0",
        "colab": {
          "base_uri": "https://localhost:8080/"
        }
      },
      "outputs": [
        {
          "output_type": "stream",
          "name": "stdout",
          "text": [
            "Root mean squared error: 29.96\n",
            "r2 score (coefficient of determination): 81.33%\n"
          ]
        }
      ],
      "source": [
        "# The root mean squared error\n",
        "training_rmse = np.sqrt(mean_squared_error(y_train, training_predictions))\n",
        "print(f\"Root mean squared error: {training_rmse:.2f}\")\n",
        "\n",
        "# The r2_score, otherwise known as the coefficient of determination\n",
        "training_r2_score = lin_reg_model.score(X_train, y_train)\n",
        "print(f\"r2 score (coefficient of determination): {training_r2_score*100:.2f}%\")"
      ]
    },
    {
      "cell_type": "markdown",
      "id": "df22c15c-7216-4023-bf52-726162fa3397",
      "metadata": {
        "id": "df22c15c-7216-4023-bf52-726162fa3397"
      },
      "source": [
        "On average, the model has an error of about 29.96 thousand when make a prediction about a dwelling's price in the training data.\n",
        "\n",
        "Because the relationship between x and y in the training data is strong, sq_ft explains a large chunk (81.33%) of the changes seen in price."
      ]
    },
    {
      "cell_type": "markdown",
      "id": "7d1d5c5d-ce46-4dc5-a256-779b08493ec3",
      "metadata": {
        "id": "7d1d5c5d-ce46-4dc5-a256-779b08493ec3"
      },
      "source": [
        "### Visualizing the Linear Model's fit with Residuals\n",
        "\n",
        "In addition to recreating the same graph from earlier showing the $(x, y)$ pairs of actual data values and the $(x, \\hat y)$ pairs of predicted values, we can also create a scatter plot to visualize the residuals. The second graph shows the residuals and the focus should be around the line $y=0$, the line representing a residual of 0, or an error of 0 in the prediction.  The closer each residual is to that line, the less error in the prediction."
      ]
    },
    {
      "cell_type": "code",
      "execution_count": 21,
      "id": "413d6219-e392-41a2-9b25-566495a99d65",
      "metadata": {
        "id": "413d6219-e392-41a2-9b25-566495a99d65",
        "outputId": "94be16ae-2cb1-492f-b19f-9240efdadd28",
        "colab": {
          "base_uri": "https://localhost:8080/",
          "height": 607
        }
      },
      "outputs": [
        {
          "output_type": "display_data",
          "data": {
            "text/plain": [
              "<Figure size 600x600 with 2 Axes>"
            ],
            "image/png": "[encoded data removed]"
          },
          "metadata": {}
        }
      ],
      "source": [
        "# Create figure and axis for graphing\n",
        "fig, ax = plt.subplots(2, 1, sharex=True, figsize=(6,6))\n",
        "\n",
        "# First axis - Scatter plot of training data\n",
        "ax[0].scatter(X_train, y_train, label='Actual')\n",
        "\n",
        "# First axis - Linear model's trend line\n",
        "ax[0].plot(X_train, training_predictions, color='r', label='predicted', alpha=0.6)\n",
        "\n",
        "ax[0].set_title(f'Training Data: Actual vs. Predicted Values ($r={train_r_value:.4f}; n={train_sample_size})$')\n",
        "ax[0].set_xlabel(x_label)\n",
        "ax[0].set_ylabel(y_label)\n",
        "ax[0].legend()\n",
        "\n",
        "# Second axis - Scatter plot of training residuals\n",
        "ax[1].scatter(X_train, training_residuals, label='Actual')\n",
        "\n",
        "# Second axis - Horizontal lines representing zero residual\n",
        "ax[1].axhline(0, color='r', linestyle='--', alpha=0.6)\n",
        "\n",
        "# # Second axis - Horizontal lines representing the RMSE\n",
        "# ax[1].axhline(-training_rmse, alpha=0.4)\n",
        "# ax[1].axhline(training_rmse, alpha=0.4)\n",
        "\n",
        "ax[1].set_xlabel(x_label)\n",
        "ax[1].set_ylabel(f'Error in {y_label}')\n",
        "ax[1].set_title(f'Residual Plot ($RMSE={training_rmse:.2f})$')\n",
        "\n",
        "plt.tight_layout()"
      ]
    },
    {
      "cell_type": "markdown",
      "id": "6cffdee2-49f6-484c-b2ec-bc889610d4ee",
      "metadata": {
        "id": "6cffdee2-49f6-484c-b2ec-bc889610d4ee"
      },
      "source": [
        "Remember from earlier that a positive residual meant the model made an underprediction, therefore it stands to reason that a negative residual would be an overprediction.  Focusing on the residual plot, there are roughly an equal amount of residuals above 0 as there are below 0, so the model is making about as many underpredictions as it makes overpredictions."
      ]
    },
    {
      "cell_type": "markdown",
      "id": "bd2345b0-8ec0-49c8-9f5f-5cb1f23118c6",
      "metadata": {
        "id": "bd2345b0-8ec0-49c8-9f5f-5cb1f23118c6"
      },
      "source": [
        "## Testing Data\n",
        "\n",
        "The next step is to evaluate performance on testing data.  The performance here is far more important that before, because the goal of the model is to have good performance on new and unseen data."
      ]
    },
    {
      "cell_type": "markdown",
      "id": "95395ae9-b1df-4d17-8e7e-e800866fa35f",
      "metadata": {
        "id": "95395ae9-b1df-4d17-8e7e-e800866fa35f"
      },
      "source": [
        "### Evaluating the strength of the relationship"
      ]
    },
    {
      "cell_type": "code",
      "execution_count": 22,
      "id": "b7d0c424-b05b-4dbf-bb85-6034bf515c19",
      "metadata": {
        "id": "b7d0c424-b05b-4dbf-bb85-6034bf515c19",
        "outputId": "8290247a-cb00-4ab7-a138-12bf0b0681c7",
        "colab": {
          "base_uri": "https://localhost:8080/"
        }
      },
      "outputs": [
        {
          "output_type": "stream",
          "name": "stdout",
          "text": [
            "training r-value (correlation coefficient): 0.9019\n",
            "testing r-value (correlation coefficient): 0.8968\n"
          ]
        }
      ],
      "source": [
        "# The r-value (correlation coefficient)\n",
        "test_r_value = r_regression(X_test, y_test.flatten())[0]\n",
        "print(f\"training r-value (correlation coefficient): {train_r_value:.4f}\")\n",
        "print(f\"testing r-value (correlation coefficient): {test_r_value:.4f}\")"
      ]
    },
    {
      "cell_type": "markdown",
      "id": "cee77532-834b-4209-ba1d-dac070cdeb84",
      "metadata": {
        "id": "cee77532-834b-4209-ba1d-dac070cdeb84"
      },
      "source": [
        "Like in the training dataset, the testing dataset also shows a strong positive relationship between sq_ft and price."
      ]
    },
    {
      "cell_type": "markdown",
      "id": "c87984b4-e78f-4c24-83c2-490ee3fea84e",
      "metadata": {
        "id": "c87984b4-e78f-4c24-83c2-490ee3fea84e"
      },
      "source": [
        "### Making Predictions and Checking Error\n",
        "\n",
        "This time, the model will make predictions on testing data and then the residuals can be calculated."
      ]
    },
    {
      "cell_type": "code",
      "execution_count": 23,
      "id": "75d3f433-8707-4134-98c8-53b725757733",
      "metadata": {
        "id": "75d3f433-8707-4134-98c8-53b725757733",
        "outputId": "6450879a-4bb9-40a6-eb9a-f96787d840b0",
        "colab": {
          "base_uri": "https://localhost:8080/",
          "height": 206
        }
      },
      "outputs": [
        {
          "output_type": "execute_result",
          "data": {
            "text/plain": [
              "   sq_ft (in hundreds)  true_price (in thousands)  \\\n",
              "0                17.17                     277.64   \n",
              "1                12.90                     235.89   \n",
              "2                15.73                     312.79   \n",
              "3                11.55                     186.02   \n",
              "4                17.46                     289.48   \n",
              "\n",
              "   predicted_price (in thousands)  residual  \n",
              "0                          287.46     -9.82  \n",
              "1                          221.24     14.65  \n",
              "2                          265.13     47.66  \n",
              "3                          200.31    -14.29  \n",
              "4                          291.95     -2.47  "
            ],
            "text/html": [
              "\n",
              "  <div id=\"df-226cde82-200c-4406-8c3c-044c48110145\" class=\"colab-df-container\">\n",
              "    <div>\n",
              "<style scoped>\n",
              "    .dataframe tbody tr th:only-of-type {\n",
              "        vertical-align: middle;\n",
              "    }\n",
              "\n",
              "    .dataframe tbody tr th {\n",
              "        vertical-align: top;\n",
              "    }\n",
              "\n",
              "    .dataframe thead th {\n",
              "        text-align: right;\n",
              "    }\n",
              "</style>\n",
              "<table border=\"1\" class=\"dataframe\">\n",
              "  <thead>\n",
              "    <tr style=\"text-align: right;\">\n",
              "      <th></th>\n",
              "      <th>sq_ft (in hundreds)</th>\n",
              "      <th>true_price (in thousands)</th>\n",
              "      <th>predicted_price (in thousands)</th>\n",
              "      <th>residual</th>\n",
              "    </tr>\n",
              "  </thead>\n",
              "  <tbody>\n",
              "    <tr>\n",
              "      <th>0</th>\n",
              "      <td>17.17</td>\n",
              "      <td>277.64</td>\n",
              "      <td>287.46</td>\n",
              "      <td>-9.82</td>\n",
              "    </tr>\n",
              "    <tr>\n",
              "      <th>1</th>\n",
              "      <td>12.90</td>\n",
              "      <td>235.89</td>\n",
              "      <td>221.24</td>\n",
              "      <td>14.65</td>\n",
              "    </tr>\n",
              "    <tr>\n",
              "      <th>2</th>\n",
              "      <td>15.73</td>\n",
              "      <td>312.79</td>\n",
              "      <td>265.13</td>\n",
              "      <td>47.66</td>\n",
              "    </tr>\n",
              "    <tr>\n",
              "      <th>3</th>\n",
              "      <td>11.55</td>\n",
              "      <td>186.02</td>\n",
              "      <td>200.31</td>\n",
              "      <td>-14.29</td>\n",
              "    </tr>\n",
              "    <tr>\n",
              "      <th>4</th>\n",
              "      <td>17.46</td>\n",
              "      <td>289.48</td>\n",
              "      <td>291.95</td>\n",
              "      <td>-2.47</td>\n",
              "    </tr>\n",
              "  </tbody>\n",
              "</table>\n",
              "</div>\n",
              "    <div class=\"colab-df-buttons\">\n",
              "\n",
              "  <div class=\"colab-df-container\">\n",
              "    <button class=\"colab-df-convert\" onclick=\"convertToInteractive('df-226cde82-200c-4406-8c3c-044c48110145')\"\n",
              "            title=\"Convert this dataframe to an interactive table.\"\n",
              "            style=\"display:none;\">\n",
              "\n",
              "  <svg xmlns=\"http://www.w3.org/2000/svg\" height=\"24px\" viewBox=\"0 -960 960 960\">\n",
              "    <path d=\"M120-120v-720h720v720H120Zm60-500h600v-160H180v160Zm220 220h160v-160H400v160Zm0 220h160v-160H400v160ZM180-400h160v-160H180v160Zm440 0h160v-160H620v160ZM180-180h160v-160H180v160Zm440 0h160v-160H620v160Z\"/>\n",
              "  </svg>\n",
              "    </button>\n",
              "\n",
              "  <style>\n",
              "    .colab-df-container {\n",
              "      display:flex;\n",
              "      gap: 12px;\n",
              "    }\n",
              "\n",
              "    .colab-df-convert {\n",
              "      background-color: #E8F0FE;\n",
              "      border: none;\n",
              "      border-radius: 50%;\n",
              "      cursor: pointer;\n",
              "      display: none;\n",
              "      fill: #1967D2;\n",
              "      height: 32px;\n",
              "      padding: 0 0 0 0;\n",
              "      width: 32px;\n",
              "    }\n",
              "\n",
              "    .colab-df-convert:hover {\n",
              "      background-color: #E2EBFA;\n",
              "      box-shadow: 0px 1px 2px rgba(60, 64, 67, 0.3), 0px 1px 3px 1px rgba(60, 64, 67, 0.15);\n",
              "      fill: #174EA6;\n",
              "    }\n",
              "\n",
              "    .colab-df-buttons div {\n",
              "      margin-bottom: 4px;\n",
              "    }\n",
              "\n",
              "    [theme=dark] .colab-df-convert {\n",
              "      background-color: #3B4455;\n",
              "      fill: #D2E3FC;\n",
              "    }\n",
              "\n",
              "    [theme=dark] .colab-df-convert:hover {\n",
              "      background-color: #434B5C;\n",
              "      box-shadow: 0px 1px 3px 1px rgba(0, 0, 0, 0.15);\n",
              "      filter: drop-shadow(0px 1px 2px rgba(0, 0, 0, 0.3));\n",
              "      fill: #FFFFFF;\n",
              "    }\n",
              "  </style>\n",
              "\n",
              "    <script>\n",
              "      const buttonEl =\n",
              "        document.querySelector('#df-226cde82-200c-4406-8c3c-044c48110145 button.colab-df-convert');\n",
              "      buttonEl.style.display =\n",
              "        google.colab.kernel.accessAllowed ? 'block' : 'none';\n",
              "\n",
              "      async function convertToInteractive(key) {\n",
              "        const element = document.querySelector('#df-226cde82-200c-4406-8c3c-044c48110145');\n",
              "        const dataTable =\n",
              "          await google.colab.kernel.invokeFunction('convertToInteractive',\n",
              "                                                    [key], {});\n",
              "        if (!dataTable) return;\n",
              "\n",
              "        const docLinkHtml = 'Like what you see? Visit the ' +\n",
              "          '<a target=\"_blank\" href=https://colab.research.google.com/notebooks/data_table.ipynb>data table notebook</a>'\n",
              "          + ' to learn more about interactive tables.';\n",
              "        element.innerHTML = '';\n",
              "        dataTable['output_type'] = 'display_data';\n",
              "        await google.colab.output.renderOutput(dataTable, element);\n",
              "        const docLink = document.createElement('div');\n",
              "        docLink.innerHTML = docLinkHtml;\n",
              "        element.appendChild(docLink);\n",
              "      }\n",
              "    </script>\n",
              "  </div>\n",
              "\n",
              "\n",
              "<div id=\"df-4857579f-37bf-4258-aa0d-83caa4a754f1\">\n",
              "  <button class=\"colab-df-quickchart\" onclick=\"quickchart('df-4857579f-37bf-4258-aa0d-83caa4a754f1')\"\n",
              "            title=\"Suggest charts\"\n",
              "            style=\"display:none;\">\n",
              "\n",
              "<svg xmlns=\"http://www.w3.org/2000/svg\" height=\"24px\"viewBox=\"0 0 24 24\"\n",
              "     width=\"24px\">\n",
              "    <g>\n",
              "        <path d=\"M19 3H5c-1.1 0-2 .9-2 2v14c0 1.1.9 2 2 2h14c1.1 0 2-.9 2-2V5c0-1.1-.9-2-2-2zM9 17H7v-7h2v7zm4 0h-2V7h2v10zm4 0h-2v-4h2v4z\"/>\n",
              "    </g>\n",
              "</svg>\n",
              "  </button>\n",
              "\n",
              "<style>\n",
              "  .colab-df-quickchart {\n",
              "      --bg-color: #E8F0FE;\n",
              "      --fill-color: #1967D2;\n",
              "      --hover-bg-color: #E2EBFA;\n",
              "      --hover-fill-color: #174EA6;\n",
              "      --disabled-fill-color: #AAA;\n",
              "      --disabled-bg-color: #DDD;\n",
              "  }\n",
              "\n",
              "  [theme=dark] .colab-df-quickchart {\n",
              "      --bg-color: #3B4455;\n",
              "      --fill-color: #D2E3FC;\n",
              "      --hover-bg-color: #434B5C;\n",
              "      --hover-fill-color: #FFFFFF;\n",
              "      --disabled-bg-color: #3B4455;\n",
              "      --disabled-fill-color: #666;\n",
              "  }\n",
              "\n",
              "  .colab-df-quickchart {\n",
              "    background-color: var(--bg-color);\n",
              "    border: none;\n",
              "    border-radius: 50%;\n",
              "    cursor: pointer;\n",
              "    display: none;\n",
              "    fill: var(--fill-color);\n",
              "    height: 32px;\n",
              "    padding: 0;\n",
              "    width: 32px;\n",
              "  }\n",
              "\n",
              "  .colab-df-quickchart:hover {\n",
              "    background-color: var(--hover-bg-color);\n",
              "    box-shadow: 0 1px 2px rgba(60, 64, 67, 0.3), 0 1px 3px 1px rgba(60, 64, 67, 0.15);\n",
              "    fill: var(--button-hover-fill-color);\n",
              "  }\n",
              "\n",
              "  .colab-df-quickchart-complete:disabled,\n",
              "  .colab-df-quickchart-complete:disabled:hover {\n",
              "    background-color: var(--disabled-bg-color);\n",
              "    fill: var(--disabled-fill-color);\n",
              "    box-shadow: none;\n",
              "  }\n",
              "\n",
              "  .colab-df-spinner {\n",
              "    border: 2px solid var(--fill-color);\n",
              "    border-color: transparent;\n",
              "    border-bottom-color: var(--fill-color);\n",
              "    animation:\n",
              "      spin 1s steps(1) infinite;\n",
              "  }\n",
              "\n",
              "  @keyframes spin {\n",
              "    0% {\n",
              "      border-color: transparent;\n",
              "      border-bottom-color: var(--fill-color);\n",
              "      border-left-color: var(--fill-color);\n",
              "    }\n",
              "    20% {\n",
              "      border-color: transparent;\n",
              "      border-left-color: var(--fill-color);\n",
              "      border-top-color: var(--fill-color);\n",
              "    }\n",
              "    30% {\n",
              "      border-color: transparent;\n",
              "      border-left-color: var(--fill-color);\n",
              "      border-top-color: var(--fill-color);\n",
              "      border-right-color: var(--fill-color);\n",
              "    }\n",
              "    40% {\n",
              "      border-color: transparent;\n",
              "      border-right-color: var(--fill-color);\n",
              "      border-top-color: var(--fill-color);\n",
              "    }\n",
              "    60% {\n",
              "      border-color: transparent;\n",
              "      border-right-color: var(--fill-color);\n",
              "    }\n",
              "    80% {\n",
              "      border-color: transparent;\n",
              "      border-right-color: var(--fill-color);\n",
              "      border-bottom-color: var(--fill-color);\n",
              "    }\n",
              "    90% {\n",
              "      border-color: transparent;\n",
              "      border-bottom-color: var(--fill-color);\n",
              "    }\n",
              "  }\n",
              "</style>\n",
              "\n",
              "  <script>\n",
              "    async function quickchart(key) {\n",
              "      const quickchartButtonEl =\n",
              "        document.querySelector('#' + key + ' button');\n",
              "      quickchartButtonEl.disabled = true;  // To prevent multiple clicks.\n",
              "      quickchartButtonEl.classList.add('colab-df-spinner');\n",
              "      try {\n",
              "        const charts = await google.colab.kernel.invokeFunction(\n",
              "            'suggestCharts', [key], {});\n",
              "      } catch (error) {\n",
              "        console.error('Error during call to suggestCharts:', error);\n",
              "      }\n",
              "      quickchartButtonEl.classList.remove('colab-df-spinner');\n",
              "      quickchartButtonEl.classList.add('colab-df-quickchart-complete');\n",
              "    }\n",
              "    (() => {\n",
              "      let quickchartButtonEl =\n",
              "        document.querySelector('#df-4857579f-37bf-4258-aa0d-83caa4a754f1 button');\n",
              "      quickchartButtonEl.style.display =\n",
              "        google.colab.kernel.accessAllowed ? 'block' : 'none';\n",
              "    })();\n",
              "  </script>\n",
              "</div>\n",
              "\n",
              "    </div>\n",
              "  </div>\n"
            ]
          },
          "metadata": {},
          "execution_count": 23
        }
      ],
      "source": [
        "# Make predictions using the \"unseen\" testing data\n",
        "test_predictions = lin_reg_model.predict(X_test)\n",
        "test_predictions = np.round(test_predictions, 2)\n",
        "\n",
        "# Calculate the error (residual) for each prediction\n",
        "test_residuals = y_test - test_predictions\n",
        "\n",
        "# Store results in dataframe\n",
        "test_results_df = pd.DataFrame({x_label:X_test.flatten(),\n",
        "                                y_true:y_test.flatten(),\n",
        "                                y_predicted:test_predictions.flatten(),\n",
        "                                'residual':test_residuals.flatten()})\n",
        "test_results_df.head()"
      ]
    },
    {
      "cell_type": "markdown",
      "id": "6cde9a5a-e240-4611-973f-7b78ad5584f5",
      "metadata": {
        "id": "6cde9a5a-e240-4611-973f-7b78ad5584f5"
      },
      "source": [
        "Calculating residuals on the testing data is the same process as before.  \n",
        "\n",
        "For the first entry in the testing data, $\\text{sq_ft}=17.17$ hundred, plugging this value into the linear model would result in a prediction of $\\hat y = 287.46$ thousand.  \n",
        "\n",
        "Using the\n",
        "the true price of $y=277.64$ thousand, the residual is calculated as -9.82 thousand, meaning the model over predicted by 9.82 thousand."
      ]
    },
    {
      "cell_type": "markdown",
      "id": "3ea8d9e0-cb9f-4c50-add1-8cc0adcf3009",
      "metadata": {
        "id": "3ea8d9e0-cb9f-4c50-add1-8cc0adcf3009"
      },
      "source": [
        "### Evaluating performance metrics\n",
        "\n",
        "Now comes time to compare the performance on \"unseen\" testing data against the metrics from the \"seen\" training data.  It should be noted that performance metrics always perform worse on testing data than they do on training data and it's extremely normal to see worse performance on testing data.  Ideally, the testing metrics will be close to the training metrics because this indicates the model generalizes to the new data well enough to produce similar results."
      ]
    },
    {
      "cell_type": "code",
      "execution_count": 24,
      "id": "f13b98fb-64c8-4e28-aea5-215fe8d0ae2c",
      "metadata": {
        "id": "f13b98fb-64c8-4e28-aea5-215fe8d0ae2c",
        "outputId": "831c3c8d-105e-431e-8ef3-d36b04b25c02",
        "colab": {
          "base_uri": "https://localhost:8080/"
        }
      },
      "outputs": [
        {
          "output_type": "stream",
          "name": "stdout",
          "text": [
            "Training root mean squared error: 29.96\n",
            "Testing root mean squared error: 29.38\n",
            "\n",
            "Training r2 score (coefficient of determination): 81.33%\n",
            "Testing r2 score (coefficient of determination): 80.09%\n"
          ]
        }
      ],
      "source": [
        "# The root mean squared error\n",
        "testing_rmse = np.sqrt(mean_squared_error(y_test, test_predictions))\n",
        "print(f\"Training root mean squared error: {training_rmse:.2f}\")\n",
        "print(f\"Testing root mean squared error: {testing_rmse:.2f}\")\n",
        "print()\n",
        "\n",
        "# The r2_score, otherwise known as the coefficient of determination\n",
        "testing_r2_score = lin_reg_model.score(X_test, y_test)\n",
        "print(f\"Training r2 score (coefficient of determination): {training_r2_score*100:.2f}%\")\n",
        "print(f\"Testing r2 score (coefficient of determination): {testing_r2_score*100:.2f}%\")"
      ]
    },
    {
      "cell_type": "markdown",
      "id": "44e4c845-aa23-487d-b2f2-199ab023cad6",
      "metadata": {
        "id": "44e4c845-aa23-487d-b2f2-199ab023cad6"
      },
      "source": [
        "The model actually produces slightly less error when evaluated on the testing data, but the r2 score has dropped slightly.  In general, both the RMSE and r2 score indicate about the same performance overall on testing data as on training data.  The model seems to be generalizing well to new data.  This is a great sign and indicates the model is appropriate for its intended application, predicting price using the square footage of a dwelling."
      ]
    },
    {
      "cell_type": "markdown",
      "id": "c220c24e-97b9-4af1-b7be-4e7f2834dc3b",
      "metadata": {
        "id": "c220c24e-97b9-4af1-b7be-4e7f2834dc3b"
      },
      "source": [
        "# Comparing the Training Model against the Testing Model"
      ]
    },
    {
      "cell_type": "code",
      "execution_count": 25,
      "id": "3e638930-7367-4b1b-a5e3-53d1915ca6ce",
      "metadata": {
        "id": "3e638930-7367-4b1b-a5e3-53d1915ca6ce",
        "outputId": "1d9a453a-2e9d-4bc4-f692-3d832aba1be1",
        "colab": {
          "base_uri": "https://localhost:8080/",
          "height": 807
        }
      },
      "outputs": [
        {
          "output_type": "display_data",
          "data": {
            "text/plain": [
              "<Figure size 800x800 with 4 Axes>"
            ],
            "image/png": "[encoded data removed]"
          },
          "metadata": {}
        }
      ],
      "source": [
        "test_sample_size = X_test.shape[0]\n",
        "\n",
        "fig, ax = plt.subplots(2, 2, sharex=True, sharey=True, figsize=(8,8))\n",
        "\n",
        "# Graphing Training Data\n",
        "\n",
        "## Top left axis - Scatter plot of training data\n",
        "ax[0,0].scatter(X_train, y_train, label='Actual')\n",
        "\n",
        "## Top left axis - Linear model's trend line\n",
        "ax[0,0].plot(X_train, training_predictions, color='r', label='predicted', alpha=0.6)\n",
        "\n",
        "ax[0,0].set_title(f'Training Data\\n($r={train_r_value:.4f}; n={train_sample_size})$')\n",
        "ax[0,0].set_xlabel(x_label)\n",
        "ax[0,0].set_ylabel(y_label)\n",
        "ax[0,0].legend()\n",
        "\n",
        "## Bottom left axis - Scatter plot of training residuals\n",
        "ax[1,0].scatter(X_train, training_residuals, label='Actual')\n",
        "\n",
        "## Bottom left axis - Horizontal Line representing zero residual\n",
        "ax[1,0].axhline(0, color='r', linestyle='--', alpha=0.6)\n",
        "\n",
        "ax[1,0].set_xlabel(x_label)\n",
        "ax[1,0].set_ylabel(f'Error in {y_label}')\n",
        "ax[1,0].set_title(f'Residual Plot ($RMSE={training_rmse:.2f})$')\n",
        "\n",
        "# Graphing Testing Data\n",
        "\n",
        "## Top right axis - Scatter plot of testing data\n",
        "ax[0,1].scatter(X_test, y_test, label='Actual')\n",
        "\n",
        "## Top right axis - Linear model's trend line\n",
        "ax[0,1].plot(X_test, test_predictions, color='r', label='predicted')\n",
        "\n",
        "ax[0,1].set_title(f'Testing Data\\n($r={test_r_value:.4f}; n={test_sample_size})$')\n",
        "ax[0,1].set_xlabel(x_label)\n",
        "ax[0,1].set_ylabel(y_label)\n",
        "ax[0,1].legend()\n",
        "\n",
        "## Bottom right axis - Scatter plot of testing residuals\n",
        "ax[1,1].scatter(X_test, test_residuals, label='Actual')\n",
        "\n",
        "## Bottom right axis - Horizontal line representing zero residual\n",
        "ax[1,1].axhline(0, color='r', linestyle='--')\n",
        "\n",
        "ax[1,1].set_title(f'Residual Plot ($RMSE={testing_rmse:.2f})$')\n",
        "ax[1,1].set_xlabel(x_label)\n",
        "ax[1,1].set_ylabel(f'Error in {y_label}')\n",
        "\n",
        "plt.tight_layout()"
      ]
    },
    {
      "cell_type": "markdown",
      "id": "9a644da8-a9d4-4374-8771-197ffa5b36c1",
      "metadata": {
        "id": "9a644da8-a9d4-4374-8771-197ffa5b36c1"
      },
      "source": [
        "Visually, the performance between both models appears similar, which is in line with what was seen in the performance metrics.  "
      ]
    },
    {
      "cell_type": "markdown",
      "id": "1dae1355-2c46-452e-9a98-ea66102facaa",
      "metadata": {
        "id": "1dae1355-2c46-452e-9a98-ea66102facaa"
      },
      "source": [
        "# Conclusion"
      ]
    },
    {
      "cell_type": "markdown",
      "id": "db2f68de-9c1b-4225-b271-915709abcfbe",
      "metadata": {
        "id": "db2f68de-9c1b-4225-b271-915709abcfbe"
      },
      "source": [
        "By visualizing the dataset and seeing the linear trend and because we wanted to predict a quantitative output, linear regression was a reasonable choice to make.  Evaluating the model's performance on training and testing data produced similar results, giving confidence that the model will be able to do well on new and unseen data.  \n",
        "\n",
        "In general, it's quite difficult to get the model right on the first try.  Had the linear regression model performed poorly, it wouldn't have been the end of the world.  Instead, one would have to go back to the drawing board, try a different model, and evaluate its performance."
      ]
    },
    {
      "cell_type": "code",
      "execution_count": null,
      "id": "97317600-34c6-490a-929d-c6e47cd30cab",
      "metadata": {
        "id": "97317600-34c6-490a-929d-c6e47cd30cab"
      },
      "outputs": [],
      "source": []
    }
  ],
  "metadata": {
    "jupytext": {
      "formats": "ipynb,py:percent"
    },
    "kernelspec": {
      "display_name": "Python 3 (ipykernel)",
      "language": "python",
      "name": "python3"
    },
    "language_info": {
      "codemirror_mode": {
        "name": "ipython",
        "version": 3
      },
      "file_extension": ".py",
      "mimetype": "text/x-python",
      "name": "python",
      "nbconvert_exporter": "python",
      "pygments_lexer": "ipython3",
      "version": "3.11.4"
    },
    "colab": {
      "provenance": []
    }
  },
  "nbformat": 4,
  "nbformat_minor": 5
}