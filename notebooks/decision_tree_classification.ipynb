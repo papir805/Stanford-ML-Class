{
 "cells": [
  {
   "cell_type": "markdown",
   "id": "2e1283d8-b684-42d0-bb71-479ad72ba6a6",
   "metadata": {},
   "source": [
    "# Imports"
   ]
  },
  {
   "cell_type": "code",
   "execution_count": 1,
   "id": "a0a5fa0c-042c-4788-a195-22709bb66f4d",
   "metadata": {},
   "outputs": [],
   "source": [
    "import pandas as pd\n",
    "\n",
    "from sklearn import tree\n",
    "from sklearn.model_selection import train_test_split\n",
    "from sklearn.inspection import DecisionBoundaryDisplay\n",
    "\n",
    "import matplotlib.pyplot as plt\n",
    "\n",
    "import graphviz"
   ]
  },
  {
   "cell_type": "markdown",
   "id": "5cbab5f2-9430-43b9-80cc-b92b1007f6f8",
   "metadata": {},
   "source": [
    "# Read data"
   ]
  },
  {
   "cell_type": "code",
   "execution_count": 2,
   "id": "ea1fbbc7-363f-4998-b1d3-39a1fcb01041",
   "metadata": {},
   "outputs": [],
   "source": [
    "df = pd.read_csv(\"../data/toy_data.csv\", index_col=0)"
   ]
  },
  {
   "cell_type": "code",
   "execution_count": 3,
   "id": "06d875d8-3450-4929-8228-780cb0327a0a",
   "metadata": {},
   "outputs": [
    {
     "data": {
      "text/html": [
       "<div>\n",
       "<style scoped>\n",
       "    .dataframe tbody tr th:only-of-type {\n",
       "        vertical-align: middle;\n",
       "    }\n",
       "\n",
       "    .dataframe tbody tr th {\n",
       "        vertical-align: top;\n",
       "    }\n",
       "\n",
       "    .dataframe thead th {\n",
       "        text-align: right;\n",
       "    }\n",
       "</style>\n",
       "<table border=\"1\" class=\"dataframe\">\n",
       "  <thead>\n",
       "    <tr style=\"text-align: right;\">\n",
       "      <th></th>\n",
       "      <th>x</th>\n",
       "      <th>y</th>\n",
       "      <th>type</th>\n",
       "    </tr>\n",
       "  </thead>\n",
       "  <tbody>\n",
       "    <tr>\n",
       "      <th>0</th>\n",
       "      <td>-0.804458</td>\n",
       "      <td>0.320932</td>\n",
       "      <td>yes</td>\n",
       "    </tr>\n",
       "    <tr>\n",
       "      <th>1</th>\n",
       "      <td>-0.025483</td>\n",
       "      <td>0.644324</td>\n",
       "      <td>yes</td>\n",
       "    </tr>\n",
       "    <tr>\n",
       "      <th>2</th>\n",
       "      <td>-0.300797</td>\n",
       "      <td>0.389475</td>\n",
       "      <td>yes</td>\n",
       "    </tr>\n",
       "    <tr>\n",
       "      <th>3</th>\n",
       "      <td>-0.107437</td>\n",
       "      <td>-0.479983</td>\n",
       "      <td>yes</td>\n",
       "    </tr>\n",
       "    <tr>\n",
       "      <th>4</th>\n",
       "      <td>0.595036</td>\n",
       "      <td>-0.464668</td>\n",
       "      <td>yes</td>\n",
       "    </tr>\n",
       "  </tbody>\n",
       "</table>\n",
       "</div>"
      ],
      "text/plain": [
       "          x         y type\n",
       "0 -0.804458  0.320932  yes\n",
       "1 -0.025483  0.644324  yes\n",
       "2 -0.300797  0.389475  yes\n",
       "3 -0.107437 -0.479983  yes\n",
       "4  0.595036 -0.464668  yes"
      ]
     },
     "execution_count": 3,
     "metadata": {},
     "output_type": "execute_result"
    }
   ],
   "source": [
    "df.head()"
   ]
  },
  {
   "cell_type": "markdown",
   "id": "d575cec1-3706-418f-b2f0-824c946e6562",
   "metadata": {},
   "source": [
    "# Generate Training and Testing Data"
   ]
  },
  {
   "cell_type": "code",
   "execution_count": 4,
   "id": "bd7b6779-0420-4d61-8120-59d6dce71bb7",
   "metadata": {},
   "outputs": [],
   "source": [
    "feat_names = df.columns[:-1]\n",
    "class_names = df['type'].unique()"
   ]
  },
  {
   "cell_type": "code",
   "execution_count": 5,
   "id": "a7d4aff5-d0d5-4e0a-8315-62a4c780123f",
   "metadata": {},
   "outputs": [],
   "source": [
    "X_train, X_test, y_train, y_test = train_test_split(df[feat_names],\n",
    "                                                    df['type'],\n",
    "                                                    test_size=0.25,\n",
    "                                                    random_state=42)"
   ]
  },
  {
   "cell_type": "markdown",
   "id": "56849fdf-f522-4e9d-bb84-624483ff331f",
   "metadata": {},
   "source": [
    "# Training and Fitting the Model"
   ]
  },
  {
   "cell_type": "code",
   "execution_count": 6,
   "id": "4ad0fa08-0a4d-49b6-883a-d45deb57752d",
   "metadata": {},
   "outputs": [],
   "source": [
    "decision_tree_classifier = tree.DecisionTreeClassifier(max_depth=2, random_state=0)\n",
    "decision_tree_classifier = decision_tree_classifier.fit(X_train, y_train)"
   ]
  },
  {
   "cell_type": "markdown",
   "id": "b79522d5-34ce-4945-a679-7aeb84cf2b4a",
   "metadata": {},
   "source": [
    "# Visualizing the Decision Tree"
   ]
  },
  {
   "cell_type": "code",
   "execution_count": 7,
   "id": "61e57b68-fe57-441e-ba24-f3da19ef63c6",
   "metadata": {},
   "outputs": [
    {
     "data": {
      "image/png": "[encoded data removed]",
      "text/plain": [
       "<Figure size 640x480 with 1 Axes>"
      ]
     },
     "metadata": {},
     "output_type": "display_data"
    }
   ],
   "source": [
    "fig, ax = plt.subplots(1,1)\n",
    "tree.plot_tree(decision_tree_classifier, ax=ax);"
   ]
  },
  {
   "cell_type": "markdown",
   "id": "80632354-4efe-44f1-a2db-5bbd82e38d5c",
   "metadata": {},
   "source": [
    "# Visualizing Decision Tree using Graphviz"
   ]
  },
  {
   "cell_type": "code",
   "execution_count": 8,
   "id": "62eaf5ba-fbfd-4233-ae05-904d661e73f5",
   "metadata": {},
   "outputs": [
    {
     "data": {
      "image/svg+xml": [
       "<?xml version=\"1.0\" encoding=\"UTF-8\" standalone=\"no\"?>\n",
       "<!DOCTYPE svg PUBLIC \"-//W3C//DTD SVG 1.1//EN\"\n",
       " \"http://www.w3.org/Graphics/SVG/1.1/DTD/svg11.dtd\">\n",
       "<!-- Generated by graphviz version 2.50.0 (0)\n",
       " -->\n",
       "<!-- Title: Tree Pages: 1 -->\n",
       "<svg width=\"489pt\" height=\"314pt\"\n",
       " viewBox=\"0.00 0.00 488.50 314.00\" xmlns=\"http://www.w3.org/2000/svg\" xmlns:xlink=\"http://www.w3.org/1999/xlink\">\n",
       "<g id=\"graph0\" class=\"graph\" transform=\"scale(1 1) rotate(0) translate(4 310)\">\n",
       "<title>Tree</title>\n",
       "<polygon fill=\"white\" stroke=\"transparent\" points=\"-4,4 -4,-310 484.5,-310 484.5,4 -4,4\"/>\n",
       "<!-- 0 -->\n",
       "<g id=\"node1\" class=\"node\">\n",
       "<title>0</title>\n",
       "<path fill=\"#fcfdff\" stroke=\"black\" d=\"M285,-306C285,-306 184,-306 184,-306 178,-306 172,-300 172,-294 172,-294 172,-235 172,-235 172,-229 178,-223 184,-223 184,-223 285,-223 285,-223 291,-223 297,-229 297,-235 297,-235 297,-294 297,-294 297,-300 291,-306 285,-306\"/>\n",
       "<text text-anchor=\"middle\" x=\"234.5\" y=\"-290.8\" font-family=\"Helvetica,sans-Serif\" font-size=\"14.00\">x &lt;= 1.086</text>\n",
       "<text text-anchor=\"middle\" x=\"234.5\" y=\"-275.8\" font-family=\"Helvetica,sans-Serif\" font-size=\"14.00\">gini = 0.5</text>\n",
       "<text text-anchor=\"middle\" x=\"234.5\" y=\"-260.8\" font-family=\"Helvetica,sans-Serif\" font-size=\"14.00\">samples = 375</text>\n",
       "<text text-anchor=\"middle\" x=\"234.5\" y=\"-245.8\" font-family=\"Helvetica,sans-Serif\" font-size=\"14.00\">value = [186, 189]</text>\n",
       "<text text-anchor=\"middle\" x=\"234.5\" y=\"-230.8\" font-family=\"Helvetica,sans-Serif\" font-size=\"14.00\">class = no</text>\n",
       "</g>\n",
       "<!-- 1 -->\n",
       "<g id=\"node2\" class=\"node\">\n",
       "<title>1</title>\n",
       "<path fill=\"#45a3e7\" stroke=\"black\" d=\"M214,-187C214,-187 121,-187 121,-187 115,-187 109,-181 109,-175 109,-175 109,-116 109,-116 109,-110 115,-104 121,-104 121,-104 214,-104 214,-104 220,-104 226,-110 226,-116 226,-116 226,-175 226,-175 226,-181 220,-187 214,-187\"/>\n",
       "<text text-anchor=\"middle\" x=\"167.5\" y=\"-171.8\" font-family=\"Helvetica,sans-Serif\" font-size=\"14.00\">y &lt;= &#45;2.356</text>\n",
       "<text text-anchor=\"middle\" x=\"167.5\" y=\"-156.8\" font-family=\"Helvetica,sans-Serif\" font-size=\"14.00\">gini = 0.107</text>\n",
       "<text text-anchor=\"middle\" x=\"167.5\" y=\"-141.8\" font-family=\"Helvetica,sans-Serif\" font-size=\"14.00\">samples = 176</text>\n",
       "<text text-anchor=\"middle\" x=\"167.5\" y=\"-126.8\" font-family=\"Helvetica,sans-Serif\" font-size=\"14.00\">value = [10, 166]</text>\n",
       "<text text-anchor=\"middle\" x=\"167.5\" y=\"-111.8\" font-family=\"Helvetica,sans-Serif\" font-size=\"14.00\">class = no</text>\n",
       "</g>\n",
       "<!-- 0&#45;&gt;1 -->\n",
       "<g id=\"edge1\" class=\"edge\">\n",
       "<title>0&#45;&gt;1</title>\n",
       "<path fill=\"none\" stroke=\"black\" d=\"M211.25,-222.91C206.27,-214.2 200.94,-204.9 195.79,-195.89\"/>\n",
       "<polygon fill=\"black\" stroke=\"black\" points=\"198.71,-193.96 190.7,-187.02 192.64,-197.44 198.71,-193.96\"/>\n",
       "<text text-anchor=\"middle\" x=\"184.15\" y=\"-207.45\" font-family=\"Helvetica,sans-Serif\" font-size=\"14.00\">True</text>\n",
       "</g>\n",
       "<!-- 4 -->\n",
       "<g id=\"node5\" class=\"node\">\n",
       "<title>4</title>\n",
       "<path fill=\"#e89153\" stroke=\"black\" d=\"M349,-187C349,-187 256,-187 256,-187 250,-187 244,-181 244,-175 244,-175 244,-116 244,-116 244,-110 250,-104 256,-104 256,-104 349,-104 349,-104 355,-104 361,-110 361,-116 361,-116 361,-175 361,-175 361,-181 355,-187 349,-187\"/>\n",
       "<text text-anchor=\"middle\" x=\"302.5\" y=\"-171.8\" font-family=\"Helvetica,sans-Serif\" font-size=\"14.00\">y &lt;= 0.236</text>\n",
       "<text text-anchor=\"middle\" x=\"302.5\" y=\"-156.8\" font-family=\"Helvetica,sans-Serif\" font-size=\"14.00\">gini = 0.204</text>\n",
       "<text text-anchor=\"middle\" x=\"302.5\" y=\"-141.8\" font-family=\"Helvetica,sans-Serif\" font-size=\"14.00\">samples = 199</text>\n",
       "<text text-anchor=\"middle\" x=\"302.5\" y=\"-126.8\" font-family=\"Helvetica,sans-Serif\" font-size=\"14.00\">value = [176, 23]</text>\n",
       "<text text-anchor=\"middle\" x=\"302.5\" y=\"-111.8\" font-family=\"Helvetica,sans-Serif\" font-size=\"14.00\">class = yes</text>\n",
       "</g>\n",
       "<!-- 0&#45;&gt;4 -->\n",
       "<g id=\"edge4\" class=\"edge\">\n",
       "<title>0&#45;&gt;4</title>\n",
       "<path fill=\"none\" stroke=\"black\" d=\"M258.09,-222.91C263.16,-214.2 268.56,-204.9 273.79,-195.89\"/>\n",
       "<polygon fill=\"black\" stroke=\"black\" points=\"276.95,-197.43 278.95,-187.02 270.9,-193.91 276.95,-197.43\"/>\n",
       "<text text-anchor=\"middle\" x=\"285.35\" y=\"-207.49\" font-family=\"Helvetica,sans-Serif\" font-size=\"14.00\">False</text>\n",
       "</g>\n",
       "<!-- 2 -->\n",
       "<g id=\"node3\" class=\"node\">\n",
       "<title>2</title>\n",
       "<path fill=\"#ea9a61\" stroke=\"black\" d=\"M83,-68C83,-68 12,-68 12,-68 6,-68 0,-62 0,-56 0,-56 0,-12 0,-12 0,-6 6,0 12,0 12,0 83,0 83,0 89,0 95,-6 95,-12 95,-12 95,-56 95,-56 95,-62 89,-68 83,-68\"/>\n",
       "<text text-anchor=\"middle\" x=\"47.5\" y=\"-52.8\" font-family=\"Helvetica,sans-Serif\" font-size=\"14.00\">gini = 0.278</text>\n",
       "<text text-anchor=\"middle\" x=\"47.5\" y=\"-37.8\" font-family=\"Helvetica,sans-Serif\" font-size=\"14.00\">samples = 6</text>\n",
       "<text text-anchor=\"middle\" x=\"47.5\" y=\"-22.8\" font-family=\"Helvetica,sans-Serif\" font-size=\"14.00\">value = [5, 1]</text>\n",
       "<text text-anchor=\"middle\" x=\"47.5\" y=\"-7.8\" font-family=\"Helvetica,sans-Serif\" font-size=\"14.00\">class = yes</text>\n",
       "</g>\n",
       "<!-- 1&#45;&gt;2 -->\n",
       "<g id=\"edge2\" class=\"edge\">\n",
       "<title>1&#45;&gt;2</title>\n",
       "<path fill=\"none\" stroke=\"black\" d=\"M122.82,-103.73C112.62,-94.42 101.79,-84.54 91.62,-75.26\"/>\n",
       "<polygon fill=\"black\" stroke=\"black\" points=\"93.74,-72.45 83.99,-68.3 89.02,-77.63 93.74,-72.45\"/>\n",
       "</g>\n",
       "<!-- 3 -->\n",
       "<g id=\"node4\" class=\"node\">\n",
       "<title>3</title>\n",
       "<path fill=\"#3fa0e6\" stroke=\"black\" d=\"M211.5,-68C211.5,-68 125.5,-68 125.5,-68 119.5,-68 113.5,-62 113.5,-56 113.5,-56 113.5,-12 113.5,-12 113.5,-6 119.5,0 125.5,0 125.5,0 211.5,0 211.5,0 217.5,0 223.5,-6 223.5,-12 223.5,-12 223.5,-56 223.5,-56 223.5,-62 217.5,-68 211.5,-68\"/>\n",
       "<text text-anchor=\"middle\" x=\"168.5\" y=\"-52.8\" font-family=\"Helvetica,sans-Serif\" font-size=\"14.00\">gini = 0.057</text>\n",
       "<text text-anchor=\"middle\" x=\"168.5\" y=\"-37.8\" font-family=\"Helvetica,sans-Serif\" font-size=\"14.00\">samples = 170</text>\n",
       "<text text-anchor=\"middle\" x=\"168.5\" y=\"-22.8\" font-family=\"Helvetica,sans-Serif\" font-size=\"14.00\">value = [5, 165]</text>\n",
       "<text text-anchor=\"middle\" x=\"168.5\" y=\"-7.8\" font-family=\"Helvetica,sans-Serif\" font-size=\"14.00\">class = no</text>\n",
       "</g>\n",
       "<!-- 1&#45;&gt;3 -->\n",
       "<g id=\"edge3\" class=\"edge\">\n",
       "<title>1&#45;&gt;3</title>\n",
       "<path fill=\"none\" stroke=\"black\" d=\"M167.87,-103.73C167.95,-95.52 168.03,-86.86 168.1,-78.56\"/>\n",
       "<polygon fill=\"black\" stroke=\"black\" points=\"171.6,-78.33 168.2,-68.3 164.6,-78.27 171.6,-78.33\"/>\n",
       "</g>\n",
       "<!-- 5 -->\n",
       "<g id=\"node6\" class=\"node\">\n",
       "<title>5</title>\n",
       "<path fill=\"#e68844\" stroke=\"black\" d=\"M348,-68C348,-68 255,-68 255,-68 249,-68 243,-62 243,-56 243,-56 243,-12 243,-12 243,-6 249,0 255,0 255,0 348,0 348,0 354,0 360,-6 360,-12 360,-12 360,-56 360,-56 360,-62 354,-68 348,-68\"/>\n",
       "<text text-anchor=\"middle\" x=\"301.5\" y=\"-52.8\" font-family=\"Helvetica,sans-Serif\" font-size=\"14.00\">gini = 0.102</text>\n",
       "<text text-anchor=\"middle\" x=\"301.5\" y=\"-37.8\" font-family=\"Helvetica,sans-Serif\" font-size=\"14.00\">samples = 185</text>\n",
       "<text text-anchor=\"middle\" x=\"301.5\" y=\"-22.8\" font-family=\"Helvetica,sans-Serif\" font-size=\"14.00\">value = [175, 10]</text>\n",
       "<text text-anchor=\"middle\" x=\"301.5\" y=\"-7.8\" font-family=\"Helvetica,sans-Serif\" font-size=\"14.00\">class = yes</text>\n",
       "</g>\n",
       "<!-- 4&#45;&gt;5 -->\n",
       "<g id=\"edge5\" class=\"edge\">\n",
       "<title>4&#45;&gt;5</title>\n",
       "<path fill=\"none\" stroke=\"black\" d=\"M302.13,-103.73C302.05,-95.52 301.97,-86.86 301.9,-78.56\"/>\n",
       "<polygon fill=\"black\" stroke=\"black\" points=\"305.4,-78.27 301.8,-68.3 298.4,-78.33 305.4,-78.27\"/>\n",
       "</g>\n",
       "<!-- 6 -->\n",
       "<g id=\"node7\" class=\"node\">\n",
       "<title>6</title>\n",
       "<path fill=\"#48a5e7\" stroke=\"black\" d=\"M468.5,-68C468.5,-68 390.5,-68 390.5,-68 384.5,-68 378.5,-62 378.5,-56 378.5,-56 378.5,-12 378.5,-12 378.5,-6 384.5,0 390.5,0 390.5,0 468.5,0 468.5,0 474.5,0 480.5,-6 480.5,-12 480.5,-12 480.5,-56 480.5,-56 480.5,-62 474.5,-68 468.5,-68\"/>\n",
       "<text text-anchor=\"middle\" x=\"429.5\" y=\"-52.8\" font-family=\"Helvetica,sans-Serif\" font-size=\"14.00\">gini = 0.133</text>\n",
       "<text text-anchor=\"middle\" x=\"429.5\" y=\"-37.8\" font-family=\"Helvetica,sans-Serif\" font-size=\"14.00\">samples = 14</text>\n",
       "<text text-anchor=\"middle\" x=\"429.5\" y=\"-22.8\" font-family=\"Helvetica,sans-Serif\" font-size=\"14.00\">value = [1, 13]</text>\n",
       "<text text-anchor=\"middle\" x=\"429.5\" y=\"-7.8\" font-family=\"Helvetica,sans-Serif\" font-size=\"14.00\">class = no</text>\n",
       "</g>\n",
       "<!-- 4&#45;&gt;6 -->\n",
       "<g id=\"edge6\" class=\"edge\">\n",
       "<title>4&#45;&gt;6</title>\n",
       "<path fill=\"none\" stroke=\"black\" d=\"M349.79,-103.73C360.69,-94.33 372.26,-84.35 383.12,-74.99\"/>\n",
       "<polygon fill=\"black\" stroke=\"black\" points=\"385.59,-77.48 390.88,-68.3 381.02,-72.18 385.59,-77.48\"/>\n",
       "</g>\n",
       "</g>\n",
       "</svg>\n"
      ],
      "text/plain": [
       "<graphviz.sources.Source at 0x1273c8b90>"
      ]
     },
     "execution_count": 8,
     "metadata": {},
     "output_type": "execute_result"
    }
   ],
   "source": [
    "dot_data = tree.export_graphviz(decision_tree_classifier, out_file=None,\n",
    "                                feature_names=feat_names,\n",
    "                                class_names=class_names,\n",
    "                                filled=True, rounded=True)\n",
    "graph = graphviz.Source(dot_data)\n",
    "graph.render(\"../images/test\")\n",
    "\n",
    "graph"
   ]
  },
  {
   "cell_type": "markdown",
   "id": "4d5df15c-a286-485d-bb60-347fefadcc16",
   "metadata": {},
   "source": [
    "# Making predictions"
   ]
  },
  {
   "cell_type": "code",
   "execution_count": 9,
   "id": "59c43e9a-6efd-4eeb-9c52-7aa679fbb03e",
   "metadata": {},
   "outputs": [
    {
     "data": {
      "text/html": [
       "<div>\n",
       "<style scoped>\n",
       "    .dataframe tbody tr th:only-of-type {\n",
       "        vertical-align: middle;\n",
       "    }\n",
       "\n",
       "    .dataframe tbody tr th {\n",
       "        vertical-align: top;\n",
       "    }\n",
       "\n",
       "    .dataframe thead th {\n",
       "        text-align: right;\n",
       "    }\n",
       "</style>\n",
       "<table border=\"1\" class=\"dataframe\">\n",
       "  <thead>\n",
       "    <tr style=\"text-align: right;\">\n",
       "      <th></th>\n",
       "      <th>prob of no</th>\n",
       "      <th>prob of yes</th>\n",
       "      <th>predicted class</th>\n",
       "      <th>actual class</th>\n",
       "    </tr>\n",
       "  </thead>\n",
       "  <tbody>\n",
       "    <tr>\n",
       "      <th>361</th>\n",
       "      <td>0.945946</td>\n",
       "      <td>0.054054</td>\n",
       "      <td>no</td>\n",
       "      <td>no</td>\n",
       "    </tr>\n",
       "    <tr>\n",
       "      <th>73</th>\n",
       "      <td>0.029412</td>\n",
       "      <td>0.970588</td>\n",
       "      <td>yes</td>\n",
       "      <td>yes</td>\n",
       "    </tr>\n",
       "    <tr>\n",
       "      <th>374</th>\n",
       "      <td>0.945946</td>\n",
       "      <td>0.054054</td>\n",
       "      <td>no</td>\n",
       "      <td>no</td>\n",
       "    </tr>\n",
       "    <tr>\n",
       "      <th>155</th>\n",
       "      <td>0.029412</td>\n",
       "      <td>0.970588</td>\n",
       "      <td>yes</td>\n",
       "      <td>yes</td>\n",
       "    </tr>\n",
       "    <tr>\n",
       "      <th>104</th>\n",
       "      <td>0.945946</td>\n",
       "      <td>0.054054</td>\n",
       "      <td>no</td>\n",
       "      <td>yes</td>\n",
       "    </tr>\n",
       "  </tbody>\n",
       "</table>\n",
       "</div>"
      ],
      "text/plain": [
       "     prob of no  prob of yes predicted class actual class\n",
       "361    0.945946     0.054054              no           no\n",
       "73     0.029412     0.970588             yes          yes\n",
       "374    0.945946     0.054054              no           no\n",
       "155    0.029412     0.970588             yes          yes\n",
       "104    0.945946     0.054054              no          yes"
      ]
     },
     "execution_count": 9,
     "metadata": {},
     "output_type": "execute_result"
    }
   ],
   "source": [
    "predictions = decision_tree_classifier.predict(X_test)\n",
    "probabilities = decision_tree_classifier.predict_proba(X_test)\n",
    "results_df = pd.DataFrame({'prob of no':probabilities[:,0],\n",
    "                         'prob of yes':probabilities[:,1],\n",
    "                         'predicted class':predictions,\n",
    "                         'actual class': y_test})\n",
    "results_df.head()"
   ]
  },
  {
   "cell_type": "markdown",
   "id": "e23edf06-10f3-4a5d-8d14-6eb5734a0fdc",
   "metadata": {},
   "source": [
    "# Checking Accuracy"
   ]
  },
  {
   "cell_type": "code",
   "execution_count": 10,
   "id": "9a3cca98-94d9-45e7-a0d5-3e884345883c",
   "metadata": {},
   "outputs": [
    {
     "data": {
      "text/plain": [
       "0.96"
      ]
     },
     "execution_count": 10,
     "metadata": {},
     "output_type": "execute_result"
    }
   ],
   "source": [
    "accuracy = decision_tree_classifier.score(X_test, y_test)\n",
    "accuracy"
   ]
  },
  {
   "cell_type": "markdown",
   "id": "f59c8fdf-a861-46cf-99c0-20b517869b47",
   "metadata": {},
   "source": [
    "# Visualizing Decision Boundaries"
   ]
  },
  {
   "cell_type": "code",
   "execution_count": 11,
   "id": "2105f22f-1775-47f0-890e-1fd80ad73967",
   "metadata": {},
   "outputs": [],
   "source": [
    "colors = []\n",
    "for y in y_test:\n",
    "    if y == 'yes':\n",
    "        colors.append('green')\n",
    "    else:\n",
    "        colors.append('red')\n",
    "for_scatter = X_test.copy(deep=True)\n",
    "        \n",
    "for_scatter['type'] = y_test\n",
    "for_scatter['color'] = colors\n",
    "\n",
    "yesses = for_scatter[for_scatter['type']=='yes']\n",
    "nos = for_scatter[for_scatter['type']=='no']"
   ]
  },
  {
   "cell_type": "code",
   "execution_count": 12,
   "id": "d005fdd6-8db7-4cee-82ae-6730fc9d3d7b",
   "metadata": {},
   "outputs": [
    {
     "data": {
      "image/png": "[encoded data removed]",
      "text/plain": [
       "<Figure size 640x480 with 1 Axes>"
      ]
     },
     "metadata": {},
     "output_type": "display_data"
    }
   ],
   "source": [
    "fig, ax = plt.subplots(1,1)\n",
    "DecisionBoundaryDisplay.from_estimator(decision_tree_classifier, X_test, alpha=0.4, response_method=\"predict\", ax=ax)\n",
    "ax.scatter(yesses['x'], yesses['y'], c=yesses['color'], s=20, edgecolor=\"k\", label='yes')\n",
    "ax.scatter(nos['x'], nos['y'], c=nos['color'], s=20, edgecolor=\"k\", label='no')\n",
    "ax.legend(title='binary variable')\n",
    "ax.set_title(f'Decision Tree Classifier $(Accuracy = {accuracy:.2f})$')\n",
    "plt.show()"
   ]
  },
  {
   "cell_type": "code",
   "execution_count": null,
   "id": "1a429a6f-ad46-4c6b-9662-7e3c85e5a982",
   "metadata": {},
   "outputs": [],
   "source": []
  }
 ],
 "metadata": {
  "jupytext": {
   "formats": "ipynb,auto:percent"
  },
  "kernelspec": {
   "display_name": "Python 3 (ipykernel)",
   "language": "python",
   "name": "python3"
  },
  "language_info": {
   "codemirror_mode": {
    "name": "ipython",
    "version": 3
   },
   "file_extension": ".py",
   "mimetype": "text/x-python",
   "name": "python",
   "nbconvert_exporter": "python",
   "pygments_lexer": "ipython3",
   "version": "3.11.4"
  }
 },
 "nbformat": 4,
 "nbformat_minor": 5
}
