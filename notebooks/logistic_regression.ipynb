{
 "cells": [
  {
   "cell_type": "markdown",
   "id": "cc2c06d7-239b-431e-96cc-a65cd17fc508",
   "metadata": {},
   "source": [
    "# Imports "
   ]
  },
  {
   "cell_type": "code",
   "execution_count": 1,
   "id": "8db21e01-b797-4c74-8ce9-3d95922cbb66",
   "metadata": {},
   "outputs": [],
   "source": [
    "import pandas as pd\n",
    "\n",
    "from sklearn.model_selection import train_test_split\n",
    "from sklearn.linear_model import LogisticRegression\n",
    "from sklearn.inspection import DecisionBoundaryDisplay\n",
    "\n",
    "import matplotlib.pyplot as plt"
   ]
  },
  {
   "cell_type": "markdown",
   "id": "d47759c0-c175-4c9a-abd0-db182a73a020",
   "metadata": {},
   "source": [
    "# Read Data"
   ]
  },
  {
   "cell_type": "code",
   "execution_count": 2,
   "id": "3bbe8851-c41f-40ce-ae07-a7d41fb66eef",
   "metadata": {},
   "outputs": [],
   "source": [
    "df = pd.read_csv(\"../data/toy_data.csv\", index_col=0)"
   ]
  },
  {
   "cell_type": "code",
   "execution_count": 3,
   "id": "88269389-49b8-407f-a93b-6e044616bd19",
   "metadata": {},
   "outputs": [
    {
     "data": {
      "text/html": [
       "<div>\n",
       "<style scoped>\n",
       "    .dataframe tbody tr th:only-of-type {\n",
       "        vertical-align: middle;\n",
       "    }\n",
       "\n",
       "    .dataframe tbody tr th {\n",
       "        vertical-align: top;\n",
       "    }\n",
       "\n",
       "    .dataframe thead th {\n",
       "        text-align: right;\n",
       "    }\n",
       "</style>\n",
       "<table border=\"1\" class=\"dataframe\">\n",
       "  <thead>\n",
       "    <tr style=\"text-align: right;\">\n",
       "      <th></th>\n",
       "      <th>x</th>\n",
       "      <th>y</th>\n",
       "      <th>type</th>\n",
       "    </tr>\n",
       "  </thead>\n",
       "  <tbody>\n",
       "    <tr>\n",
       "      <th>0</th>\n",
       "      <td>-0.804458</td>\n",
       "      <td>0.320932</td>\n",
       "      <td>yes</td>\n",
       "    </tr>\n",
       "    <tr>\n",
       "      <th>1</th>\n",
       "      <td>-0.025483</td>\n",
       "      <td>0.644324</td>\n",
       "      <td>yes</td>\n",
       "    </tr>\n",
       "    <tr>\n",
       "      <th>2</th>\n",
       "      <td>-0.300797</td>\n",
       "      <td>0.389475</td>\n",
       "      <td>yes</td>\n",
       "    </tr>\n",
       "    <tr>\n",
       "      <th>3</th>\n",
       "      <td>-0.107437</td>\n",
       "      <td>-0.479983</td>\n",
       "      <td>yes</td>\n",
       "    </tr>\n",
       "    <tr>\n",
       "      <th>4</th>\n",
       "      <td>0.595036</td>\n",
       "      <td>-0.464668</td>\n",
       "      <td>yes</td>\n",
       "    </tr>\n",
       "  </tbody>\n",
       "</table>\n",
       "</div>"
      ],
      "text/plain": [
       "          x         y type\n",
       "0 -0.804458  0.320932  yes\n",
       "1 -0.025483  0.644324  yes\n",
       "2 -0.300797  0.389475  yes\n",
       "3 -0.107437 -0.479983  yes\n",
       "4  0.595036 -0.464668  yes"
      ]
     },
     "execution_count": 3,
     "metadata": {},
     "output_type": "execute_result"
    }
   ],
   "source": [
    "df.head()"
   ]
  },
  {
   "cell_type": "markdown",
   "id": "112491f3-83d9-4aa5-bdd7-0dc062c94db9",
   "metadata": {},
   "source": [
    "# Generate Training and Testing Data"
   ]
  },
  {
   "cell_type": "code",
   "execution_count": 4,
   "id": "386779c7-c190-4a86-8149-73b3305c0dcb",
   "metadata": {},
   "outputs": [],
   "source": [
    "feat_names = df.columns[:-1]\n",
    "class_names = df['type'].unique()"
   ]
  },
  {
   "cell_type": "code",
   "execution_count": 5,
   "id": "8d7117b4-75f2-49ac-ba35-c475bb34ae37",
   "metadata": {},
   "outputs": [],
   "source": [
    "X_train, X_test, y_train, y_test = train_test_split(df[feat_names],\n",
    "                                                    df['type'],\n",
    "                                                    test_size=0.25,\n",
    "                                                    random_state=42)"
   ]
  },
  {
   "cell_type": "markdown",
   "id": "48011eb7-e3eb-4d76-bd92-e20f0c033218",
   "metadata": {},
   "source": [
    "# Training and Fitting the Model"
   ]
  },
  {
   "cell_type": "code",
   "execution_count": 6,
   "id": "ca92066d-febc-4c1b-b5a8-1fe4dd1358f8",
   "metadata": {},
   "outputs": [],
   "source": [
    "log_reg_classifier = LogisticRegression(random_state=0)\n",
    "log_reg_classifier = log_reg_classifier.fit(X_train, y_train)"
   ]
  },
  {
   "cell_type": "markdown",
   "id": "d811c8fa-deba-40b4-aec5-e94abad053f0",
   "metadata": {},
   "source": [
    "# Making Predictions"
   ]
  },
  {
   "cell_type": "code",
   "execution_count": 7,
   "id": "396fe9bf-f4bb-46d1-a6da-8f13ad1ff8d1",
   "metadata": {},
   "outputs": [
    {
     "data": {
      "text/html": [
       "<div>\n",
       "<style scoped>\n",
       "    .dataframe tbody tr th:only-of-type {\n",
       "        vertical-align: middle;\n",
       "    }\n",
       "\n",
       "    .dataframe tbody tr th {\n",
       "        vertical-align: top;\n",
       "    }\n",
       "\n",
       "    .dataframe thead th {\n",
       "        text-align: right;\n",
       "    }\n",
       "</style>\n",
       "<table border=\"1\" class=\"dataframe\">\n",
       "  <thead>\n",
       "    <tr style=\"text-align: right;\">\n",
       "      <th></th>\n",
       "      <th>prob of no</th>\n",
       "      <th>prob of yes</th>\n",
       "      <th>predicted class</th>\n",
       "      <th>actual class</th>\n",
       "    </tr>\n",
       "  </thead>\n",
       "  <tbody>\n",
       "    <tr>\n",
       "      <th>361</th>\n",
       "      <td>0.999840</td>\n",
       "      <td>0.000160</td>\n",
       "      <td>no</td>\n",
       "      <td>no</td>\n",
       "    </tr>\n",
       "    <tr>\n",
       "      <th>73</th>\n",
       "      <td>0.001199</td>\n",
       "      <td>0.998801</td>\n",
       "      <td>yes</td>\n",
       "      <td>yes</td>\n",
       "    </tr>\n",
       "    <tr>\n",
       "      <th>374</th>\n",
       "      <td>0.998260</td>\n",
       "      <td>0.001740</td>\n",
       "      <td>no</td>\n",
       "      <td>no</td>\n",
       "    </tr>\n",
       "    <tr>\n",
       "      <th>155</th>\n",
       "      <td>0.017178</td>\n",
       "      <td>0.982822</td>\n",
       "      <td>yes</td>\n",
       "      <td>yes</td>\n",
       "    </tr>\n",
       "    <tr>\n",
       "      <th>104</th>\n",
       "      <td>0.972116</td>\n",
       "      <td>0.027884</td>\n",
       "      <td>no</td>\n",
       "      <td>yes</td>\n",
       "    </tr>\n",
       "  </tbody>\n",
       "</table>\n",
       "</div>"
      ],
      "text/plain": [
       "     prob of no  prob of yes predicted class actual class\n",
       "361    0.999840     0.000160              no           no\n",
       "73     0.001199     0.998801             yes          yes\n",
       "374    0.998260     0.001740              no           no\n",
       "155    0.017178     0.982822             yes          yes\n",
       "104    0.972116     0.027884              no          yes"
      ]
     },
     "execution_count": 7,
     "metadata": {},
     "output_type": "execute_result"
    }
   ],
   "source": [
    "predictions = log_reg_classifier.predict(X_test)\n",
    "probabilities = log_reg_classifier.predict_proba(X_test)\n",
    "results_df = pd.DataFrame({'prob of no':probabilities[:,0],\n",
    "                         'prob of yes':probabilities[:,1],\n",
    "                         'predicted class':predictions,\n",
    "                         'actual class': y_test})\n",
    "results_df.head()"
   ]
  },
  {
   "cell_type": "markdown",
   "id": "1eb18da6-4caf-4137-bb64-321fa5bf714e",
   "metadata": {},
   "source": [
    "# Checking Accuracy"
   ]
  },
  {
   "cell_type": "code",
   "execution_count": 8,
   "id": "0080d5f2-4839-4e25-bd5d-ecbfd55fa044",
   "metadata": {},
   "outputs": [
    {
     "data": {
      "text/plain": [
       "0.952"
      ]
     },
     "execution_count": 8,
     "metadata": {},
     "output_type": "execute_result"
    }
   ],
   "source": [
    "accuracy = log_reg_classifier.score(X_test, y_test)\n",
    "accuracy"
   ]
  },
  {
   "cell_type": "markdown",
   "id": "ba0596d9-fc3b-4853-9cae-670a59c9ca05",
   "metadata": {},
   "source": [
    "# Visualizing Decision Boundaries"
   ]
  },
  {
   "cell_type": "code",
   "execution_count": 9,
   "id": "925ada2d-5d38-46b3-98a1-731bda138d77",
   "metadata": {},
   "outputs": [],
   "source": [
    "colors = []\n",
    "for y in y_test:\n",
    "    if y == 'yes':\n",
    "        colors.append('green')\n",
    "    else:\n",
    "        colors.append('red')\n",
    "for_scatter = X_test.copy(deep=True)\n",
    "        \n",
    "for_scatter['type'] = y_test\n",
    "for_scatter['color'] = colors\n",
    "\n",
    "yesses = for_scatter[for_scatter['type']=='yes']\n",
    "nos = for_scatter[for_scatter['type']=='no']"
   ]
  },
  {
   "cell_type": "code",
   "execution_count": 10,
   "id": "c9c480fb-bb17-4595-a22e-3e86bf7496dd",
   "metadata": {},
   "outputs": [
    {
     "data": {
      "image/png": "[encoded data removed]",
      "text/plain": [
       "<Figure size 640x480 with 1 Axes>"
      ]
     },
     "metadata": {},
     "output_type": "display_data"
    }
   ],
   "source": [
    "fig, ax = plt.subplots(1,1)\n",
    "DecisionBoundaryDisplay.from_estimator(log_reg_classifier, X_test, alpha=0.4, response_method=\"predict\", ax=ax)\n",
    "ax.scatter(yesses['x'], yesses['y'], c=yesses['color'], s=20, edgecolor=\"k\", label='yes')\n",
    "ax.scatter(nos['x'], nos['y'], c=nos['color'], s=20, edgecolor=\"k\", label='no')\n",
    "ax.legend(title='binary variable')\n",
    "ax.set_title(f'Logistic Regression Classifier $(Accuracy = {accuracy:.2f})$')\n",
    "plt.show()"
   ]
  },
  {
   "cell_type": "code",
   "execution_count": null,
   "id": "d4e82822-5ea1-4bb7-9601-bf0e11d12482",
   "metadata": {},
   "outputs": [],
   "source": []
  }
 ],
 "metadata": {
  "jupytext": {
   "formats": "ipynb,auto:percent"
  },
  "kernelspec": {
   "display_name": "Python 3 (ipykernel)",
   "language": "python",
   "name": "python3"
  },
  "language_info": {
   "codemirror_mode": {
    "name": "ipython",
    "version": 3
   },
   "file_extension": ".py",
   "mimetype": "text/x-python",
   "name": "python",
   "nbconvert_exporter": "python",
   "pygments_lexer": "ipython3",
   "version": "3.11.4"
  }
 },
 "nbformat": 4,
 "nbformat_minor": 5
}
