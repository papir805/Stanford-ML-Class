{
 "cells": [
  {
   "cell_type": "markdown",
   "id": "82f4cd94-e375-47cc-9869-6feec640f576",
   "metadata": {},
   "source": [
    "# Introduction"
   ]
  },
  {
   "cell_type": "markdown",
   "id": "466c3ffc-cb52-4a6d-8f50-87c02b3318d6",
   "metadata": {},
   "source": [
    "## Download dataset and custom Python modules"
   ]
  },
  {
   "cell_type": "code",
   "execution_count": 1,
   "id": "8191a14b-9e34-476c-acfe-b44556c3c494",
   "metadata": {},
   "outputs": [],
   "source": [
    "# # Clone repo containing MNIST data and the neural network modules\n",
    "# !git clone -b neural_net_dev https://github.com/papir805/Stanford-ML-Class.git"
   ]
  },
  {
   "cell_type": "markdown",
   "id": "eab69436-d08e-404d-8358-a02e97560cc0",
   "metadata": {},
   "source": [
    "## Important Python Libraries for Data Science"
   ]
  },
  {
   "cell_type": "code",
   "execution_count": 2,
   "id": "eb250f62-c187-4142-9165-67685b728590",
   "metadata": {},
   "outputs": [],
   "source": [
    "# For organizing and manipulating data\n",
    "import numpy as np\n",
    "\n",
    "# For Plotting\n",
    "import matplotlib.pyplot as plt\n",
    "import cv2"
   ]
  },
  {
   "cell_type": "markdown",
   "id": "956c3844-4b23-4bf5-973f-e5e110d74290",
   "metadata": {},
   "source": [
    "# Importing Custom Modules for Neural Networks and Working with MNIST"
   ]
  },
  {
   "cell_type": "code",
   "execution_count": 3,
   "id": "9b6811c3-8596-4b13-b2d7-0e3ec7429d1b",
   "metadata": {},
   "outputs": [],
   "source": [
    "# Used to identify file paths for our datasets and custom modules\n",
    "import os\n",
    "import sys\n",
    "\n",
    "# Specify path of cloned GitHub directory\n",
    "gh_dir = os.getcwd()+'/Stanford-ML-Class'\n",
    "\n",
    "# Specify Python should look at the parent directory\n",
    "# to import custom modules\n",
    "sys.path.insert(0, '../')\n",
    "\n",
    "# Specify Python should look at the cloned gh directory\n",
    "# to import custom modules\n",
    "# sys.path.insert(0, gh_dir)\n",
    "\n",
    "# Import custom neural network modules\n",
    "from neural_network_scripts import mnist_loader, network, image_processing"
   ]
  },
  {
   "cell_type": "markdown",
   "id": "eb1f6496-4830-4865-90ca-16120cf0a8d5",
   "metadata": {},
   "source": [
    "# Read Data"
   ]
  },
  {
   "cell_type": "markdown",
   "id": "1967eae5-89fb-408a-8653-1b860f0100c4",
   "metadata": {},
   "source": [
    "The MNIST dataset contains images of 70,000 handwritten digits.  The images are split into two smaller datasets for training and testing.  In this notebook, the training dataset contains 50,000 digits and the testing dataset contains another 10,000 digits.  This leaves 10,000 digits that aren't used."
   ]
  },
  {
   "cell_type": "code",
   "execution_count": 4,
   "id": "c8f389fa-e3f3-429d-b3e3-72c72fd19464",
   "metadata": {},
   "outputs": [],
   "source": [
    "# Load datasets\n",
    "data_path = \"../data/mnist.pkl.gz\"\n",
    "\n",
    "# # Load datasets\n",
    "# file_path = gh_dir+\"/data/mnist.pkl.gz\"\n",
    "\n",
    "# Unpack dataset into training and testing data\n",
    "training_data, _, test_data = \\\n",
    "mnist_loader.load_data_wrapper(data_path)"
   ]
  },
  {
   "cell_type": "code",
   "execution_count": 5,
   "id": "3cdd74d2-4210-41d7-82da-60cf7b3c9535",
   "metadata": {},
   "outputs": [
    {
     "name": "stdout",
     "output_type": "stream",
     "text": [
      "There are 50,000 digits in the training set and 10,000 digits in the testing set.\n"
     ]
    }
   ],
   "source": [
    "# Check the size of the training and testing datasets\n",
    "n_training_samples = len(training_data)\n",
    "n_testing_samples = len(test_data)\n",
    "\n",
    "print(f\"There are {n_training_samples:,} digits in the training set and {n_testing_samples:,} digits in the testing set.\")"
   ]
  },
  {
   "cell_type": "markdown",
   "id": "c57f65ef-a539-4b80-9145-a87a931bb548",
   "metadata": {},
   "source": [
    "## Visualizing the Dataset\n",
    "\n",
    "Each handwritten digit starts off as a 2-D image represented using a 28x28 pixel grid.  However, each image has undergone image processing to standardize the image, which makes it easier for the neural network to learn from, and then gets \"flattened\" into a 1-D Python list containing 784 elements, one for each of the pixels ($28 * 28 = 784$) in the grid.  \n",
    "\n",
    "Each element in the list is a grayscale value between 0 - 1 representing how bright that pixel should be.  A value of 0 displays as black because 0 represents the absence of color whereas a value of 1 would be white.  \n",
    "\n",
    "In order to visualize each digit, its original 28x28 pixel grid needs to be reconstructed first."
   ]
  },
  {
   "cell_type": "markdown",
   "id": "90812c9a-a722-4264-82b5-7ceb37e08283",
   "metadata": {},
   "source": [
    "### The First Digit From the Training Dataset"
   ]
  },
  {
   "cell_type": "code",
   "execution_count": 6,
   "id": "06038c12-1984-442a-9363-a4c072e339e6",
   "metadata": {
    "scrolled": true
   },
   "outputs": [
    {
     "name": "stdout",
     "output_type": "stream",
     "text": [
      "The first image contains 784 pixels.\n"
     ]
    }
   ],
   "source": [
    "first_digit = training_data[0][0]\n",
    "first_digit_num_pixels = len(first_digit)\n",
    "\n",
    "print(f\"The first image contains {first_digit_num_pixels} pixels.\")"
   ]
  },
  {
   "cell_type": "code",
   "execution_count": 7,
   "id": "3c3cbec5-28a4-484b-844b-f75cbcbb4053",
   "metadata": {},
   "outputs": [
    {
     "data": {
      "image/png": "[encoded data removed]",
      "text/plain": [
       "<Figure size 640x480 with 1 Axes>"
      ]
     },
     "metadata": {},
     "output_type": "display_data"
    }
   ],
   "source": [
    "# Use the 784 pixels to reconstruct the original 28x28 pixel grid\n",
    "# and print the digit\n",
    "image_processing.print_image(first_digit)"
   ]
  },
  {
   "cell_type": "markdown",
   "id": "282ada57-f764-451c-bc55-a0f69903691a",
   "metadata": {},
   "source": [
    "### The Second Digit From the Training Dataset"
   ]
  },
  {
   "cell_type": "code",
   "execution_count": 8,
   "id": "1dbd799b-8c17-4522-89f1-baee4efe76dd",
   "metadata": {
    "scrolled": true
   },
   "outputs": [
    {
     "name": "stdout",
     "output_type": "stream",
     "text": [
      "The second image also contains 784 pixels.\n"
     ]
    }
   ],
   "source": [
    "second_digit = training_data[1][0]\n",
    "second_digit_num_pixels = len(second_digit)\n",
    "\n",
    "print(f\"The second image also contains {second_digit_num_pixels} pixels.\")"
   ]
  },
  {
   "cell_type": "code",
   "execution_count": 9,
   "id": "0a017ce6-2ad7-47cd-a4a3-ca53c8c72a1d",
   "metadata": {},
   "outputs": [
    {
     "data": {
      "image/png": "[encoded data removed]",
      "text/plain": [
       "<Figure size 640x480 with 1 Axes>"
      ]
     },
     "metadata": {},
     "output_type": "display_data"
    }
   ],
   "source": [
    "# Use the 784 pixels to reconstruct the original 28x28 pixel grid\n",
    "# and print the digit\n",
    "image_processing.print_image(second_digit)"
   ]
  },
  {
   "cell_type": "markdown",
   "id": "8ee76fe2-834c-442b-9c0f-02d1e202aed1",
   "metadata": {},
   "source": [
    "# Initializing the Model"
   ]
  },
  {
   "cell_type": "code",
   "execution_count": 10,
   "id": "5b029432-a47c-4deb-bede-f8812e2b2d4f",
   "metadata": {},
   "outputs": [],
   "source": [
    "# Create a three layer neural network.  The first layer has 784 input neurons\n",
    "# (one for each of the 784 pixels in the 28px by 28px grid), the\n",
    "# second layer has 30 neurons, and the third layer has 10 output neurons, one\n",
    "# for each digit 0-9 representing the model's estimated probability of the\n",
    "# image being that digit.\n",
    "net = network.Network(sizes = [784, 30, 10])"
   ]
  },
  {
   "cell_type": "code",
   "execution_count": 11,
   "id": "73606eef-8fa4-4ec0-9b7d-20dae18897f1",
   "metadata": {},
   "outputs": [
    {
     "name": "stdout",
     "output_type": "stream",
     "text": [
      "Before training, the model predicts 1,157 correct digits out of 10,000 testing digits.  An initial accuracy of 11.57%.\n"
     ]
    }
   ],
   "source": [
    "initial_correct = net.evaluate(test_data)\n",
    "initial_accuracy = initial_correct / n_testing_samples\n",
    "\n",
    "print(f\"Before training, the model predicts {initial_correct:,} correct digits out of {n_testing_samples:,} testing digits.  An initial accuracy of {initial_accuracy * 100:.2f}%.\")"
   ]
  },
  {
   "cell_type": "markdown",
   "id": "5d05ecbe-e24b-4621-94e8-1c8c84427742",
   "metadata": {},
   "source": [
    "## Training the model\n",
    "\n",
    "Training the model requires training_data and involves a process called Stochastic Gradient Descent (SGD).  This process requires several hyperparameters: epochs, mini_batch_size, and eta.  Additionally, if test_data is provided, we can see how good the model is at generalizing what it's learned to make predictions on unseen data.\n",
    "\n",
    "As mentioned earlier, the training_data consists of 50,000 images of handwritten digits each represented as 784 grayscale values for the pixels in a 28px by 28px grid.  Additionally, training_data also specifies which digit (0-9) each image represents. \n",
    "\n",
    "An epoch represents a complete training cycle over all images in the training dataset.  Within an epoch, the training data is first shuffled and then broken into smaller batches dictated by the mini_batch_size. The model is trained on each mini batch and the SGD algorithm updates the model's weights and biases each time until all mini batches have been used, thus completing an epoch.  \n",
    "\n",
    "A higher number of epochs will increase the time it takes for SGD to complete as each epoch represents another training cycle.  The more epochs, the more opportunities to reach a solution, but setting this parameter too high will lead to diminishing returns.  Generally, the model's accuracy will converge to it's maximum value after a certain number of epochs.  Any additional epochs will take more time to complete but the model's accuracy will not change much.\n",
    "\n",
    "Eta, also known as the learning rate, controls how much the weights and biases get changed after training over a mini batch.  Larger values of eta allow for the weights and biases to change in magnitude more than a smaller value of eta.  Typically, a larger value of eta means the model will reach a solution more quickly, although the solution may end up being a sub-optimal one.  On the other hand, a smaller value of eta will take more time to reach a solution, but it's more likely to be an optimal one. \n",
    "\n",
    "After completing each epoch, the model predicts the value of each of the 10,000 digits in test_data to assess its accuracy.    "
   ]
  },
  {
   "cell_type": "code",
   "execution_count": 12,
   "id": "47f50eb6-5f60-4c0b-a5b4-b4f904ca4e15",
   "metadata": {},
   "outputs": [
    {
     "name": "stdout",
     "output_type": "stream",
     "text": [
      "Epoch 1: 9075 / 10000 = 90.75% accuracy\n",
      "Epoch 2: 9230 / 10000 = 92.3% accuracy\n",
      "Epoch 3: 9307 / 10000 = 93.07% accuracy\n",
      "Epoch 4: 9364 / 10000 = 93.64% accuracy\n",
      "Epoch 5: 9379 / 10000 = 93.79% accuracy\n",
      "Epoch 6: 9377 / 10000 = 93.77% accuracy\n",
      "Epoch 7: 9406 / 10000 = 94.06% accuracy\n",
      "Epoch 8: 9450 / 10000 = 94.5% accuracy\n",
      "Epoch 9: 9468 / 10000 = 94.68% accuracy\n",
      "Epoch 10: 9453 / 10000 = 94.53% accuracy\n",
      "Epoch 11: 9457 / 10000 = 94.57% accuracy\n",
      "Epoch 12: 9456 / 10000 = 94.56% accuracy\n",
      "Epoch 13: 9425 / 10000 = 94.25% accuracy\n",
      "Epoch 14: 9482 / 10000 = 94.82% accuracy\n",
      "Epoch 15: 9460 / 10000 = 94.6% accuracy\n",
      "Epoch 16: 9494 / 10000 = 94.94% accuracy\n",
      "Epoch 17: 9495 / 10000 = 94.95% accuracy\n",
      "Epoch 18: 9499 / 10000 = 94.99% accuracy\n",
      "Epoch 19: 9458 / 10000 = 94.58% accuracy\n",
      "Epoch 20: 9495 / 10000 = 94.95% accuracy\n",
      "Epoch 21: 9489 / 10000 = 94.89% accuracy\n",
      "Epoch 22: 9490 / 10000 = 94.9% accuracy\n",
      "Epoch 23: 9504 / 10000 = 95.04% accuracy\n",
      "Epoch 24: 9457 / 10000 = 94.57% accuracy\n",
      "Epoch 25: 9493 / 10000 = 94.93% accuracy\n",
      "Epoch 26: 9486 / 10000 = 94.86% accuracy\n",
      "Epoch 27: 9511 / 10000 = 95.11% accuracy\n",
      "Epoch 28: 9506 / 10000 = 95.06% accuracy\n",
      "Epoch 29: 9463 / 10000 = 94.63% accuracy\n",
      "Epoch 30: 9482 / 10000 = 94.82% accuracy\n",
      "Elapsed time: 3.0 mins 32.16 seconds\n"
     ]
    }
   ],
   "source": [
    "# Train the model over 30 epochs, with mini batch sizes of 10, and a learning\n",
    "# rate of 3.0\n",
    "net.SGD(training_data = training_data,\n",
    "        epochs = 30,\n",
    "        mini_batch_size = 10,\n",
    "        eta = 3.0,\n",
    "        test_data=test_data)"
   ]
  },
  {
   "cell_type": "markdown",
   "id": "ea11ad7d-df28-4a0b-afb1-0a40fcbca067",
   "metadata": {},
   "source": [
    "## Evaluating accuracy"
   ]
  },
  {
   "cell_type": "code",
   "execution_count": 14,
   "id": "c81bc9e2-2c42-417d-8ad5-2e557dce4a20",
   "metadata": {},
   "outputs": [
    {
     "ename": "NameError",
     "evalue": "name 'net' is not defined",
     "output_type": "error",
     "traceback": [
      "\u001b[0;31m---------------------------------------------------------------------------\u001b[0m",
      "\u001b[0;31mNameError\u001b[0m                                 Traceback (most recent call last)",
      "Cell \u001b[0;32mIn[14], line 17\u001b[0m\n\u001b[1;32m      1\u001b[0m \u001b[38;5;66;03m# epochs = np.arange(len(net.prediction_accuracy))\u001b[39;00m\n\u001b[1;32m      2\u001b[0m \n\u001b[1;32m      3\u001b[0m \u001b[38;5;66;03m# fig, ax = plt.subplots(1, 1)\u001b[39;00m\n\u001b[0;32m   (...)\u001b[0m\n\u001b[1;32m     14\u001b[0m \u001b[38;5;66;03m# ax.set_yticks(y_ticks)\u001b[39;00m\n\u001b[1;32m     15\u001b[0m \u001b[38;5;66;03m# ax.set_ylim(0,1);\u001b[39;00m\n\u001b[0;32m---> 17\u001b[0m net\u001b[38;5;241m.\u001b[39mplot_test_accuracy()\n",
      "File \u001b[0;32m~/Google Drive/Coding/Gaurav's Class/notebooks/../neural_network_scripts/network.py:186\u001b[0m, in \u001b[0;36mNetwork.plot_test_accuracy\u001b[0;34m(self)\u001b[0m\n\u001b[1;32m    181\u001b[0m ax\u001b[38;5;241m.\u001b[39mplot(epochs, \u001b[38;5;28mself\u001b[39m\u001b[38;5;241m.\u001b[39mprediction_accuracy,\n\u001b[1;32m    182\u001b[0m        linestyle\u001b[38;5;241m=\u001b[39m\u001b[38;5;124m'\u001b[39m\u001b[38;5;124m--\u001b[39m\u001b[38;5;124m'\u001b[39m, marker\u001b[38;5;241m=\u001b[39m\u001b[38;5;124m'\u001b[39m\u001b[38;5;124mo\u001b[39m\u001b[38;5;124m'\u001b[39m, color\u001b[38;5;241m=\u001b[39m\u001b[38;5;124m'\u001b[39m\u001b[38;5;124mblue\u001b[39m\u001b[38;5;124m'\u001b[39m,\n\u001b[1;32m    183\u001b[0m        markerfacecolor\u001b[38;5;241m=\u001b[39m\u001b[38;5;124m'\u001b[39m\u001b[38;5;124mred\u001b[39m\u001b[38;5;124m'\u001b[39m)\n\u001b[1;32m    185\u001b[0m y_ticks \u001b[38;5;241m=\u001b[39m ax\u001b[38;5;241m.\u001b[39mget_yticks()\n\u001b[0;32m--> 186\u001b[0m y_ticks \u001b[38;5;241m=\u001b[39m np\u001b[38;5;241m.\u001b[39mappend(y_ticks, net\u001b[38;5;241m.\u001b[39minitial_accuracy)\n\u001b[1;32m    187\u001b[0m y_ticks\u001b[38;5;241m.\u001b[39msort()\n\u001b[1;32m    189\u001b[0m ax\u001b[38;5;241m.\u001b[39mset_xlabel(\u001b[38;5;124m\"\u001b[39m\u001b[38;5;124mepoch\u001b[39m\u001b[38;5;124m\"\u001b[39m)\n",
      "\u001b[0;31mNameError\u001b[0m: name 'net' is not defined"
     ]
    },
    {
     "data": {
      "image/png": "[encoded data removed]",
      "text/plain": [
       "<Figure size 640x480 with 1 Axes>"
      ]
     },
     "metadata": {},
     "output_type": "display_data"
    }
   ],
   "source": [
    "# epochs = np.arange(len(net.prediction_accuracy))\n",
    "\n",
    "# fig, ax = plt.subplots(1, 1)\n",
    "\n",
    "# ax.plot(epochs, net.prediction_accuracy,\n",
    "#        linestyle='--', marker='o', color='blue',\n",
    "#        markerfacecolor='red')\n",
    "# ax.set_xlabel(\"epoch\")\n",
    "# ax.set_ylabel(\"Prediction Accuracy\")\n",
    "\n",
    "# y_ticks = ax.get_yticks()\n",
    "# y_ticks = np.append(y_ticks, net.initial_accuracy)\n",
    "# y_ticks.sort()\n",
    "# ax.set_yticks(y_ticks)\n",
    "# ax.set_ylim(0,1);\n",
    "\n",
    "net.plot_test_accuracy()"
   ]
  },
  {
   "cell_type": "markdown",
   "id": "de06b15c-0d97-4b16-a4a1-057d2926169f",
   "metadata": {},
   "source": [
    "# Generating Predictions From Your Own Handwriting\n",
    "\n",
    "After training, the model can be used to predict the value of our own images.  It should do a good job, too, as it's accuracy has converged to about 95%, which is quite high.  However, the model was trained using images that were processed and any image fed into the model must also undergo the same image processing."
   ]
  },
  {
   "cell_type": "markdown",
   "id": "ee187a78-5310-4c25-9725-0bb6272f9e21",
   "metadata": {},
   "source": [
    "## Image1"
   ]
  },
  {
   "cell_type": "code",
   "execution_count": null,
   "id": "db933496-652a-4a8e-95e7-4f2d035e7860",
   "metadata": {},
   "outputs": [],
   "source": [
    "# Original Image\n",
    "image1_path = gh_dir+\"/images/handwritten_2.png\"\n",
    "image1 = cv2.imread(image1_path)\n",
    "plt.imshow(image1);"
   ]
  },
  {
   "cell_type": "code",
   "execution_count": null,
   "id": "7ccb5836-c7bf-43ff-b19c-a35564e9ffd6",
   "metadata": {},
   "outputs": [],
   "source": [
    "# Processed image\n",
    "processed_image1 = \\\n",
    "image_processing.process_image(image1_path)\n",
    "image_processing.print_image(processed_image1)"
   ]
  },
  {
   "cell_type": "code",
   "execution_count": null,
   "id": "ae0da992-cc4b-478f-b65d-2ef50cba6a0e",
   "metadata": {},
   "outputs": [],
   "source": [
    "# Make prediction\n",
    "net.predict(processed_image1)"
   ]
  },
  {
   "cell_type": "markdown",
   "id": "3caccf5a-5ff9-4c6b-b048-ff5bba451368",
   "metadata": {},
   "source": [
    "## Image2"
   ]
  },
  {
   "cell_type": "code",
   "execution_count": null,
   "id": "fcd1558d-3655-40bb-b3b5-c88484add3b1",
   "metadata": {},
   "outputs": [],
   "source": [
    "# Original Image\n",
    "image2_path = gh_dir+\"/images/handwritten_8.jpg\"\n",
    "image2 = cv2.imread(image2_path)\n",
    "plt.imshow(image2);"
   ]
  },
  {
   "cell_type": "code",
   "execution_count": null,
   "id": "7639cf8b-3bf8-4351-b339-e3e8ed3ba4d3",
   "metadata": {},
   "outputs": [],
   "source": [
    "# Processed Image\n",
    "processed_image2 = \\\n",
    "image_processing.process_image(image2_path)\n",
    "image_processing.print_image(processed_image2)"
   ]
  },
  {
   "cell_type": "code",
   "execution_count": null,
   "id": "7573e268-6793-462d-807e-41fb86e98750",
   "metadata": {},
   "outputs": [],
   "source": [
    "net.predict(processed_image2)"
   ]
  },
  {
   "cell_type": "markdown",
   "id": "b308cc8c-b64a-413c-863d-ce6e5f56afa8",
   "metadata": {},
   "source": [
    "## Image3"
   ]
  },
  {
   "cell_type": "code",
   "execution_count": null,
   "id": "d9814031-111d-46d9-bd6e-89b7520e3f10",
   "metadata": {},
   "outputs": [],
   "source": [
    "# Original Image\n",
    "image3_path = gh_dir+\"/images/handwritten_4.jpg\"\n",
    "image3 = cv2.imread(image3_path)\n",
    "plt.imshow(image3);"
   ]
  },
  {
   "cell_type": "code",
   "execution_count": null,
   "id": "58e5980d-a500-4544-833d-96b7d735652f",
   "metadata": {},
   "outputs": [],
   "source": [
    "# Processed Image\n",
    "processed_image3 = \\\n",
    "image_processing.process_image(image3_path)\n",
    "image_processing.print_image(processed_image3)"
   ]
  },
  {
   "cell_type": "code",
   "execution_count": null,
   "id": "1ebccf50-7065-41f4-8ab1-bcb8c9b2e6e6",
   "metadata": {},
   "outputs": [],
   "source": [
    "net.predict(processed_image3)"
   ]
  },
  {
   "cell_type": "markdown",
   "id": "6c65a06b-ff63-4810-a481-712c0cb69097",
   "metadata": {},
   "source": [
    "The end"
   ]
  }
 ],
 "metadata": {
  "kernelspec": {
   "display_name": "Python 3 (ipykernel)",
   "language": "python",
   "name": "python3"
  },
  "language_info": {
   "codemirror_mode": {
    "name": "ipython",
    "version": 3
   },
   "file_extension": ".py",
   "mimetype": "text/x-python",
   "name": "python",
   "nbconvert_exporter": "python",
   "pygments_lexer": "ipython3",
   "version": "3.11.7"
  }
 },
 "nbformat": 4,
 "nbformat_minor": 5
}
