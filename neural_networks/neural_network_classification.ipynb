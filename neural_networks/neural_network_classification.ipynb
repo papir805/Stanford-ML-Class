{
 "cells": [
  {
   "cell_type": "code",
   "execution_count": 1,
   "id": "160f5528-7360-49ec-830d-8c49a7bc1109",
   "metadata": {},
   "outputs": [],
   "source": [
    "import mnist_loader\n",
    "import network\n",
    "import image_processing"
   ]
  },
  {
   "cell_type": "code",
   "execution_count": 3,
   "id": "793f4104-c207-40fd-a785-f03cedb9be25",
   "metadata": {},
   "outputs": [],
   "source": [
    "file_path = \"../data/mnist.pkl.gz\"\n",
    "training_data, validation_data, test_data = \\\n",
    "mnist_loader.load_data_wrapper(file_path)"
   ]
  },
  {
   "cell_type": "code",
   "execution_count": 4,
   "id": "5d1aebd9-82dd-4316-9153-d9d2547e2076",
   "metadata": {},
   "outputs": [],
   "source": [
    "net = network.Network([784, 30, 10])"
   ]
  },
  {
   "cell_type": "code",
   "execution_count": null,
   "id": "93130259-7eb3-4415-a2d1-0a56500ea7ae",
   "metadata": {},
   "outputs": [],
   "source": [
    "net.SGD(training_data, 30, 10, 3.0, test_data=test_data)"
   ]
  },
  {
   "cell_type": "code",
   "execution_count": 5,
   "id": "008e5f76-b2d8-4b72-973e-ea41794bad2e",
   "metadata": {},
   "outputs": [],
   "source": [
    "processed_image1 = \\\n",
    "image_processing.process_image(\"../images/handwritten_2.png\")"
   ]
  },
  {
   "cell_type": "code",
   "execution_count": 6,
   "id": "44b4c98e-577c-498f-b014-d3ce52e1b5a2",
   "metadata": {},
   "outputs": [
    {
     "data": {
      "image/png": "[encoded data removed]",
      "text/plain": [
       "<Figure size 640x480 with 1 Axes>"
      ]
     },
     "metadata": {},
     "output_type": "display_data"
    }
   ],
   "source": [
    "image_processing.print_image(processed_image1)"
   ]
  },
  {
   "cell_type": "code",
   "execution_count": null,
   "id": "a225266c-1661-441c-88cd-8ff8c3b9fef0",
   "metadata": {},
   "outputs": [],
   "source": [
    "net.predict(processed_image1)"
   ]
  },
  {
   "cell_type": "code",
   "execution_count": null,
   "id": "6ba4cfc8-933a-48e4-bcb1-1ecf50ba03ad",
   "metadata": {},
   "outputs": [],
   "source": [
    "processed_image2 = \\\n",
    "image_processing.process_image(\"../images/handwritten_8.jpg\")\n",
    "image_processing.print_image(processed_image2)"
   ]
  },
  {
   "cell_type": "code",
   "execution_count": null,
   "id": "2ee7c366-411c-49fd-88e1-5d9d7d7e5fdc",
   "metadata": {},
   "outputs": [],
   "source": [
    "net.predict(processed_image2)"
   ]
  },
  {
   "cell_type": "code",
   "execution_count": null,
   "id": "d4ee4e4e-5c47-410c-aaac-d49e10b62f51",
   "metadata": {},
   "outputs": [],
   "source": [
    "processed_image3 = \\\n",
    "image_processing.process_image(\"../images/handwritten_4.jpg\")\n",
    "image_processing.print_image(processed_image3)"
   ]
  },
  {
   "cell_type": "code",
   "execution_count": null,
   "id": "50ee2919-7d81-4053-803e-d5a27f6d5f42",
   "metadata": {},
   "outputs": [],
   "source": [
    "net.predict(processed_image3)"
   ]
  },
  {
   "cell_type": "code",
   "execution_count": null,
   "id": "f5b768ea-500b-47c5-a8a1-478aeab161b4",
   "metadata": {},
   "outputs": [],
   "source": []
  }
 ],
 "metadata": {
  "jupytext": {
   "formats": "ipynb,py:percent"
  },
  "kernelspec": {
   "display_name": "Python 3 (ipykernel)",
   "language": "python",
   "name": "python3"
  },
  "language_info": {
   "codemirror_mode": {
    "name": "ipython",
    "version": 3
   },
   "file_extension": ".py",
   "mimetype": "text/x-python",
   "name": "python",
   "nbconvert_exporter": "python",
   "pygments_lexer": "ipython3",
   "version": "3.11.4"
  }
 },
 "nbformat": 4,
 "nbformat_minor": 5
}
